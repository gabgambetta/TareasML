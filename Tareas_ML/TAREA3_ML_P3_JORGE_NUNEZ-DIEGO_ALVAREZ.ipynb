{
 "cells": [
  {
   "cell_type": "markdown",
   "metadata": {},
   "source": [
    "<a id=\"tercero\"></a>\n",
    "## 3. Clasificación en texto\n",
    "\n",
    "Un problema muy complejo, en el cual actualmente se esta avanzando a pasos de gigantes en comparación con los avances de hace unos cuantos años, es en la comprehensión de texto, o de lenguaje natural en general. Nuestra manera de construir significado a partir de las palabras es mucho más compleja de lo que nos damos cuenta y supone un gran grado de conocimiento previo que hemos adquirido a lo largo de nuestras vidas. Lograr que una maquina de aprendizaje pueda extraer significado o interpretaciones a partir de un texto es un problema bastante actual, en el cual aún se hacen avances día a día. En esta pregunta utilizaremos una base de datos de texto, extraida de _reviews_ de peliculas en la página IMDB. Cada uno de estos _reviews_ esta etiquetado como positivo o negativo. Nuestra tarea será predecir esta etiqueta a partir de la secuencia de palabras encodeadas como frecuencias de cada ejemplo.\n",
    "\n",
    "<img src=\"https://upload.wikimedia.org/wikipedia/commons/thumb/6/6a/New-imdb-logo.png/1024px-New-imdb-logo.png\"  style=\"height:6cm;\"  />\n",
    "\n",
    "Para esto probaremos distintas técnicas, incluyendo Perceptron, Redes densas _feed forward_ y ensamblados. Si bien ninguna de estas aproximaciones son las usualmente utilizadas en la actualidad para procesamiento de texto (_words embeddings_, redes recurrentes y redes convolucionales, entre muchos otros), esta pregunta servirá como una buena aproximación a las problematicas usualmente encontradas en estas técnicas y al momento de trabajar con texto. "
   ]
  },
  {
   "cell_type": "markdown",
   "metadata": {},
   "source": [
    "#### 3.a Carga de datos y preprocesamientos\n",
    "\n",
    "Cargue los datos. Utilizaremos 45000 de los datos como entrenamiento y el resto como validación. Investigue sobre la base de datos en cuestión y la representación de los datos cargados: ¿qué representa cada entrada de `x_tr`?\n",
    "\n",
    "Comente ligeramente sobre los parámetros `num_words` y `skip_top`. ¿Por qué podría ser deseable eliminar las palabras más comunes?\n",
    "\n",
    "Utilize luego la función `vectorize_sequences` para transformar los inputs del modelo. ¿Qué realiza esta función? ¿Qué valor debería tener el parámetro `dimension` en este caso?  ¿Qué información perdemos y qué información preservamos en esta transformación?"
   ]
  },
  {
   "cell_type": "markdown",
   "metadata": {},
   "source": [
    "#### Clasificación de sentimiento de comentarios de películas IMDB\n",
    "\n",
    "Dataset de 50000 comentarios de películas de IMDB, etiquetados por sentimientos ( positivo/negativo). Los comentarios han sido pre-procesados, y cada comentario esta codificado como una secuencia de palabras indexadas (enteros). Por conveniencia, las palabras están indexadas por frecuencia general en el dataset, por ejemplo, el entero \"3\" codifica la tercera palabra mas frecuente en el dataset. Esto permite filtrar rapidamente, por ejemplo si se quiere considerar las 10.000 palabras mas comunes eliminando las 20 mas comunes. \n",
    "\n",
    "Como convención \"0\", no significa una palabra específica, si no se utiliza para codificar cualquier palabra desconocida\n",
    "\n",
    "##### Retornos\n",
    "\n",
    "- 2 tuplas : \n",
    "    - x_train , x_test : lista de secuencias, las cuales son listas de índices (enteros). Si el argumento\n",
    "      `num_words` fue especificado, el máximo valor de indice posible es `num_words - 1`. Si el argumento             `maxlen` fue especificado, la secuencia mas larga posible es de largo `max_len``\n",
    "    - y_train,y_test: lista de etiquetas enteras (1 o 0)\n",
    "    \n",
    "- Argumentos:\n",
    "    - path : si no tienes la data localmente, será descargada a esta localización\n",
    "    - num_word : Entero o None.Las palabras más frecuentes a tener en cuenta. Cualquier palabra menos                          frecuente aparecerá como valor oov_char en los datos de secuencia.\n",
    "    - skip_top : Entero. Las palabras mas frecuentes a ignorar ( aparecerán como valor oov_char en la                          secuencia de la data\n",
    "    - maxlen: Entero. Largo de máxima secuencia. Una secuencia más larga será truncada \n",
    "    - seed: Semilla para reproducir orden de la data\n",
    "    - start_char: Entero. El inicio de una secuencia se marcará con este carácter. Se establece en 1                   porque 0 suele ser el carácter de relleno.\n",
    "    - oov_char:Entero. Las palabras que fueron cortadas debido al límite num_words o skip_top serán                          reemplazadas con este carácter\n",
    "    - index_from: Entero. Indice palabras reales con este índice y superiores. \n",
    "   \n",
    "#### Eliminar palabras más comunes:\n",
    "- Al eliminar las palabras más comunes se esta simplificando el texto ya que estas corresponderian a conectores       entre plabras las cuales no serian muy relevantes al momento de analizar el texto."
   ]
  },
  {
   "cell_type": "code",
   "execution_count": 2,
   "metadata": {},
   "outputs": [
    {
     "name": "stderr",
     "output_type": "stream",
     "text": [
      "Using TensorFlow backend.\n"
     ]
    }
   ],
   "source": [
    "import numpy as np\n",
    "import pandas as pd\n",
    "from keras.datasets import imdb\n",
    "from keras.preprocessing.sequence import pad_sequences\n",
    "from keras.utils import to_categorical\n",
    "import matplotlib.pyplot as plt \n",
    "import seaborn as sns\n",
    "from sklearn.metrics import accuracy_score\n",
    "from sklearn.model_selection import train_test_split\n"
   ]
  },
  {
   "cell_type": "code",
   "execution_count": 3,
   "metadata": {},
   "outputs": [],
   "source": [
    "import numpy as np\n",
    "# save np.load\n",
    "np_load_old = np.load\n",
    "\n",
    "# modify the default parameters of np.load\n",
    "np.load = lambda *a,**k: np_load_old(*a, allow_pickle=True, **k)\n",
    "n_words = 501\n",
    "(x_tr, y_tr), (x_val, y_val)= imdb.load_data(num_words=n_words, skip_top=5)\n",
    "\n",
    "np.load = np_load_old"
   ]
  },
  {
   "cell_type": "markdown",
   "metadata": {},
   "source": [
    "**Comentario:** Al establecer los párametros \"num_words y skip_top\" se estan considerando las 500 palabras más comunes y se eliminan las 5 top.  "
   ]
  },
  {
   "cell_type": "code",
   "execution_count": 4,
   "metadata": {},
   "outputs": [
    {
     "data": {
      "image/png": "[encoded data removed]",
      "text/plain": [
       "<Figure size 1080x504 with 2 Axes>"
      ]
     },
     "metadata": {
      "needs_background": "light"
     },
     "output_type": "display_data"
    }
   ],
   "source": [
    "phrases_len = []\n",
    "for row in x_tr:\n",
    "    phrases_len.append(len(row))\n",
    "\n",
    "plt.figure(figsize=(15,7))\n",
    "plt.subplot(1,2,1)\n",
    "plt.hist(phrases_len, bins=40)\n",
    "plt.xlabel(\"secuencias\")\n",
    "plt.ylabel(\"Numero de filas\")\n",
    "plt.title(\"Distribucion largos de secuencias de palabras\")\n",
    "\n",
    "plt.subplot(1,2,2)\n",
    "sns.boxplot(phrases_len, labels=[\"Matriz frases\"],orient='v')\n",
    "plt.title(\"Boxplot frecuancia de palabras\")\n",
    "plt.show()"
   ]
  },
  {
   "cell_type": "markdown",
   "metadata": {},
   "source": [
    "**Comentario :** Se observa que el largo de secuencias de palabra más frecuente en la data corresponde a un valor cercano a 200. El grueso de los datos se concentra en valores entre 0 a 500, quedando como outlaiers las secuencias  mayores a 500."
   ]
  },
  {
   "cell_type": "markdown",
   "metadata": {},
   "source": [
    "#### Se procede a concatenar las datas de train y validation para luego dividirlas en un 80 y 20 % respectivamente, evitando asi un posible ordenamiento que podria existir en las datas."
   ]
  },
  {
   "cell_type": "code",
   "execution_count": 5,
   "metadata": {},
   "outputs": [],
   "source": [
    "X = np.hstack((x_tr,x_val))\n",
    "Y = np.hstack((y_tr,y_val))"
   ]
  },
  {
   "cell_type": "code",
   "execution_count": 6,
   "metadata": {},
   "outputs": [],
   "source": [
    "X_train , X_val , Y_train , Y_val = train_test_split(X,Y,test_size=0.1)"
   ]
  },
  {
   "cell_type": "code",
   "execution_count": 7,
   "metadata": {},
   "outputs": [],
   "source": [
    "len_secuen = []\n",
    "for i in range (len(X_train)):\n",
    "    len_secuen.append(len(X_train[i]))"
   ]
  },
  {
   "cell_type": "code",
   "execution_count": 8,
   "metadata": {},
   "outputs": [
    {
     "name": "stdout",
     "output_type": "stream",
     "text": [
      "la secuencia más larga es igual a \n",
      "2494\n"
     ]
    }
   ],
   "source": [
    "max_len_sec=max(len_secuen)\n",
    "print ('la secuencia más larga es igual a ')\n",
    "print(max_len_sec)"
   ]
  },
  {
   "cell_type": "markdown",
   "metadata": {},
   "source": [
    "**Comentario :** Se observa que la secuencia más largo tiene un largo de 2494 caracteres."
   ]
  },
  {
   "cell_type": "code",
   "execution_count": 9,
   "metadata": {},
   "outputs": [],
   "source": [
    "frecuente = []\n",
    "for i in range (len(X_train)):\n",
    "    frecuente.append(max(X_train[i]))\n"
   ]
  },
  {
   "cell_type": "code",
   "execution_count": 10,
   "metadata": {},
   "outputs": [
    {
     "data": {
      "image/png": "[encoded data removed]",
      "text/plain": [
       "<Figure size 1152x504 with 1 Axes>"
      ]
     },
     "metadata": {
      "needs_background": "light"
     },
     "output_type": "display_data"
    }
   ],
   "source": [
    "plt.figure(figsize=(16,7))\n",
    "plt.hist(frecuente)\n",
    "plt.title('Histograma de las distintas frecuencias maximas de palabras.')\n",
    "plt.xlabel('frecuencia máxima de las secuencias')\n",
    "plt.ylabel('cantidad')\n",
    "\n",
    "plt.show()"
   ]
  },
  {
   "cell_type": "markdown",
   "metadata": {},
   "source": [
    "**Comentario :** Se observa que la frecuancia máxima de palabras es 'num_words-1' = 500 como se había determiando anteriormente."
   ]
  },
  {
   "cell_type": "markdown",
   "metadata": {},
   "source": [
    "#### A continuación se procede a vectorizar las distintas secuencias de palabras:\n",
    "- La dimensión debe ser igual al largo de la secuencia más larga."
   ]
  },
  {
   "cell_type": "code",
   "execution_count": 11,
   "metadata": {},
   "outputs": [],
   "source": [
    "def vectorize_sequences(sequences, dimension= n_words ):\n",
    "    results = np.zeros((len(sequences), dimension))\n",
    "    for i, sequence in enumerate(sequences):\n",
    "        results[i, sequence] = 1.\n",
    "    return results\n",
    "\n",
    "x_tr = vectorize_sequences(X_train)\n",
    "x_val = vectorize_sequences(X_val)"
   ]
  },
  {
   "cell_type": "markdown",
   "metadata": {},
   "source": [
    "#### funcion Vectorize_sequences :\n",
    "- Esta función lo que realiza es reordenar las frases asignando un valor igual a 1 si esta presente y 0 en caso de que no lo este, ademas quedán todas las secuencias de igual dimensión.\n",
    "- En base lo a dicho anteriormente se perderia el orden de las palabras"
   ]
  },
  {
   "cell_type": "code",
   "execution_count": 12,
   "metadata": {},
   "outputs": [
    {
     "data": {
      "text/plain": [
       "(45000, 501)"
      ]
     },
     "execution_count": 12,
     "metadata": {},
     "output_type": "execute_result"
    }
   ],
   "source": [
    "x_tr.shape"
   ]
  },
  {
   "cell_type": "code",
   "execution_count": 13,
   "metadata": {},
   "outputs": [
    {
     "data": {
      "text/plain": [
       "(5000, 501)"
      ]
     },
     "execution_count": 13,
     "metadata": {},
     "output_type": "execute_result"
    }
   ],
   "source": [
    "x_val.shape"
   ]
  },
  {
   "cell_type": "code",
   "execution_count": 14,
   "metadata": {},
   "outputs": [],
   "source": [
    "data_tr = pd.DataFrame(x_tr)\n",
    "data_tr['Y_train']= Y_train"
   ]
  },
  {
   "cell_type": "code",
   "execution_count": 15,
   "metadata": {},
   "outputs": [],
   "source": [
    "data_vl = pd.DataFrame(x_val)\n",
    "data_vl['Y_val']= Y_val"
   ]
  },
  {
   "cell_type": "code",
   "execution_count": 16,
   "metadata": {},
   "outputs": [
    {
     "data": {
      "text/html": [
       "<div>\n",
       "<style scoped>\n",
       "    .dataframe tbody tr th:only-of-type {\n",
       "        vertical-align: middle;\n",
       "    }\n",
       "\n",
       "    .dataframe tbody tr th {\n",
       "        vertical-align: top;\n",
       "    }\n",
       "\n",
       "    .dataframe thead th {\n",
       "        text-align: right;\n",
       "    }\n",
       "</style>\n",
       "<table border=\"1\" class=\"dataframe\">\n",
       "  <thead>\n",
       "    <tr style=\"text-align: right;\">\n",
       "      <th></th>\n",
       "      <th>0</th>\n",
       "      <th>1</th>\n",
       "      <th>2</th>\n",
       "      <th>3</th>\n",
       "      <th>4</th>\n",
       "      <th>5</th>\n",
       "      <th>6</th>\n",
       "      <th>7</th>\n",
       "      <th>8</th>\n",
       "      <th>9</th>\n",
       "      <th>...</th>\n",
       "      <th>492</th>\n",
       "      <th>493</th>\n",
       "      <th>494</th>\n",
       "      <th>495</th>\n",
       "      <th>496</th>\n",
       "      <th>497</th>\n",
       "      <th>498</th>\n",
       "      <th>499</th>\n",
       "      <th>500</th>\n",
       "      <th>Y_train</th>\n",
       "    </tr>\n",
       "  </thead>\n",
       "  <tbody>\n",
       "    <tr>\n",
       "      <th>count</th>\n",
       "      <td>45000.0</td>\n",
       "      <td>45000.0</td>\n",
       "      <td>45000.0</td>\n",
       "      <td>45000.0</td>\n",
       "      <td>45000.0</td>\n",
       "      <td>45000.000000</td>\n",
       "      <td>45000.000000</td>\n",
       "      <td>45000.000000</td>\n",
       "      <td>45000.000000</td>\n",
       "      <td>45000.000000</td>\n",
       "      <td>...</td>\n",
       "      <td>45000.000000</td>\n",
       "      <td>45000.000000</td>\n",
       "      <td>45000.000000</td>\n",
       "      <td>45000.000000</td>\n",
       "      <td>45000.000000</td>\n",
       "      <td>45000.000000</td>\n",
       "      <td>45000.000000</td>\n",
       "      <td>45000.000000</td>\n",
       "      <td>45000.000000</td>\n",
       "      <td>45000.000000</td>\n",
       "    </tr>\n",
       "    <tr>\n",
       "      <th>mean</th>\n",
       "      <td>0.0</td>\n",
       "      <td>0.0</td>\n",
       "      <td>1.0</td>\n",
       "      <td>0.0</td>\n",
       "      <td>0.0</td>\n",
       "      <td>0.965911</td>\n",
       "      <td>0.966644</td>\n",
       "      <td>0.948511</td>\n",
       "      <td>0.939867</td>\n",
       "      <td>0.893756</td>\n",
       "      <td>...</td>\n",
       "      <td>0.035556</td>\n",
       "      <td>0.043844</td>\n",
       "      <td>0.043556</td>\n",
       "      <td>0.045156</td>\n",
       "      <td>0.043356</td>\n",
       "      <td>0.042933</td>\n",
       "      <td>0.038378</td>\n",
       "      <td>0.043933</td>\n",
       "      <td>0.029022</td>\n",
       "      <td>0.499733</td>\n",
       "    </tr>\n",
       "    <tr>\n",
       "      <th>std</th>\n",
       "      <td>0.0</td>\n",
       "      <td>0.0</td>\n",
       "      <td>0.0</td>\n",
       "      <td>0.0</td>\n",
       "      <td>0.0</td>\n",
       "      <td>0.181460</td>\n",
       "      <td>0.179565</td>\n",
       "      <td>0.220995</td>\n",
       "      <td>0.237736</td>\n",
       "      <td>0.308154</td>\n",
       "      <td>...</td>\n",
       "      <td>0.185181</td>\n",
       "      <td>0.204751</td>\n",
       "      <td>0.204106</td>\n",
       "      <td>0.207648</td>\n",
       "      <td>0.203658</td>\n",
       "      <td>0.202709</td>\n",
       "      <td>0.192109</td>\n",
       "      <td>0.204949</td>\n",
       "      <td>0.167871</td>\n",
       "      <td>0.500005</td>\n",
       "    </tr>\n",
       "    <tr>\n",
       "      <th>min</th>\n",
       "      <td>0.0</td>\n",
       "      <td>0.0</td>\n",
       "      <td>1.0</td>\n",
       "      <td>0.0</td>\n",
       "      <td>0.0</td>\n",
       "      <td>0.000000</td>\n",
       "      <td>0.000000</td>\n",
       "      <td>0.000000</td>\n",
       "      <td>0.000000</td>\n",
       "      <td>0.000000</td>\n",
       "      <td>...</td>\n",
       "      <td>0.000000</td>\n",
       "      <td>0.000000</td>\n",
       "      <td>0.000000</td>\n",
       "      <td>0.000000</td>\n",
       "      <td>0.000000</td>\n",
       "      <td>0.000000</td>\n",
       "      <td>0.000000</td>\n",
       "      <td>0.000000</td>\n",
       "      <td>0.000000</td>\n",
       "      <td>0.000000</td>\n",
       "    </tr>\n",
       "    <tr>\n",
       "      <th>25%</th>\n",
       "      <td>0.0</td>\n",
       "      <td>0.0</td>\n",
       "      <td>1.0</td>\n",
       "      <td>0.0</td>\n",
       "      <td>0.0</td>\n",
       "      <td>1.000000</td>\n",
       "      <td>1.000000</td>\n",
       "      <td>1.000000</td>\n",
       "      <td>1.000000</td>\n",
       "      <td>1.000000</td>\n",
       "      <td>...</td>\n",
       "      <td>0.000000</td>\n",
       "      <td>0.000000</td>\n",
       "      <td>0.000000</td>\n",
       "      <td>0.000000</td>\n",
       "      <td>0.000000</td>\n",
       "      <td>0.000000</td>\n",
       "      <td>0.000000</td>\n",
       "      <td>0.000000</td>\n",
       "      <td>0.000000</td>\n",
       "      <td>0.000000</td>\n",
       "    </tr>\n",
       "    <tr>\n",
       "      <th>50%</th>\n",
       "      <td>0.0</td>\n",
       "      <td>0.0</td>\n",
       "      <td>1.0</td>\n",
       "      <td>0.0</td>\n",
       "      <td>0.0</td>\n",
       "      <td>1.000000</td>\n",
       "      <td>1.000000</td>\n",
       "      <td>1.000000</td>\n",
       "      <td>1.000000</td>\n",
       "      <td>1.000000</td>\n",
       "      <td>...</td>\n",
       "      <td>0.000000</td>\n",
       "      <td>0.000000</td>\n",
       "      <td>0.000000</td>\n",
       "      <td>0.000000</td>\n",
       "      <td>0.000000</td>\n",
       "      <td>0.000000</td>\n",
       "      <td>0.000000</td>\n",
       "      <td>0.000000</td>\n",
       "      <td>0.000000</td>\n",
       "      <td>0.000000</td>\n",
       "    </tr>\n",
       "    <tr>\n",
       "      <th>75%</th>\n",
       "      <td>0.0</td>\n",
       "      <td>0.0</td>\n",
       "      <td>1.0</td>\n",
       "      <td>0.0</td>\n",
       "      <td>0.0</td>\n",
       "      <td>1.000000</td>\n",
       "      <td>1.000000</td>\n",
       "      <td>1.000000</td>\n",
       "      <td>1.000000</td>\n",
       "      <td>1.000000</td>\n",
       "      <td>...</td>\n",
       "      <td>0.000000</td>\n",
       "      <td>0.000000</td>\n",
       "      <td>0.000000</td>\n",
       "      <td>0.000000</td>\n",
       "      <td>0.000000</td>\n",
       "      <td>0.000000</td>\n",
       "      <td>0.000000</td>\n",
       "      <td>0.000000</td>\n",
       "      <td>0.000000</td>\n",
       "      <td>1.000000</td>\n",
       "    </tr>\n",
       "    <tr>\n",
       "      <th>max</th>\n",
       "      <td>0.0</td>\n",
       "      <td>0.0</td>\n",
       "      <td>1.0</td>\n",
       "      <td>0.0</td>\n",
       "      <td>0.0</td>\n",
       "      <td>1.000000</td>\n",
       "      <td>1.000000</td>\n",
       "      <td>1.000000</td>\n",
       "      <td>1.000000</td>\n",
       "      <td>1.000000</td>\n",
       "      <td>...</td>\n",
       "      <td>1.000000</td>\n",
       "      <td>1.000000</td>\n",
       "      <td>1.000000</td>\n",
       "      <td>1.000000</td>\n",
       "      <td>1.000000</td>\n",
       "      <td>1.000000</td>\n",
       "      <td>1.000000</td>\n",
       "      <td>1.000000</td>\n",
       "      <td>1.000000</td>\n",
       "      <td>1.000000</td>\n",
       "    </tr>\n",
       "  </tbody>\n",
       "</table>\n",
       "<p>8 rows × 502 columns</p>\n",
       "</div>"
      ],
      "text/plain": [
       "             0        1        2        3        4             5  \\\n",
       "count  45000.0  45000.0  45000.0  45000.0  45000.0  45000.000000   \n",
       "mean       0.0      0.0      1.0      0.0      0.0      0.965911   \n",
       "std        0.0      0.0      0.0      0.0      0.0      0.181460   \n",
       "min        0.0      0.0      1.0      0.0      0.0      0.000000   \n",
       "25%        0.0      0.0      1.0      0.0      0.0      1.000000   \n",
       "50%        0.0      0.0      1.0      0.0      0.0      1.000000   \n",
       "75%        0.0      0.0      1.0      0.0      0.0      1.000000   \n",
       "max        0.0      0.0      1.0      0.0      0.0      1.000000   \n",
       "\n",
       "                  6             7             8             9  ...  \\\n",
       "count  45000.000000  45000.000000  45000.000000  45000.000000  ...   \n",
       "mean       0.966644      0.948511      0.939867      0.893756  ...   \n",
       "std        0.179565      0.220995      0.237736      0.308154  ...   \n",
       "min        0.000000      0.000000      0.000000      0.000000  ...   \n",
       "25%        1.000000      1.000000      1.000000      1.000000  ...   \n",
       "50%        1.000000      1.000000      1.000000      1.000000  ...   \n",
       "75%        1.000000      1.000000      1.000000      1.000000  ...   \n",
       "max        1.000000      1.000000      1.000000      1.000000  ...   \n",
       "\n",
       "                492           493           494           495           496  \\\n",
       "count  45000.000000  45000.000000  45000.000000  45000.000000  45000.000000   \n",
       "mean       0.035556      0.043844      0.043556      0.045156      0.043356   \n",
       "std        0.185181      0.204751      0.204106      0.207648      0.203658   \n",
       "min        0.000000      0.000000      0.000000      0.000000      0.000000   \n",
       "25%        0.000000      0.000000      0.000000      0.000000      0.000000   \n",
       "50%        0.000000      0.000000      0.000000      0.000000      0.000000   \n",
       "75%        0.000000      0.000000      0.000000      0.000000      0.000000   \n",
       "max        1.000000      1.000000      1.000000      1.000000      1.000000   \n",
       "\n",
       "                497           498           499           500       Y_train  \n",
       "count  45000.000000  45000.000000  45000.000000  45000.000000  45000.000000  \n",
       "mean       0.042933      0.038378      0.043933      0.029022      0.499733  \n",
       "std        0.202709      0.192109      0.204949      0.167871      0.500005  \n",
       "min        0.000000      0.000000      0.000000      0.000000      0.000000  \n",
       "25%        0.000000      0.000000      0.000000      0.000000      0.000000  \n",
       "50%        0.000000      0.000000      0.000000      0.000000      0.000000  \n",
       "75%        0.000000      0.000000      0.000000      0.000000      1.000000  \n",
       "max        1.000000      1.000000      1.000000      1.000000      1.000000  \n",
       "\n",
       "[8 rows x 502 columns]"
      ]
     },
     "execution_count": 16,
     "metadata": {},
     "output_type": "execute_result"
    }
   ],
   "source": [
    "data_tr.describe()"
   ]
  },
  {
   "cell_type": "code",
   "execution_count": 17,
   "metadata": {},
   "outputs": [
    {
     "data": {
      "text/html": [
       "<div>\n",
       "<style scoped>\n",
       "    .dataframe tbody tr th:only-of-type {\n",
       "        vertical-align: middle;\n",
       "    }\n",
       "\n",
       "    .dataframe tbody tr th {\n",
       "        vertical-align: top;\n",
       "    }\n",
       "\n",
       "    .dataframe thead th {\n",
       "        text-align: right;\n",
       "    }\n",
       "</style>\n",
       "<table border=\"1\" class=\"dataframe\">\n",
       "  <thead>\n",
       "    <tr style=\"text-align: right;\">\n",
       "      <th></th>\n",
       "      <th>0</th>\n",
       "      <th>1</th>\n",
       "      <th>2</th>\n",
       "      <th>3</th>\n",
       "      <th>4</th>\n",
       "      <th>5</th>\n",
       "      <th>6</th>\n",
       "      <th>7</th>\n",
       "      <th>8</th>\n",
       "      <th>9</th>\n",
       "      <th>...</th>\n",
       "      <th>492</th>\n",
       "      <th>493</th>\n",
       "      <th>494</th>\n",
       "      <th>495</th>\n",
       "      <th>496</th>\n",
       "      <th>497</th>\n",
       "      <th>498</th>\n",
       "      <th>499</th>\n",
       "      <th>500</th>\n",
       "      <th>Y_val</th>\n",
       "    </tr>\n",
       "  </thead>\n",
       "  <tbody>\n",
       "    <tr>\n",
       "      <th>count</th>\n",
       "      <td>5000.0</td>\n",
       "      <td>5000.0</td>\n",
       "      <td>5000.0</td>\n",
       "      <td>5000.0</td>\n",
       "      <td>5000.0</td>\n",
       "      <td>5000.000000</td>\n",
       "      <td>5000.000000</td>\n",
       "      <td>5000.000000</td>\n",
       "      <td>5000.000000</td>\n",
       "      <td>5000.000000</td>\n",
       "      <td>...</td>\n",
       "      <td>5000.000000</td>\n",
       "      <td>5000.000000</td>\n",
       "      <td>5000.000000</td>\n",
       "      <td>5000.000000</td>\n",
       "      <td>5000.000000</td>\n",
       "      <td>5000.000000</td>\n",
       "      <td>5000.000000</td>\n",
       "      <td>5000.00000</td>\n",
       "      <td>5000.000000</td>\n",
       "      <td>5000.000000</td>\n",
       "    </tr>\n",
       "    <tr>\n",
       "      <th>mean</th>\n",
       "      <td>0.0</td>\n",
       "      <td>0.0</td>\n",
       "      <td>1.0</td>\n",
       "      <td>0.0</td>\n",
       "      <td>0.0</td>\n",
       "      <td>0.967000</td>\n",
       "      <td>0.965600</td>\n",
       "      <td>0.950200</td>\n",
       "      <td>0.937000</td>\n",
       "      <td>0.901200</td>\n",
       "      <td>...</td>\n",
       "      <td>0.037600</td>\n",
       "      <td>0.047800</td>\n",
       "      <td>0.047200</td>\n",
       "      <td>0.040000</td>\n",
       "      <td>0.044000</td>\n",
       "      <td>0.043600</td>\n",
       "      <td>0.041200</td>\n",
       "      <td>0.04700</td>\n",
       "      <td>0.029000</td>\n",
       "      <td>0.502400</td>\n",
       "    </tr>\n",
       "    <tr>\n",
       "      <th>std</th>\n",
       "      <td>0.0</td>\n",
       "      <td>0.0</td>\n",
       "      <td>0.0</td>\n",
       "      <td>0.0</td>\n",
       "      <td>0.0</td>\n",
       "      <td>0.178654</td>\n",
       "      <td>0.182273</td>\n",
       "      <td>0.217553</td>\n",
       "      <td>0.242987</td>\n",
       "      <td>0.298423</td>\n",
       "      <td>...</td>\n",
       "      <td>0.190246</td>\n",
       "      <td>0.213364</td>\n",
       "      <td>0.212088</td>\n",
       "      <td>0.195979</td>\n",
       "      <td>0.205116</td>\n",
       "      <td>0.204224</td>\n",
       "      <td>0.198772</td>\n",
       "      <td>0.21166</td>\n",
       "      <td>0.167823</td>\n",
       "      <td>0.500044</td>\n",
       "    </tr>\n",
       "    <tr>\n",
       "      <th>min</th>\n",
       "      <td>0.0</td>\n",
       "      <td>0.0</td>\n",
       "      <td>1.0</td>\n",
       "      <td>0.0</td>\n",
       "      <td>0.0</td>\n",
       "      <td>0.000000</td>\n",
       "      <td>0.000000</td>\n",
       "      <td>0.000000</td>\n",
       "      <td>0.000000</td>\n",
       "      <td>0.000000</td>\n",
       "      <td>...</td>\n",
       "      <td>0.000000</td>\n",
       "      <td>0.000000</td>\n",
       "      <td>0.000000</td>\n",
       "      <td>0.000000</td>\n",
       "      <td>0.000000</td>\n",
       "      <td>0.000000</td>\n",
       "      <td>0.000000</td>\n",
       "      <td>0.00000</td>\n",
       "      <td>0.000000</td>\n",
       "      <td>0.000000</td>\n",
       "    </tr>\n",
       "    <tr>\n",
       "      <th>25%</th>\n",
       "      <td>0.0</td>\n",
       "      <td>0.0</td>\n",
       "      <td>1.0</td>\n",
       "      <td>0.0</td>\n",
       "      <td>0.0</td>\n",
       "      <td>1.000000</td>\n",
       "      <td>1.000000</td>\n",
       "      <td>1.000000</td>\n",
       "      <td>1.000000</td>\n",
       "      <td>1.000000</td>\n",
       "      <td>...</td>\n",
       "      <td>0.000000</td>\n",
       "      <td>0.000000</td>\n",
       "      <td>0.000000</td>\n",
       "      <td>0.000000</td>\n",
       "      <td>0.000000</td>\n",
       "      <td>0.000000</td>\n",
       "      <td>0.000000</td>\n",
       "      <td>0.00000</td>\n",
       "      <td>0.000000</td>\n",
       "      <td>0.000000</td>\n",
       "    </tr>\n",
       "    <tr>\n",
       "      <th>50%</th>\n",
       "      <td>0.0</td>\n",
       "      <td>0.0</td>\n",
       "      <td>1.0</td>\n",
       "      <td>0.0</td>\n",
       "      <td>0.0</td>\n",
       "      <td>1.000000</td>\n",
       "      <td>1.000000</td>\n",
       "      <td>1.000000</td>\n",
       "      <td>1.000000</td>\n",
       "      <td>1.000000</td>\n",
       "      <td>...</td>\n",
       "      <td>0.000000</td>\n",
       "      <td>0.000000</td>\n",
       "      <td>0.000000</td>\n",
       "      <td>0.000000</td>\n",
       "      <td>0.000000</td>\n",
       "      <td>0.000000</td>\n",
       "      <td>0.000000</td>\n",
       "      <td>0.00000</td>\n",
       "      <td>0.000000</td>\n",
       "      <td>1.000000</td>\n",
       "    </tr>\n",
       "    <tr>\n",
       "      <th>75%</th>\n",
       "      <td>0.0</td>\n",
       "      <td>0.0</td>\n",
       "      <td>1.0</td>\n",
       "      <td>0.0</td>\n",
       "      <td>0.0</td>\n",
       "      <td>1.000000</td>\n",
       "      <td>1.000000</td>\n",
       "      <td>1.000000</td>\n",
       "      <td>1.000000</td>\n",
       "      <td>1.000000</td>\n",
       "      <td>...</td>\n",
       "      <td>0.000000</td>\n",
       "      <td>0.000000</td>\n",
       "      <td>0.000000</td>\n",
       "      <td>0.000000</td>\n",
       "      <td>0.000000</td>\n",
       "      <td>0.000000</td>\n",
       "      <td>0.000000</td>\n",
       "      <td>0.00000</td>\n",
       "      <td>0.000000</td>\n",
       "      <td>1.000000</td>\n",
       "    </tr>\n",
       "    <tr>\n",
       "      <th>max</th>\n",
       "      <td>0.0</td>\n",
       "      <td>0.0</td>\n",
       "      <td>1.0</td>\n",
       "      <td>0.0</td>\n",
       "      <td>0.0</td>\n",
       "      <td>1.000000</td>\n",
       "      <td>1.000000</td>\n",
       "      <td>1.000000</td>\n",
       "      <td>1.000000</td>\n",
       "      <td>1.000000</td>\n",
       "      <td>...</td>\n",
       "      <td>1.000000</td>\n",
       "      <td>1.000000</td>\n",
       "      <td>1.000000</td>\n",
       "      <td>1.000000</td>\n",
       "      <td>1.000000</td>\n",
       "      <td>1.000000</td>\n",
       "      <td>1.000000</td>\n",
       "      <td>1.00000</td>\n",
       "      <td>1.000000</td>\n",
       "      <td>1.000000</td>\n",
       "    </tr>\n",
       "  </tbody>\n",
       "</table>\n",
       "<p>8 rows × 502 columns</p>\n",
       "</div>"
      ],
      "text/plain": [
       "            0       1       2       3       4            5            6  \\\n",
       "count  5000.0  5000.0  5000.0  5000.0  5000.0  5000.000000  5000.000000   \n",
       "mean      0.0     0.0     1.0     0.0     0.0     0.967000     0.965600   \n",
       "std       0.0     0.0     0.0     0.0     0.0     0.178654     0.182273   \n",
       "min       0.0     0.0     1.0     0.0     0.0     0.000000     0.000000   \n",
       "25%       0.0     0.0     1.0     0.0     0.0     1.000000     1.000000   \n",
       "50%       0.0     0.0     1.0     0.0     0.0     1.000000     1.000000   \n",
       "75%       0.0     0.0     1.0     0.0     0.0     1.000000     1.000000   \n",
       "max       0.0     0.0     1.0     0.0     0.0     1.000000     1.000000   \n",
       "\n",
       "                 7            8            9  ...          492          493  \\\n",
       "count  5000.000000  5000.000000  5000.000000  ...  5000.000000  5000.000000   \n",
       "mean      0.950200     0.937000     0.901200  ...     0.037600     0.047800   \n",
       "std       0.217553     0.242987     0.298423  ...     0.190246     0.213364   \n",
       "min       0.000000     0.000000     0.000000  ...     0.000000     0.000000   \n",
       "25%       1.000000     1.000000     1.000000  ...     0.000000     0.000000   \n",
       "50%       1.000000     1.000000     1.000000  ...     0.000000     0.000000   \n",
       "75%       1.000000     1.000000     1.000000  ...     0.000000     0.000000   \n",
       "max       1.000000     1.000000     1.000000  ...     1.000000     1.000000   \n",
       "\n",
       "               494          495          496          497          498  \\\n",
       "count  5000.000000  5000.000000  5000.000000  5000.000000  5000.000000   \n",
       "mean      0.047200     0.040000     0.044000     0.043600     0.041200   \n",
       "std       0.212088     0.195979     0.205116     0.204224     0.198772   \n",
       "min       0.000000     0.000000     0.000000     0.000000     0.000000   \n",
       "25%       0.000000     0.000000     0.000000     0.000000     0.000000   \n",
       "50%       0.000000     0.000000     0.000000     0.000000     0.000000   \n",
       "75%       0.000000     0.000000     0.000000     0.000000     0.000000   \n",
       "max       1.000000     1.000000     1.000000     1.000000     1.000000   \n",
       "\n",
       "              499          500        Y_val  \n",
       "count  5000.00000  5000.000000  5000.000000  \n",
       "mean      0.04700     0.029000     0.502400  \n",
       "std       0.21166     0.167823     0.500044  \n",
       "min       0.00000     0.000000     0.000000  \n",
       "25%       0.00000     0.000000     0.000000  \n",
       "50%       0.00000     0.000000     1.000000  \n",
       "75%       0.00000     0.000000     1.000000  \n",
       "max       1.00000     1.000000     1.000000  \n",
       "\n",
       "[8 rows x 502 columns]"
      ]
     },
     "execution_count": 17,
     "metadata": {},
     "output_type": "execute_result"
    }
   ],
   "source": [
    "data_vl.describe()"
   ]
  },
  {
   "cell_type": "markdown",
   "metadata": {},
   "source": [
    "**Comentario :** Se crean los DataFrame para facilitar la visualización de los resultados obtenidos con la función vectorize_sequences."
   ]
  },
  {
   "cell_type": "markdown",
   "metadata": {},
   "source": [
    "#### 3.b Perceptrón **(Opcional)**\n",
    "Entrene un perceptrón con activación sigmoidea, optimizador _Stochastic Gradient Descent_, por a lo menos 15 _epochs_, como muestra el código siguiente. \n",
    "\n",
    "Discuta sobre la dimensión de `x_tr` y la cantidad de parámetros del modelo deacuerdo al método `.summary` del modelo. \n",
    "\n",
    "Grafique el error o el _accuracy_ segun su preferencia, tanto sobre entrenamiento como validación, a medida pasan los _epochs_. Note esta información puede obtenerla desde `history.history`."
   ]
  },
  {
   "cell_type": "code",
   "execution_count": 24,
   "metadata": {},
   "outputs": [],
   "source": [
    "from keras.models import Sequential\n",
    "from keras.layers import Dense"
   ]
  },
  {
   "cell_type": "code",
   "execution_count": 46,
   "metadata": {},
   "outputs": [
    {
     "name": "stdout",
     "output_type": "stream",
     "text": [
      "Train on 45000 samples, validate on 5000 samples\n",
      "Epoch 1/50\n",
      "45000/45000 [==============================] - 4s 78us/step - loss: 0.5684 - acc: 0.7179 - val_loss: 0.4887 - val_acc: 0.7980\n",
      "Epoch 2/50\n",
      "45000/45000 [==============================] - 3s 71us/step - loss: 0.4660 - acc: 0.7995 - val_loss: 0.4389 - val_acc: 0.8218\n",
      "Epoch 3/50\n",
      "45000/45000 [==============================] - 3s 62us/step - loss: 0.4324 - acc: 0.8134 - val_loss: 0.4175 - val_acc: 0.8260\n",
      "Epoch 4/50\n",
      "45000/45000 [==============================] - 3s 65us/step - loss: 0.4152 - acc: 0.8209 - val_loss: 0.4034 - val_acc: 0.8296\n",
      "Epoch 5/50\n",
      "45000/45000 [==============================] - 3s 69us/step - loss: 0.4043 - acc: 0.8246 - val_loss: 0.3950 - val_acc: 0.8324\n",
      "Epoch 6/50\n",
      "45000/45000 [==============================] - 3s 67us/step - loss: 0.3967 - acc: 0.8286 - val_loss: 0.3900 - val_acc: 0.8358\n",
      "Epoch 7/50\n",
      "45000/45000 [==============================] - 3s 75us/step - loss: 0.3912 - acc: 0.8300 - val_loss: 0.3844 - val_acc: 0.8388\n",
      "Epoch 8/50\n",
      "45000/45000 [==============================] - 3s 68us/step - loss: 0.3870 - acc: 0.8322 - val_loss: 0.3810 - val_acc: 0.8406\n",
      "Epoch 9/50\n",
      "45000/45000 [==============================] - 3s 71us/step - loss: 0.3837 - acc: 0.8343 - val_loss: 0.3790 - val_acc: 0.8392\n",
      "Epoch 10/50\n",
      "45000/45000 [==============================] - 3s 68us/step - loss: 0.3811 - acc: 0.8343 - val_loss: 0.3763 - val_acc: 0.8452\n",
      "Epoch 11/50\n",
      "45000/45000 [==============================] - 3s 67us/step - loss: 0.3789 - acc: 0.8344 - val_loss: 0.3748 - val_acc: 0.8444\n",
      "Epoch 12/50\n",
      "45000/45000 [==============================] - 3s 69us/step - loss: 0.3772 - acc: 0.8358 - val_loss: 0.3733 - val_acc: 0.8460\n",
      "Epoch 13/50\n",
      "45000/45000 [==============================] - 3s 68us/step - loss: 0.3757 - acc: 0.8358 - val_loss: 0.3729 - val_acc: 0.8452\n",
      "Epoch 14/50\n",
      "45000/45000 [==============================] - 3s 65us/step - loss: 0.3744 - acc: 0.8362 - val_loss: 0.3712 - val_acc: 0.8450\n",
      "Epoch 15/50\n",
      "45000/45000 [==============================] - 3s 70us/step - loss: 0.3733 - acc: 0.8370 - val_loss: 0.3707 - val_acc: 0.8460\n",
      "Epoch 16/50\n",
      "45000/45000 [==============================] - 3s 69us/step - loss: 0.3725 - acc: 0.8376 - val_loss: 0.3697 - val_acc: 0.8454\n",
      "Epoch 17/50\n",
      "45000/45000 [==============================] - 3s 73us/step - loss: 0.3717 - acc: 0.8375 - val_loss: 0.3693 - val_acc: 0.8462\n",
      "Epoch 18/50\n",
      "45000/45000 [==============================] - 3s 63us/step - loss: 0.3708 - acc: 0.8384 - val_loss: 0.3696 - val_acc: 0.8460\n",
      "Epoch 19/50\n",
      "45000/45000 [==============================] - 3s 60us/step - loss: 0.3705 - acc: 0.8390 - val_loss: 0.3688 - val_acc: 0.8468\n",
      "Epoch 20/50\n",
      "45000/45000 [==============================] - 3s 66us/step - loss: 0.3699 - acc: 0.8386 - val_loss: 0.3684 - val_acc: 0.8470\n",
      "Epoch 21/50\n",
      "45000/45000 [==============================] - 3s 61us/step - loss: 0.3695 - acc: 0.8386 - val_loss: 0.3680 - val_acc: 0.8464\n",
      "Epoch 22/50\n",
      "45000/45000 [==============================] - 3s 61us/step - loss: 0.3692 - acc: 0.8386 - val_loss: 0.3679 - val_acc: 0.8460\n",
      "Epoch 23/50\n",
      "45000/45000 [==============================] - 3s 60us/step - loss: 0.3687 - acc: 0.8390 - val_loss: 0.3675 - val_acc: 0.8450\n",
      "Epoch 24/50\n",
      "45000/45000 [==============================] - 3s 62us/step - loss: 0.3684 - acc: 0.8392 - val_loss: 0.3675 - val_acc: 0.8452\n",
      "Epoch 25/50\n",
      "45000/45000 [==============================] - 3s 61us/step - loss: 0.3682 - acc: 0.8392 - val_loss: 0.3680 - val_acc: 0.8454\n",
      "Epoch 26/50\n",
      "45000/45000 [==============================] - 3s 69us/step - loss: 0.3679 - acc: 0.8390 - val_loss: 0.3678 - val_acc: 0.8456\n",
      "Epoch 27/50\n",
      "45000/45000 [==============================] - 3s 60us/step - loss: 0.3678 - acc: 0.8396 - val_loss: 0.3669 - val_acc: 0.8460\n",
      "Epoch 28/50\n",
      "45000/45000 [==============================] - 3s 76us/step - loss: 0.3675 - acc: 0.8397 - val_loss: 0.3669 - val_acc: 0.8452\n",
      "Epoch 29/50\n",
      "45000/45000 [==============================] - 3s 73us/step - loss: 0.3673 - acc: 0.8390 - val_loss: 0.3674 - val_acc: 0.8456\n",
      "Epoch 30/50\n",
      "45000/45000 [==============================] - 3s 66us/step - loss: 0.3672 - acc: 0.8394 - val_loss: 0.3671 - val_acc: 0.8460\n",
      "Epoch 31/50\n",
      "45000/45000 [==============================] - 4s 80us/step - loss: 0.3670 - acc: 0.8396 - val_loss: 0.3667 - val_acc: 0.8456\n",
      "Epoch 32/50\n",
      "45000/45000 [==============================] - 3s 65us/step - loss: 0.3669 - acc: 0.8394 - val_loss: 0.3666 - val_acc: 0.8460\n",
      "Epoch 33/50\n",
      "45000/45000 [==============================] - 3s 64us/step - loss: 0.3669 - acc: 0.8399 - val_loss: 0.3666 - val_acc: 0.8452\n",
      "Epoch 34/50\n",
      "45000/45000 [==============================] - 3s 61us/step - loss: 0.3668 - acc: 0.8393 - val_loss: 0.3671 - val_acc: 0.8452\n",
      "Epoch 35/50\n",
      "45000/45000 [==============================] - 3s 69us/step - loss: 0.3667 - acc: 0.8398 - val_loss: 0.3667 - val_acc: 0.8460\n",
      "Epoch 36/50\n",
      "45000/45000 [==============================] - 3s 65us/step - loss: 0.3666 - acc: 0.8401 - val_loss: 0.3665 - val_acc: 0.8444\n",
      "Epoch 37/50\n",
      "45000/45000 [==============================] - 3s 71us/step - loss: 0.3665 - acc: 0.8402 - val_loss: 0.3667 - val_acc: 0.8450\n",
      "Epoch 38/50\n",
      "45000/45000 [==============================] - 3s 69us/step - loss: 0.3665 - acc: 0.8398 - val_loss: 0.3667 - val_acc: 0.8452\n",
      "Epoch 39/50\n",
      "45000/45000 [==============================] - 3s 61us/step - loss: 0.3664 - acc: 0.8403 - val_loss: 0.3666 - val_acc: 0.8458\n",
      "Epoch 40/50\n",
      "45000/45000 [==============================] - 3s 69us/step - loss: 0.3663 - acc: 0.8403 - val_loss: 0.3667 - val_acc: 0.8456\n",
      "Epoch 41/50\n",
      "45000/45000 [==============================] - 3s 73us/step - loss: 0.3664 - acc: 0.8408 - val_loss: 0.3667 - val_acc: 0.8456\n",
      "Epoch 42/50\n",
      "45000/45000 [==============================] - 2s 53us/step - loss: 0.3662 - acc: 0.8396 - val_loss: 0.3667 - val_acc: 0.8456\n",
      "Epoch 43/50\n",
      "45000/45000 [==============================] - 4s 84us/step - loss: 0.3662 - acc: 0.8406 - val_loss: 0.3673 - val_acc: 0.8444\n",
      "Epoch 44/50\n",
      "45000/45000 [==============================] - 3s 62us/step - loss: 0.3661 - acc: 0.8402 - val_loss: 0.3667 - val_acc: 0.8456\n",
      "Epoch 45/50\n",
      "45000/45000 [==============================] - 3s 60us/step - loss: 0.3661 - acc: 0.8408 - val_loss: 0.3686 - val_acc: 0.8410\n",
      "Epoch 46/50\n",
      "45000/45000 [==============================] - 2s 52us/step - loss: 0.3660 - acc: 0.8400 - val_loss: 0.3667 - val_acc: 0.8462\n",
      "Epoch 47/50\n",
      "45000/45000 [==============================] - 3s 59us/step - loss: 0.3660 - acc: 0.8400 - val_loss: 0.3667 - val_acc: 0.8460\n",
      "Epoch 48/50\n",
      "45000/45000 [==============================] - 3s 57us/step - loss: 0.3660 - acc: 0.8401 - val_loss: 0.3677 - val_acc: 0.8438\n",
      "Epoch 49/50\n",
      "45000/45000 [==============================] - 3s 66us/step - loss: 0.3660 - acc: 0.8406 - val_loss: 0.3669 - val_acc: 0.8444\n",
      "Epoch 50/50\n",
      "45000/45000 [==============================] - 3s 59us/step - loss: 0.3660 - acc: 0.8399 - val_loss: 0.3668 - val_acc: 0.8462\n",
      "_________________________________________________________________\n",
      "Layer (type)                 Output Shape              Param #   \n",
      "=================================================================\n",
      "dense_6 (Dense)              (None, 1)                 502       \n",
      "=================================================================\n",
      "Total params: 502\n",
      "Trainable params: 502\n",
      "Non-trainable params: 0\n",
      "_________________________________________________________________\n"
     ]
    }
   ],
   "source": [
    "per = Sequential()\n",
    "per.add(Dense(1,activation='sigmoid'))\n",
    "per.compile('sgd',loss='binary_crossentropy',metrics=['accuracy'])\n",
    "history1 = per.fit(x_tr,Y_train, epochs=50, validation_data=(x_val,Y_val))\n",
    "per.summary()"
   ]
  },
  {
   "cell_type": "code",
   "execution_count": 49,
   "metadata": {},
   "outputs": [],
   "source": [
    "train_loss1 = history1.history['loss']\n",
    "val_loss1 = history1.history['val_loss']"
   ]
  },
  {
   "cell_type": "code",
   "execution_count": 79,
   "metadata": {
    "collapsed": true
   },
   "outputs": [
    {
     "data": {
      "text/plain": [
       "[0.798,\n",
       " 0.8218,\n",
       " 0.826,\n",
       " 0.8296,\n",
       " 0.8324,\n",
       " 0.8358,\n",
       " 0.8388,\n",
       " 0.8406,\n",
       " 0.8392,\n",
       " 0.8452,\n",
       " 0.8444,\n",
       " 0.846,\n",
       " 0.8452,\n",
       " 0.845,\n",
       " 0.846,\n",
       " 0.8454,\n",
       " 0.8462,\n",
       " 0.846,\n",
       " 0.8468,\n",
       " 0.847,\n",
       " 0.8464,\n",
       " 0.846,\n",
       " 0.845,\n",
       " 0.8452,\n",
       " 0.8454,\n",
       " 0.8456,\n",
       " 0.846,\n",
       " 0.8452,\n",
       " 0.8456,\n",
       " 0.846,\n",
       " 0.8456,\n",
       " 0.846,\n",
       " 0.8452,\n",
       " 0.8452,\n",
       " 0.846,\n",
       " 0.8444,\n",
       " 0.845,\n",
       " 0.8452,\n",
       " 0.8458,\n",
       " 0.8456,\n",
       " 0.8456,\n",
       " 0.8456,\n",
       " 0.8444,\n",
       " 0.8456,\n",
       " 0.841,\n",
       " 0.8462,\n",
       " 0.846,\n",
       " 0.8438,\n",
       " 0.8444,\n",
       " 0.8462]"
      ]
     },
     "execution_count": 79,
     "metadata": {},
     "output_type": "execute_result"
    }
   ],
   "source": [
    "history1.history['val_acc']"
   ]
  },
  {
   "cell_type": "code",
   "execution_count": 51,
   "metadata": {},
   "outputs": [],
   "source": [
    "epocas1 = np.arange(50)+1"
   ]
  },
  {
   "cell_type": "code",
   "execution_count": 84,
   "metadata": {},
   "outputs": [
    {
     "data": {
      "image/png": "[encoded data removed]",
      "text/plain": [
       "<Figure size 1152x864 with 3 Axes>"
      ]
     },
     "metadata": {
      "needs_background": "light"
     },
     "output_type": "display_data"
    }
   ],
   "source": [
    "plt.figure(figsize=(16,12))\n",
    "\n",
    "plt.subplot(3,1,1)\n",
    "plt.plot(epocas1,train_loss1)\n",
    "plt.plot(epocas1,val_loss1)\n",
    "plt.legend([\"training set\",\"Validation set\"])\n",
    "plt.xlabel(\"epochs\")\n",
    "plt.ylabel(\"loss\")\n",
    "plt.title(\"Loss v/s epochs\")\n",
    "\n",
    "plt.subplot(3,1,2)\n",
    "plt.plot(epocas1[20:],train_loss1[20:])\n",
    "plt.plot(epocas1[20:],val_loss1[20:])\n",
    "plt.legend([\"training set\",\"Validation set\"])\n",
    "plt.xlabel(\"epochs\")\n",
    "plt.ylabel(\"loss\")\n",
    "plt.title(\"Loss v/s epochs\")\n",
    "\n",
    "plt.subplot(3,1,3)\n",
    "plt.plot(epocas1,history1.history['acc'])\n",
    "plt.plot(epocas1,history1.history['val_acc'])\n",
    "plt.legend([\"training set\",\"Validation set\"])\n",
    "plt.xlabel(\"epochs\")\n",
    "plt.ylabel(\"accuracy\")\n",
    "plt.title(\"accuracy v/s epochs\")\n",
    "\n",
    "plt.subplots_adjust( hspace=0.8)\n",
    "\n",
    "\n",
    "\n"
   ]
  },
  {
   "cell_type": "markdown",
   "metadata": {},
   "source": [
    "#### Comentario :\n",
    "- Se observa un underfitting al comienzo, esto se debe a que la red esta comenzando a calibrarse lo que explica que se obtengan errores de validación menores que de train al comienzo, ya pasado los 30 epochs esto se comeinza a regularizar.\n",
    "- Esta red cuenta con 502 parametros entrenables."
   ]
  },
  {
   "cell_type": "markdown",
   "metadata": {},
   "source": [
    "#### 3.c Red con una capa oculta\n",
    "Ahora, haremos nuevamente un modelo secuencial, al cual le agregarémos una capa oculta con activación ReLu. ¿Qué realiza la función ReLu (puede ejemplificar con gráficos)?\n",
    "\n",
    "Entrene esta red nuevamente con los mismos parámetros que la red anterior. ¿Mejoran los desempeños? ¿Cuál es el número de parámetros de este modelo? Grafíque nuevamente como varía la métrica a medida pasan las _epochs_. ¿Alcanza a notar sobreajuste?\n",
    "\n",
    "Cambie la función de activación por otra de su elección (e.g. $tanh$ o activación lineal). ¿Cambia el desempeño? \n",
    "\n",
    "Compare finalmente el desempeño con una regresión logistica. ¿Cómo hace la red para obtener representaciones no-lineales que la regresión lineal no puede obtener? ¿Por qué se podría argumentar que una red neuronal densa _feed forward_ tiene un sabor a ensamblado de regresiones lineales en un principio? "
   ]
  },
  {
   "cell_type": "code",
   "execution_count": 53,
   "metadata": {},
   "outputs": [
    {
     "name": "stdout",
     "output_type": "stream",
     "text": [
      "Train on 45000 samples, validate on 5000 samples\n",
      "Epoch 1/50\n",
      "45000/45000 [==============================] - 5s 106us/step - loss: 0.5514 - acc: 0.7226 - val_loss: 0.4392 - val_acc: 0.8042\n",
      "Epoch 2/50\n",
      "45000/45000 [==============================] - 4s 83us/step - loss: 0.4143 - acc: 0.8159 - val_loss: 0.3885 - val_acc: 0.8314\n",
      "Epoch 3/50\n",
      "45000/45000 [==============================] - 4s 86us/step - loss: 0.3862 - acc: 0.8295 - val_loss: 0.3754 - val_acc: 0.8396\n",
      "Epoch 4/50\n",
      "45000/45000 [==============================] - 4s 86us/step - loss: 0.3769 - acc: 0.8344 - val_loss: 0.3795 - val_acc: 0.8366\n",
      "Epoch 5/50\n",
      "45000/45000 [==============================] - 4s 91us/step - loss: 0.3728 - acc: 0.8362 - val_loss: 0.3716 - val_acc: 0.8390\n",
      "Epoch 6/50\n",
      "45000/45000 [==============================] - 4s 92us/step - loss: 0.3706 - acc: 0.8382 - val_loss: 0.3730 - val_acc: 0.8386\n",
      "Epoch 7/50\n",
      "45000/45000 [==============================] - 4s 99us/step - loss: 0.3697 - acc: 0.8377 - val_loss: 0.3835 - val_acc: 0.8282\n",
      "Epoch 8/50\n",
      "45000/45000 [==============================] - 5s 100us/step - loss: 0.3686 - acc: 0.8388 - val_loss: 0.3788 - val_acc: 0.8350\n",
      "Epoch 9/50\n",
      "45000/45000 [==============================] - 4s 87us/step - loss: 0.3680 - acc: 0.8386 - val_loss: 0.3697 - val_acc: 0.8410\n",
      "Epoch 10/50\n",
      "45000/45000 [==============================] - 4s 87us/step - loss: 0.3667 - acc: 0.8397 - val_loss: 0.3816 - val_acc: 0.8292\n",
      "Epoch 11/50\n",
      "45000/45000 [==============================] - 4s 87us/step - loss: 0.3660 - acc: 0.8395 - val_loss: 0.3674 - val_acc: 0.8418\n",
      "Epoch 12/50\n",
      "45000/45000 [==============================] - 4s 87us/step - loss: 0.3651 - acc: 0.8394 - val_loss: 0.3674 - val_acc: 0.8420\n",
      "Epoch 13/50\n",
      "45000/45000 [==============================] - 4s 88us/step - loss: 0.3639 - acc: 0.8408 - val_loss: 0.3675 - val_acc: 0.8436\n",
      "Epoch 14/50\n",
      "45000/45000 [==============================] - 4s 91us/step - loss: 0.3627 - acc: 0.8417 - val_loss: 0.3707 - val_acc: 0.8382\n",
      "Epoch 15/50\n",
      "45000/45000 [==============================] - 4s 97us/step - loss: 0.3610 - acc: 0.8413 - val_loss: 0.3667 - val_acc: 0.8414\n",
      "Epoch 16/50\n",
      "45000/45000 [==============================] - 4s 92us/step - loss: 0.3597 - acc: 0.8412 - val_loss: 0.3677 - val_acc: 0.8414\n",
      "Epoch 17/50\n",
      "45000/45000 [==============================] - 4s 91us/step - loss: 0.3579 - acc: 0.8426 - val_loss: 0.3677 - val_acc: 0.8412\n",
      "Epoch 18/50\n",
      "45000/45000 [==============================] - 4s 91us/step - loss: 0.3560 - acc: 0.8434 - val_loss: 0.3663 - val_acc: 0.8406\n",
      "Epoch 19/50\n",
      "45000/45000 [==============================] - 4s 92us/step - loss: 0.3537 - acc: 0.8442 - val_loss: 0.3651 - val_acc: 0.8400\n",
      "Epoch 20/50\n",
      "45000/45000 [==============================] - 4s 92us/step - loss: 0.3523 - acc: 0.8455 - val_loss: 0.3665 - val_acc: 0.8404\n",
      "Epoch 21/50\n",
      "45000/45000 [==============================] - 4s 92us/step - loss: 0.3504 - acc: 0.8460 - val_loss: 0.3721 - val_acc: 0.8396\n",
      "Epoch 22/50\n",
      "45000/45000 [==============================] - 4s 92us/step - loss: 0.3481 - acc: 0.8475 - val_loss: 0.3666 - val_acc: 0.8376\n",
      "Epoch 23/50\n",
      "45000/45000 [==============================] - 5s 101us/step - loss: 0.3459 - acc: 0.8484 - val_loss: 0.3648 - val_acc: 0.8410\n",
      "Epoch 24/50\n",
      "45000/45000 [==============================] - 5s 100us/step - loss: 0.3438 - acc: 0.8492 - val_loss: 0.3638 - val_acc: 0.8414\n",
      "Epoch 25/50\n",
      "45000/45000 [==============================] - 4s 98us/step - loss: 0.3420 - acc: 0.8493 - val_loss: 0.3642 - val_acc: 0.8406\n",
      "Epoch 26/50\n",
      "45000/45000 [==============================] - 4s 93us/step - loss: 0.3392 - acc: 0.8519 - val_loss: 0.3641 - val_acc: 0.8376\n",
      "Epoch 27/50\n",
      "45000/45000 [==============================] - 4s 88us/step - loss: 0.3366 - acc: 0.8536 - val_loss: 0.3636 - val_acc: 0.8384\n",
      "Epoch 28/50\n",
      "45000/45000 [==============================] - 4s 89us/step - loss: 0.3340 - acc: 0.8548 - val_loss: 0.3638 - val_acc: 0.8394\n",
      "Epoch 29/50\n",
      "45000/45000 [==============================] - 4s 87us/step - loss: 0.3316 - acc: 0.8539 - val_loss: 0.3648 - val_acc: 0.8354\n",
      "Epoch 30/50\n",
      "45000/45000 [==============================] - 4s 92us/step - loss: 0.3287 - acc: 0.8566 - val_loss: 0.3638 - val_acc: 0.8368\n",
      "Epoch 31/50\n",
      "45000/45000 [==============================] - 4s 94us/step - loss: 0.3260 - acc: 0.8566 - val_loss: 0.3648 - val_acc: 0.8366\n",
      "Epoch 32/50\n",
      "45000/45000 [==============================] - 4s 89us/step - loss: 0.3234 - acc: 0.8595 - val_loss: 0.3642 - val_acc: 0.8396\n",
      "Epoch 33/50\n",
      "45000/45000 [==============================] - 5s 100us/step - loss: 0.3203 - acc: 0.8612 - val_loss: 0.3657 - val_acc: 0.8370\n",
      "Epoch 34/50\n",
      "45000/45000 [==============================] - 4s 87us/step - loss: 0.3174 - acc: 0.8624 - val_loss: 0.3643 - val_acc: 0.8394\n",
      "Epoch 35/50\n",
      "45000/45000 [==============================] - 4s 90us/step - loss: 0.3150 - acc: 0.8639 - val_loss: 0.3700 - val_acc: 0.8302\n",
      "Epoch 36/50\n",
      "45000/45000 [==============================] - 4s 90us/step - loss: 0.3116 - acc: 0.8658 - val_loss: 0.3651 - val_acc: 0.8372\n",
      "Epoch 37/50\n",
      "45000/45000 [==============================] - 4s 89us/step - loss: 0.3084 - acc: 0.8671 - val_loss: 0.3652 - val_acc: 0.8366\n",
      "Epoch 38/50\n",
      "45000/45000 [==============================] - 4s 91us/step - loss: 0.3051 - acc: 0.8705 - val_loss: 0.3755 - val_acc: 0.8312\n",
      "Epoch 39/50\n",
      "45000/45000 [==============================] - 4s 92us/step - loss: 0.3021 - acc: 0.8719 - val_loss: 0.3825 - val_acc: 0.8256\n",
      "Epoch 40/50\n",
      "45000/45000 [==============================] - 4s 89us/step - loss: 0.2990 - acc: 0.8730 - val_loss: 0.3685 - val_acc: 0.8370\n",
      "Epoch 41/50\n",
      "45000/45000 [==============================] - 4s 88us/step - loss: 0.2954 - acc: 0.8743 - val_loss: 0.3722 - val_acc: 0.8360\n",
      "Epoch 42/50\n",
      "45000/45000 [==============================] - 4s 90us/step - loss: 0.2925 - acc: 0.8770 - val_loss: 0.3675 - val_acc: 0.8378\n",
      "Epoch 43/50\n",
      "45000/45000 [==============================] - 4s 91us/step - loss: 0.2892 - acc: 0.8789 - val_loss: 0.3774 - val_acc: 0.8362\n",
      "Epoch 44/50\n",
      "45000/45000 [==============================] - 4s 88us/step - loss: 0.2859 - acc: 0.8799 - val_loss: 0.3691 - val_acc: 0.8372\n",
      "Epoch 45/50\n",
      "45000/45000 [==============================] - 4s 91us/step - loss: 0.2826 - acc: 0.8820 - val_loss: 0.3717 - val_acc: 0.8404\n",
      "Epoch 46/50\n",
      "45000/45000 [==============================] - 4s 89us/step - loss: 0.2795 - acc: 0.8841 - val_loss: 0.3717 - val_acc: 0.8368\n",
      "Epoch 47/50\n",
      "45000/45000 [==============================] - 4s 87us/step - loss: 0.2756 - acc: 0.8849 - val_loss: 0.3736 - val_acc: 0.8372\n",
      "Epoch 48/50\n",
      "45000/45000 [==============================] - 4s 89us/step - loss: 0.2728 - acc: 0.8859 - val_loss: 0.3786 - val_acc: 0.8356\n",
      "Epoch 49/50\n",
      "45000/45000 [==============================] - 4s 86us/step - loss: 0.2693 - acc: 0.8905 - val_loss: 0.3729 - val_acc: 0.8362\n",
      "Epoch 50/50\n",
      "45000/45000 [==============================] - 4s 89us/step - loss: 0.2660 - acc: 0.8909 - val_loss: 0.3784 - val_acc: 0.8360\n",
      "_________________________________________________________________\n",
      "Layer (type)                 Output Shape              Param #   \n",
      "=================================================================\n",
      "dense_7 (Dense)              (None, 64)                32128     \n",
      "_________________________________________________________________\n",
      "dense_8 (Dense)              (None, 1)                 65        \n",
      "=================================================================\n",
      "Total params: 32,193\n",
      "Trainable params: 32,193\n",
      "Non-trainable params: 0\n",
      "_________________________________________________________________\n"
     ]
    }
   ],
   "source": [
    "model = Sequential()\n",
    "model.add(Dense(64, activation='relu'))\n",
    "model.add(Dense(1,activation='sigmoid'))\n",
    "model.compile('sgd',loss='binary_crossentropy',metrics=['accuracy'])\n",
    "history2 = model.fit(x_tr,Y_train ,epochs=50,validation_data=(x_val,Y_val))\n",
    "model.summary()"
   ]
  },
  {
   "cell_type": "code",
   "execution_count": null,
   "metadata": {},
   "outputs": [],
   "source": []
  },
  {
   "cell_type": "code",
   "execution_count": 54,
   "metadata": {},
   "outputs": [],
   "source": [
    "epocas2 = np.arange(50)+1\n",
    "train_loss2 = history2.history['loss']\n",
    "val_loss2 = history2.history['val_loss']"
   ]
  },
  {
   "cell_type": "code",
   "execution_count": 86,
   "metadata": {},
   "outputs": [
    {
     "data": {
      "image/png": "[encoded data removed]",
      "text/plain": [
       "<Figure size 1152x504 with 2 Axes>"
      ]
     },
     "metadata": {
      "needs_background": "light"
     },
     "output_type": "display_data"
    }
   ],
   "source": [
    "plt.figure(figsize=(16,7))\n",
    "\n",
    "plt.subplot(2,1,1)\n",
    "plt.plot(epocas2,train_loss2)\n",
    "plt.plot(epocas2,val_loss2)\n",
    "plt.legend([\"training set\",\"Validation set\"])\n",
    "plt.title(\"Loss v/s epochs\")\n",
    "plt.xlabel(\"epochs\")\n",
    "plt.ylabel(\"loss\")\n",
    "\n",
    "plt.subplot(2,1,2)\n",
    "plt.plot(epocas1,history2.history['acc'])\n",
    "plt.plot(epocas1,history2.history['val_acc'])\n",
    "plt.legend([\"training set\",\"Validation set\"])\n",
    "plt.xlabel(\"epochs\")\n",
    "plt.ylabel(\"accuracy\")\n",
    "plt.title(\"accuracy v/s epochs\")\n",
    "\n",
    "plt.subplots_adjust( hspace=0.4)\n",
    "\n",
    "plt.show()"
   ]
  },
  {
   "cell_type": "markdown",
   "metadata": {},
   "source": [
    "**Comentario :** Se observa del gráfico un claro overfitting del modelo pasado la epochs = 20 aproximadamente.El mejor modelo seria cercano a la epochs 15."
   ]
  },
  {
   "cell_type": "code",
   "execution_count": 88,
   "metadata": {},
   "outputs": [
    {
     "name": "stdout",
     "output_type": "stream",
     "text": [
      "min_val_perc\n",
      "0.847\n",
      "\n",
      "min_val_relu \n",
      "0.8436\n"
     ]
    }
   ],
   "source": [
    "print(\"min_val_perc\")\n",
    "print(max(history1.history['val_acc']))\n",
    "print(\"\")\n",
    "print(\"min_val_relu \")\n",
    "print(max(history2.history['val_acc']))\n"
   ]
  },
  {
   "cell_type": "markdown",
   "metadata": {},
   "source": [
    "**Función Relu**\n",
    "\n",
    "La función Relu se define como:\n",
    "\n",
    "$$f(x)=max(0,x)$$\n",
    "\n",
    "Su comportamiento lo podemos visualizar con el siguiente gráfico"
   ]
  },
  {
   "cell_type": "code",
   "execution_count": 58,
   "metadata": {},
   "outputs": [
    {
     "data": {
      "image/png": "[encoded data removed]",
      "text/plain": [
       "<Figure size 432x288 with 1 Axes>"
      ]
     },
     "metadata": {
      "needs_background": "light"
     },
     "output_type": "display_data"
    }
   ],
   "source": [
    "x0 = np.zeros(50)\n",
    "x1 = np.arange(30)\n",
    "x3 = np.hstack((x0,x1))\n",
    "x4 = np.linspace(-50,29,80)\n",
    "plt.plot(x4,x3)\n",
    "plt.title(\"Función ReLu\")\n",
    "plt.ylim(-10,30)\n",
    "plt.xlim(-50,30)\n",
    "plt.grid()\n"
   ]
  },
  {
   "cell_type": "markdown",
   "metadata": {},
   "source": [
    "#### La función reLu más conocida como rectificador lineal, lo que hace es una especie de dropout, asignando salida igual a cero para entradas con valor negativo y retorna el mismo valor de salida para entradas con valor positivo."
   ]
  },
  {
   "cell_type": "markdown",
   "metadata": {},
   "source": [
    "**Ajustando una Regresión Logística**"
   ]
  },
  {
   "cell_type": "code",
   "execution_count": 62,
   "metadata": {},
   "outputs": [],
   "source": [
    "from sklearn.linear_model import LogisticRegression\n",
    "import pandas as pd\n",
    "from sklearn.metrics import mean_squared_error as MSE"
   ]
  },
  {
   "cell_type": "code",
   "execution_count": 60,
   "metadata": {},
   "outputs": [
    {
     "data": {
      "text/plain": [
       "LogisticRegression(C=1.0, class_weight=None, dual=False, fit_intercept=True,\n",
       "                   intercept_scaling=1, l1_ratio=None, max_iter=100,\n",
       "                   multi_class='warn', n_jobs=None, penalty='l2',\n",
       "                   random_state=None, solver='lbfgs', tol=0.0001, verbose=0,\n",
       "                   warm_start=False)"
      ]
     },
     "execution_count": 60,
     "metadata": {},
     "output_type": "execute_result"
    }
   ],
   "source": [
    "lr_model = LogisticRegression(solver='lbfgs')\n",
    "lr_model.fit(x_tr,Y_train)"
   ]
  },
  {
   "cell_type": "code",
   "execution_count": 61,
   "metadata": {},
   "outputs": [
    {
     "name": "stdout",
     "output_type": "stream",
     "text": [
      "Accuracy: 0.8452\n"
     ]
    }
   ],
   "source": [
    "prediccion = lr_model.predict(x_val)\n",
    "print(\"Accuracy:\",accuracy_score(Y_val,prediccion))"
   ]
  },
  {
   "cell_type": "code",
   "execution_count": null,
   "metadata": {},
   "outputs": [],
   "source": [
    "from sklearn.metrics import confusion_matrix"
   ]
  },
  {
   "cell_type": "code",
   "execution_count": null,
   "metadata": {},
   "outputs": [],
   "source": [
    "print(confusion_matrix(prediccion,Y_val))"
   ]
  },
  {
   "cell_type": "markdown",
   "metadata": {},
   "source": [
    "#### Comparación de resultados perceptrón; Reed deep reLu y LogisticRegression\n",
    "|Modelo      |N° Parámetros|Val_acc  |\n",
    "|:-----------|:------------|:---------|\n",
    "|Perceptron  |502  |0.847|\n",
    "|Deep_reLu   |32128 + 65|0.8436|\n",
    "|LogisticRegression||0.8452|\n",
    "\n",
    "**Comentario :** El desempeño obtenido por la reed deep con función de activación reLu es peor que el obtenido por el perceptron . El modelo de LogisticRegression presenta un desempeño parecido a los anteriores, pero se debe considerar el bajo tiempo de entrenamiento de esta lo cual le da ventaja sobre los modelos de redes que hemos entrenado."
   ]
  },
  {
   "cell_type": "markdown",
   "metadata": {},
   "source": [
    "#### 3.d Exploración de número de neuronas ocultas\n",
    "\n",
    "Utilizando la misma estructura de la red entrenada en la pregunta anterior, evalue como varía el _accuracy_ sobre validación y entrenamiento a medida se cambia el numero de neuronas. Explore numeros de neuronas en potencias de 2 entre 2 y 256. En cada iteración debe considerar el mejor _accuracy_ sobre validación y el _accuracy_ de entrenamiento de ese mísmo _epoch_, pues ese sería el modelo que se preferiría. \n",
    "\n",
    "Grafique como variaron los _accuracy_ a medida cambió el número de neuronas y discuta. "
   ]
  },
  {
   "cell_type": "code",
   "execution_count": 18,
   "metadata": {
    "collapsed": true
   },
   "outputs": [
    {
     "name": "stderr",
     "output_type": "stream",
     "text": [
      "WARNING: Logging before flag parsing goes to stderr.\n",
      "W0912 22:27:33.620718 140321910515520 deprecation_wrapper.py:119] From /home/lenovo/.conda/envs/machinelearning/lib/python3.6/site-packages/keras/backend/tensorflow_backend.py:74: The name tf.get_default_graph is deprecated. Please use tf.compat.v1.get_default_graph instead.\n",
      "\n",
      "W0912 22:27:33.640508 140321910515520 deprecation_wrapper.py:119] From /home/lenovo/.conda/envs/machinelearning/lib/python3.6/site-packages/keras/optimizers.py:790: The name tf.train.Optimizer is deprecated. Please use tf.compat.v1.train.Optimizer instead.\n",
      "\n",
      "W0912 22:27:33.658856 140321910515520 deprecation_wrapper.py:119] From /home/lenovo/.conda/envs/machinelearning/lib/python3.6/site-packages/keras/backend/tensorflow_backend.py:517: The name tf.placeholder is deprecated. Please use tf.compat.v1.placeholder instead.\n",
      "\n",
      "W0912 22:27:33.661261 140321910515520 deprecation_wrapper.py:119] From /home/lenovo/.conda/envs/machinelearning/lib/python3.6/site-packages/keras/backend/tensorflow_backend.py:4138: The name tf.random_uniform is deprecated. Please use tf.random.uniform instead.\n",
      "\n",
      "W0912 22:27:33.712333 140321910515520 deprecation_wrapper.py:119] From /home/lenovo/.conda/envs/machinelearning/lib/python3.6/site-packages/keras/backend/tensorflow_backend.py:3376: The name tf.log is deprecated. Please use tf.math.log instead.\n",
      "\n",
      "W0912 22:27:33.725663 140321910515520 deprecation.py:323] From /home/lenovo/.conda/envs/machinelearning/lib/python3.6/site-packages/tensorflow/python/ops/nn_impl.py:180: add_dispatch_support.<locals>.wrapper (from tensorflow.python.ops.array_ops) is deprecated and will be removed in a future version.\n",
      "Instructions for updating:\n",
      "Use tf.where in 2.0, which has the same broadcast rule as np.where\n",
      "W0912 22:27:33.918998 140321910515520 deprecation_wrapper.py:119] From /home/lenovo/.conda/envs/machinelearning/lib/python3.6/site-packages/keras/backend/tensorflow_backend.py:986: The name tf.assign_add is deprecated. Please use tf.compat.v1.assign_add instead.\n",
      "\n"
     ]
    }
   ],
   "source": [
    "from keras.models import Sequential\n",
    "from keras.layers import Dense\n",
    "best_accu_val = []\n",
    "best_accu_tr = []\n",
    "for i in range(1,9):\n",
    "    model = Sequential()\n",
    "    model.add(Dense(units=2**i,activation='relu'))\n",
    "    model.add(Dense(1,activation='sigmoid'))\n",
    "    model.compile('sgd',loss='binary_crossentropy',metrics=['accuracy'])\n",
    "    history = model.fit(x_tr,Y_train ,epochs=20,verbose = 0,validation_data=(x_val,Y_val));\n",
    "    best_accu_val.append(max(history.history['val_acc']))\n",
    "    best_accu_tr.append(max(history.history['acc']))\n",
    "    "
   ]
  },
  {
   "cell_type": "code",
   "execution_count": 49,
   "metadata": {},
   "outputs": [],
   "source": [
    "pesos_entrada_red = pd.DataFrame(model.layers[0].get_weights()[0])\n",
    "pesos_entrada_red.to_csv('pesos_entrada_red.csv')\n",
    "pesos_entrada_red = pd.read_csv('pesos_entrada_red.csv',index_col=0, parse_dates=True)"
   ]
  },
  {
   "cell_type": "code",
   "execution_count": 50,
   "metadata": {
    "scrolled": true
   },
   "outputs": [
    {
     "data": {
      "text/html": [
       "<div>\n",
       "<style scoped>\n",
       "    .dataframe tbody tr th:only-of-type {\n",
       "        vertical-align: middle;\n",
       "    }\n",
       "\n",
       "    .dataframe tbody tr th {\n",
       "        vertical-align: top;\n",
       "    }\n",
       "\n",
       "    .dataframe thead th {\n",
       "        text-align: right;\n",
       "    }\n",
       "</style>\n",
       "<table border=\"1\" class=\"dataframe\">\n",
       "  <thead>\n",
       "    <tr style=\"text-align: right;\">\n",
       "      <th></th>\n",
       "      <th>0</th>\n",
       "      <th>1</th>\n",
       "      <th>2</th>\n",
       "      <th>3</th>\n",
       "      <th>4</th>\n",
       "      <th>5</th>\n",
       "      <th>6</th>\n",
       "      <th>7</th>\n",
       "      <th>8</th>\n",
       "      <th>9</th>\n",
       "      <th>...</th>\n",
       "      <th>246</th>\n",
       "      <th>247</th>\n",
       "      <th>248</th>\n",
       "      <th>249</th>\n",
       "      <th>250</th>\n",
       "      <th>251</th>\n",
       "      <th>252</th>\n",
       "      <th>253</th>\n",
       "      <th>254</th>\n",
       "      <th>255</th>\n",
       "    </tr>\n",
       "  </thead>\n",
       "  <tbody>\n",
       "    <tr>\n",
       "      <th>0</th>\n",
       "      <td>0.070547</td>\n",
       "      <td>0.086465</td>\n",
       "      <td>-0.074030</td>\n",
       "      <td>-0.042799</td>\n",
       "      <td>0.032985</td>\n",
       "      <td>0.045781</td>\n",
       "      <td>0.028339</td>\n",
       "      <td>0.023477</td>\n",
       "      <td>0.012786</td>\n",
       "      <td>0.079925</td>\n",
       "      <td>...</td>\n",
       "      <td>-0.020723</td>\n",
       "      <td>0.059466</td>\n",
       "      <td>-0.073724</td>\n",
       "      <td>-0.024370</td>\n",
       "      <td>0.055961</td>\n",
       "      <td>-0.060922</td>\n",
       "      <td>0.019946</td>\n",
       "      <td>-0.050930</td>\n",
       "      <td>0.043653</td>\n",
       "      <td>-0.025002</td>\n",
       "    </tr>\n",
       "    <tr>\n",
       "      <th>1</th>\n",
       "      <td>-0.004665</td>\n",
       "      <td>-0.005426</td>\n",
       "      <td>-0.067639</td>\n",
       "      <td>0.039401</td>\n",
       "      <td>-0.023217</td>\n",
       "      <td>0.036499</td>\n",
       "      <td>0.061895</td>\n",
       "      <td>-0.018536</td>\n",
       "      <td>0.028100</td>\n",
       "      <td>0.087733</td>\n",
       "      <td>...</td>\n",
       "      <td>-0.029863</td>\n",
       "      <td>-0.009923</td>\n",
       "      <td>-0.057591</td>\n",
       "      <td>-0.012692</td>\n",
       "      <td>-0.067376</td>\n",
       "      <td>-0.078239</td>\n",
       "      <td>-0.010123</td>\n",
       "      <td>-0.059220</td>\n",
       "      <td>0.012584</td>\n",
       "      <td>0.039547</td>\n",
       "    </tr>\n",
       "    <tr>\n",
       "      <th>2</th>\n",
       "      <td>0.007188</td>\n",
       "      <td>0.058395</td>\n",
       "      <td>0.025441</td>\n",
       "      <td>0.047838</td>\n",
       "      <td>-0.073585</td>\n",
       "      <td>0.091412</td>\n",
       "      <td>0.047697</td>\n",
       "      <td>-0.020655</td>\n",
       "      <td>-0.030393</td>\n",
       "      <td>0.046692</td>\n",
       "      <td>...</td>\n",
       "      <td>0.024868</td>\n",
       "      <td>0.078999</td>\n",
       "      <td>0.051706</td>\n",
       "      <td>-0.034449</td>\n",
       "      <td>-0.036288</td>\n",
       "      <td>-0.011194</td>\n",
       "      <td>-0.049125</td>\n",
       "      <td>0.033731</td>\n",
       "      <td>-0.050527</td>\n",
       "      <td>-0.042578</td>\n",
       "    </tr>\n",
       "    <tr>\n",
       "      <th>3</th>\n",
       "      <td>-0.026467</td>\n",
       "      <td>-0.024285</td>\n",
       "      <td>0.078389</td>\n",
       "      <td>-0.057970</td>\n",
       "      <td>-0.082330</td>\n",
       "      <td>-0.032413</td>\n",
       "      <td>-0.021962</td>\n",
       "      <td>0.084088</td>\n",
       "      <td>0.073401</td>\n",
       "      <td>-0.081760</td>\n",
       "      <td>...</td>\n",
       "      <td>0.078064</td>\n",
       "      <td>0.046162</td>\n",
       "      <td>0.015040</td>\n",
       "      <td>-0.067600</td>\n",
       "      <td>-0.059301</td>\n",
       "      <td>0.049450</td>\n",
       "      <td>-0.018737</td>\n",
       "      <td>0.076936</td>\n",
       "      <td>0.032101</td>\n",
       "      <td>-0.076666</td>\n",
       "    </tr>\n",
       "    <tr>\n",
       "      <th>4</th>\n",
       "      <td>-0.001998</td>\n",
       "      <td>0.011971</td>\n",
       "      <td>0.082586</td>\n",
       "      <td>-0.080156</td>\n",
       "      <td>-0.034278</td>\n",
       "      <td>0.006547</td>\n",
       "      <td>0.062565</td>\n",
       "      <td>-0.026774</td>\n",
       "      <td>0.061547</td>\n",
       "      <td>-0.010342</td>\n",
       "      <td>...</td>\n",
       "      <td>-0.025405</td>\n",
       "      <td>0.082675</td>\n",
       "      <td>-0.041203</td>\n",
       "      <td>0.034460</td>\n",
       "      <td>0.065023</td>\n",
       "      <td>0.012745</td>\n",
       "      <td>0.031798</td>\n",
       "      <td>0.016014</td>\n",
       "      <td>0.044716</td>\n",
       "      <td>-0.006430</td>\n",
       "    </tr>\n",
       "  </tbody>\n",
       "</table>\n",
       "<p>5 rows × 256 columns</p>\n",
       "</div>"
      ],
      "text/plain": [
       "          0         1         2         3         4         5         6  \\\n",
       "0  0.070547  0.086465 -0.074030 -0.042799  0.032985  0.045781  0.028339   \n",
       "1 -0.004665 -0.005426 -0.067639  0.039401 -0.023217  0.036499  0.061895   \n",
       "2  0.007188  0.058395  0.025441  0.047838 -0.073585  0.091412  0.047697   \n",
       "3 -0.026467 -0.024285  0.078389 -0.057970 -0.082330 -0.032413 -0.021962   \n",
       "4 -0.001998  0.011971  0.082586 -0.080156 -0.034278  0.006547  0.062565   \n",
       "\n",
       "          7         8         9  ...       246       247       248       249  \\\n",
       "0  0.023477  0.012786  0.079925  ... -0.020723  0.059466 -0.073724 -0.024370   \n",
       "1 -0.018536  0.028100  0.087733  ... -0.029863 -0.009923 -0.057591 -0.012692   \n",
       "2 -0.020655 -0.030393  0.046692  ...  0.024868  0.078999  0.051706 -0.034449   \n",
       "3  0.084088  0.073401 -0.081760  ...  0.078064  0.046162  0.015040 -0.067600   \n",
       "4 -0.026774  0.061547 -0.010342  ... -0.025405  0.082675 -0.041203  0.034460   \n",
       "\n",
       "        250       251       252       253       254       255  \n",
       "0  0.055961 -0.060922  0.019946 -0.050930  0.043653 -0.025002  \n",
       "1 -0.067376 -0.078239 -0.010123 -0.059220  0.012584  0.039547  \n",
       "2 -0.036288 -0.011194 -0.049125  0.033731 -0.050527 -0.042578  \n",
       "3 -0.059301  0.049450 -0.018737  0.076936  0.032101 -0.076666  \n",
       "4  0.065023  0.012745  0.031798  0.016014  0.044716 -0.006430  \n",
       "\n",
       "[5 rows x 256 columns]"
      ]
     },
     "execution_count": 50,
     "metadata": {},
     "output_type": "execute_result"
    }
   ],
   "source": [
    "pesos_entrada_red.head()"
   ]
  },
  {
   "cell_type": "code",
   "execution_count": 19,
   "metadata": {},
   "outputs": [
    {
     "data": {
      "text/plain": [
       "[0.8436, 0.8454, 0.846, 0.8424, 0.8446, 0.8442, 0.847, 0.8436]"
      ]
     },
     "execution_count": 19,
     "metadata": {},
     "output_type": "execute_result"
    }
   ],
   "source": [
    "best_accu_val"
   ]
  },
  {
   "cell_type": "code",
   "execution_count": 20,
   "metadata": {},
   "outputs": [
    {
     "data": {
      "text/plain": [
       "[0.8410444444444445,\n",
       " 0.8411555555555555,\n",
       " 0.8390888888888889,\n",
       " 0.8430888888888889,\n",
       " 0.8439777777777778,\n",
       " 0.8462444444444445,\n",
       " 0.8492,\n",
       " 0.8548666666666667]"
      ]
     },
     "execution_count": 20,
     "metadata": {},
     "output_type": "execute_result"
    }
   ],
   "source": [
    "best_accu_tr"
   ]
  },
  {
   "cell_type": "code",
   "execution_count": 21,
   "metadata": {},
   "outputs": [
    {
     "data": {
      "image/png": "[encoded data removed]",
      "text/plain": [
       "<Figure size 1152x504 with 1 Axes>"
      ]
     },
     "metadata": {
      "needs_background": "light"
     },
     "output_type": "display_data"
    }
   ],
   "source": [
    "plt.figure(figsize=(16,7))\n",
    "param = [\"2\",\"4\",\"8\",\"16\",\"32\",\"64\",\"128\",\"256\"]\n",
    "plt.plot(param,best_accu_val,)\n",
    "plt.plot(param,best_accu_tr)\n",
    "plt.legend([\"acc validation\",\"acc training\"])\n",
    "plt.title(\"acc v/s N° de parámetros\")\n",
    "plt.xlabel(\"N° parámetros\")\n",
    "plt.ylabel(\"Accuracy\")\n",
    "\n",
    "plt.show()"
   ]
  },
  {
   "cell_type": "markdown",
   "metadata": {},
   "source": [
    "#### De lo observado se pordría considerar que el mejor numero de parametros para la capa oculta es un valor cercano a 128 como el modelo entrenado anteriormente, despues de este valor el modelo comienza a experimentar un claro overfitting ya que logra memorizar de mejor manera l"
   ]
  },
  {
   "cell_type": "markdown",
   "metadata": {},
   "source": [
    "#### Se guarda el mejor modelo obtenido."
   ]
  },
  {
   "cell_type": "code",
   "execution_count": 22,
   "metadata": {},
   "outputs": [],
   "source": [
    "data_numero_deep = pd.DataFrame(history.history)"
   ]
  },
  {
   "cell_type": "code",
   "execution_count": 23,
   "metadata": {},
   "outputs": [],
   "source": [
    "data_numero_deep.to_csv('data_numero_deep.csv')"
   ]
  },
  {
   "cell_type": "code",
   "execution_count": 24,
   "metadata": {},
   "outputs": [
    {
     "data": {
      "text/html": [
       "<div>\n",
       "<style scoped>\n",
       "    .dataframe tbody tr th:only-of-type {\n",
       "        vertical-align: middle;\n",
       "    }\n",
       "\n",
       "    .dataframe tbody tr th {\n",
       "        vertical-align: top;\n",
       "    }\n",
       "\n",
       "    .dataframe thead th {\n",
       "        text-align: right;\n",
       "    }\n",
       "</style>\n",
       "<table border=\"1\" class=\"dataframe\">\n",
       "  <thead>\n",
       "    <tr style=\"text-align: right;\">\n",
       "      <th></th>\n",
       "      <th>val_loss</th>\n",
       "      <th>val_acc</th>\n",
       "      <th>loss</th>\n",
       "      <th>acc</th>\n",
       "    </tr>\n",
       "  </thead>\n",
       "  <tbody>\n",
       "    <tr>\n",
       "      <th>0</th>\n",
       "      <td>0.441156</td>\n",
       "      <td>0.8040</td>\n",
       "      <td>0.547485</td>\n",
       "      <td>0.728778</td>\n",
       "    </tr>\n",
       "    <tr>\n",
       "      <th>1</th>\n",
       "      <td>0.388527</td>\n",
       "      <td>0.8306</td>\n",
       "      <td>0.415578</td>\n",
       "      <td>0.814911</td>\n",
       "    </tr>\n",
       "    <tr>\n",
       "      <th>2</th>\n",
       "      <td>0.373547</td>\n",
       "      <td>0.8390</td>\n",
       "      <td>0.386544</td>\n",
       "      <td>0.829178</td>\n",
       "    </tr>\n",
       "    <tr>\n",
       "      <th>3</th>\n",
       "      <td>0.370285</td>\n",
       "      <td>0.8436</td>\n",
       "      <td>0.375926</td>\n",
       "      <td>0.835022</td>\n",
       "    </tr>\n",
       "    <tr>\n",
       "      <th>4</th>\n",
       "      <td>0.373933</td>\n",
       "      <td>0.8346</td>\n",
       "      <td>0.371100</td>\n",
       "      <td>0.837044</td>\n",
       "    </tr>\n",
       "    <tr>\n",
       "      <th>5</th>\n",
       "      <td>0.392955</td>\n",
       "      <td>0.8212</td>\n",
       "      <td>0.368168</td>\n",
       "      <td>0.839978</td>\n",
       "    </tr>\n",
       "    <tr>\n",
       "      <th>6</th>\n",
       "      <td>0.375904</td>\n",
       "      <td>0.8334</td>\n",
       "      <td>0.366000</td>\n",
       "      <td>0.840800</td>\n",
       "    </tr>\n",
       "    <tr>\n",
       "      <th>7</th>\n",
       "      <td>0.374512</td>\n",
       "      <td>0.8354</td>\n",
       "      <td>0.364227</td>\n",
       "      <td>0.841200</td>\n",
       "    </tr>\n",
       "    <tr>\n",
       "      <th>8</th>\n",
       "      <td>0.374559</td>\n",
       "      <td>0.8346</td>\n",
       "      <td>0.362577</td>\n",
       "      <td>0.842578</td>\n",
       "    </tr>\n",
       "    <tr>\n",
       "      <th>9</th>\n",
       "      <td>0.367037</td>\n",
       "      <td>0.8408</td>\n",
       "      <td>0.360452</td>\n",
       "      <td>0.843444</td>\n",
       "    </tr>\n",
       "    <tr>\n",
       "      <th>10</th>\n",
       "      <td>0.367117</td>\n",
       "      <td>0.8404</td>\n",
       "      <td>0.358458</td>\n",
       "      <td>0.843067</td>\n",
       "    </tr>\n",
       "    <tr>\n",
       "      <th>11</th>\n",
       "      <td>0.366779</td>\n",
       "      <td>0.8414</td>\n",
       "      <td>0.356214</td>\n",
       "      <td>0.843800</td>\n",
       "    </tr>\n",
       "    <tr>\n",
       "      <th>12</th>\n",
       "      <td>0.365903</td>\n",
       "      <td>0.8420</td>\n",
       "      <td>0.353970</td>\n",
       "      <td>0.845689</td>\n",
       "    </tr>\n",
       "    <tr>\n",
       "      <th>13</th>\n",
       "      <td>0.366161</td>\n",
       "      <td>0.8422</td>\n",
       "      <td>0.351626</td>\n",
       "      <td>0.846311</td>\n",
       "    </tr>\n",
       "    <tr>\n",
       "      <th>14</th>\n",
       "      <td>0.366854</td>\n",
       "      <td>0.8398</td>\n",
       "      <td>0.348725</td>\n",
       "      <td>0.849222</td>\n",
       "    </tr>\n",
       "    <tr>\n",
       "      <th>15</th>\n",
       "      <td>0.364695</td>\n",
       "      <td>0.8412</td>\n",
       "      <td>0.346193</td>\n",
       "      <td>0.849711</td>\n",
       "    </tr>\n",
       "    <tr>\n",
       "      <th>16</th>\n",
       "      <td>0.370710</td>\n",
       "      <td>0.8384</td>\n",
       "      <td>0.342944</td>\n",
       "      <td>0.850956</td>\n",
       "    </tr>\n",
       "    <tr>\n",
       "      <th>17</th>\n",
       "      <td>0.364943</td>\n",
       "      <td>0.8400</td>\n",
       "      <td>0.340113</td>\n",
       "      <td>0.851778</td>\n",
       "    </tr>\n",
       "    <tr>\n",
       "      <th>18</th>\n",
       "      <td>0.366546</td>\n",
       "      <td>0.8392</td>\n",
       "      <td>0.336704</td>\n",
       "      <td>0.854333</td>\n",
       "    </tr>\n",
       "    <tr>\n",
       "      <th>19</th>\n",
       "      <td>0.366218</td>\n",
       "      <td>0.8382</td>\n",
       "      <td>0.333241</td>\n",
       "      <td>0.854867</td>\n",
       "    </tr>\n",
       "  </tbody>\n",
       "</table>\n",
       "</div>"
      ],
      "text/plain": [
       "    val_loss  val_acc      loss       acc\n",
       "0   0.441156   0.8040  0.547485  0.728778\n",
       "1   0.388527   0.8306  0.415578  0.814911\n",
       "2   0.373547   0.8390  0.386544  0.829178\n",
       "3   0.370285   0.8436  0.375926  0.835022\n",
       "4   0.373933   0.8346  0.371100  0.837044\n",
       "5   0.392955   0.8212  0.368168  0.839978\n",
       "6   0.375904   0.8334  0.366000  0.840800\n",
       "7   0.374512   0.8354  0.364227  0.841200\n",
       "8   0.374559   0.8346  0.362577  0.842578\n",
       "9   0.367037   0.8408  0.360452  0.843444\n",
       "10  0.367117   0.8404  0.358458  0.843067\n",
       "11  0.366779   0.8414  0.356214  0.843800\n",
       "12  0.365903   0.8420  0.353970  0.845689\n",
       "13  0.366161   0.8422  0.351626  0.846311\n",
       "14  0.366854   0.8398  0.348725  0.849222\n",
       "15  0.364695   0.8412  0.346193  0.849711\n",
       "16  0.370710   0.8384  0.342944  0.850956\n",
       "17  0.364943   0.8400  0.340113  0.851778\n",
       "18  0.366546   0.8392  0.336704  0.854333\n",
       "19  0.366218   0.8382  0.333241  0.854867"
      ]
     },
     "execution_count": 24,
     "metadata": {},
     "output_type": "execute_result"
    }
   ],
   "source": [
    "data_numero_deep = pd.read_csv('data_numero_deep.csv', index_col=0, parse_dates=True)\n",
    "data_numero_deep"
   ]
  },
  {
   "cell_type": "markdown",
   "metadata": {},
   "source": [
    "#### 3.e Pesos de la red\n",
    "\n",
    "Obtenga los pesos de la red entrenada a completitud anteriormente usando el método `.get_weights` y grafíque un historgrama. Note que para cada capa se obtienen por separado los pesos de los datos y del intercepto. Así en el índice 0 obtenemos los pesos de los datos de entrada, en el 1 los pesos del intercepto de entrada, en el 2 los pesos de la capa oculta y en el 3 los pesos del intercepto de la capa oculta. Solo se requiere graficar el primero.\n",
    "\n",
    "Compare luego ese histograma con el obtenido al graficar los pesos de una red sin entrenar, como muestra el código. Discuta lo que observa. "
   ]
  },
  {
   "cell_type": "code",
   "execution_count": 25,
   "metadata": {},
   "outputs": [
    {
     "data": {
      "text/plain": [
       "<keras.callbacks.History at 0x7f9eebf95d68>"
      ]
     },
     "execution_count": 25,
     "metadata": {},
     "output_type": "execute_result"
    }
   ],
   "source": [
    "from keras.optimizers import SGD\n",
    "untrained = Sequential()\n",
    "untrained.add(Dense(128, activation='relu'))\n",
    "untrained.add(Dense(1,activation='sigmoid'))\n",
    "untrained.compile(SGD(lr=0.001),loss='binary_crossentropy',metrics=['accuracy'])\n",
    "untrained.fit(x_tr,Y_train,epochs=0)  # the easy way to create the weights without training, though there are more purists ways\n"
   ]
  },
  {
   "cell_type": "code",
   "execution_count": 34,
   "metadata": {},
   "outputs": [
    {
     "data": {
      "image/png": "[encoded data removed]",
      "text/plain": [
       "<Figure size 1152x504 with 1 Axes>"
      ]
     },
     "metadata": {
      "needs_background": "light"
     },
     "output_type": "display_data"
    },
    {
     "data": {
      "image/png": "[encoded data removed]",
      "text/plain": [
       "<Figure size 1152x504 with 1 Axes>"
      ]
     },
     "metadata": {
      "needs_background": "light"
     },
     "output_type": "display_data"
    }
   ],
   "source": [
    "plt.figure(figsize=(16,7))\n",
    "plt.hist(untrained.get_weights()[0])\n",
    "plt.xlabel('Pesos (Wij)')\n",
    "plt.ylabel('Cantidad')\n",
    "plt.rcParams[\"figure.figsize\"]= [16,7]\n",
    "plt.title('Distribución de pesos capa de entrada Red sin entrenar')\n",
    "plt.show \n",
    "\n",
    "for i in range(1):\n",
    "    plt.figure(figsize=(16,7))\n",
    "    plt.hist(model.layers[i].get_weights()[0],rwidth=1)\n",
    "    plt.xlabel('Pesos (Wij)')\n",
    "    plt.ylabel('Cantidad')\n",
    "    plt.rcParams[\"figure.figsize\"]= [16,7]\n",
    "    plt.title('Distribución de pesos capa de entrada ')\n",
    "    plt.show()"
   ]
  },
  {
   "cell_type": "markdown",
   "metadata": {},
   "source": [
    "**Comentario :** Se puede observar de los histogramas que al comienzo, los pesos de entrada se distribuyen de manera uniforme en un rango de valore [-0.1 , 0.1], con esto se consigue que el modelo explore en un mayor espacio de busqueda. Una vez entrenada la red estos pesos se van hacercando más a cero, y muy pocos valores superan el rango inicial de pesos, con lo cual se estarian eliminando atributos de la red."
   ]
  },
  {
   "cell_type": "code",
   "execution_count": 36,
   "metadata": {},
   "outputs": [
    {
     "data": {
      "image/png": "[encoded data removed]",
      "text/plain": [
       "<Figure size 1152x504 with 1 Axes>"
      ]
     },
     "metadata": {
      "needs_background": "light"
     },
     "output_type": "display_data"
    }
   ],
   "source": [
    "for i in range(1,2):\n",
    "    plt.figure(figsize=(16,7))\n",
    "    plt.hist(model.layers[i].get_weights()[0],rwidth=1)\n",
    "    plt.xlabel('Pesos (Wij)')\n",
    "    plt.ylabel('Cantidad')\n",
    "    plt.rcParams[\"figure.figsize\"]= [16,7]\n",
    "    plt.title('Distribución bias capa de entrada')\n",
    "    plt.show()"
   ]
  },
  {
   "cell_type": "code",
   "execution_count": 37,
   "metadata": {},
   "outputs": [
    {
     "data": {
      "image/png": "[encoded data removed]",
      "text/plain": [
       "<Figure size 1152x504 with 1 Axes>"
      ]
     },
     "metadata": {
      "needs_background": "light"
     },
     "output_type": "display_data"
    }
   ],
   "source": [
    "for i in range(1):\n",
    "    plt.figure(figsize=(16,7))\n",
    "    plt.hist(model.layers[i].get_weights()[1],rwidth=1)\n",
    "    plt.xlabel('Pesos (Wij)')\n",
    "    plt.ylabel('Cantidad')\n",
    "    plt.rcParams[\"figure.figsize\"]= [16,7]\n",
    "    plt.title('Distribución de pesos capa oculta')\n",
    "    plt.show()"
   ]
  },
  {
   "cell_type": "code",
   "execution_count": 38,
   "metadata": {},
   "outputs": [
    {
     "data": {
      "image/png": "[encoded data removed]",
      "text/plain": [
       "<Figure size 1152x504 with 1 Axes>"
      ]
     },
     "metadata": {
      "needs_background": "light"
     },
     "output_type": "display_data"
    }
   ],
   "source": [
    "for i in range(1,2):\n",
    "    plt.figure(figsize=(16,7))\n",
    "    plt.hist(model.layers[i].get_weights()[1],rwidth=1)\n",
    "    plt.xlabel('Pesos (Wij)')\n",
    "    plt.ylabel('Cantidad')\n",
    "    plt.rcParams[\"figure.figsize\"]= [16,7]\n",
    "    plt.title('Distribución de bias capa oculta')\n",
    "    plt.show()"
   ]
  },
  {
   "cell_type": "markdown",
   "metadata": {},
   "source": [
    "#### 3.h Bagging **(Opcional)**\n",
    "\n",
    "Crearemos ahora un ensamblado utilizando la técnica de _Bagging_, ensamblando las predicciones de distintos árboles para predecir el resultado. \n",
    "\n",
    "Explique brevemente el procedimiento realizado por _Bagging_, en particular por qué los distintos arboles no se entrenan idénticamente y el significado de los parámetros que aparecen en el código. "
   ]
  },
  {
   "cell_type": "code",
   "execution_count": 59,
   "metadata": {},
   "outputs": [
    {
     "data": {
      "text/plain": [
       "BaggingClassifier(base_estimator=DecisionTreeClassifier(class_weight=None,\n",
       "                                                        criterion='gini',\n",
       "                                                        max_depth=2,\n",
       "                                                        max_features=None,\n",
       "                                                        max_leaf_nodes=None,\n",
       "                                                        min_impurity_decrease=0.0,\n",
       "                                                        min_impurity_split=None,\n",
       "                                                        min_samples_leaf=1,\n",
       "                                                        min_samples_split=2,\n",
       "                                                        min_weight_fraction_leaf=0.0,\n",
       "                                                        presort=False,\n",
       "                                                        random_state=None,\n",
       "                                                        splitter='best'),\n",
       "                  bootstrap=True, bootstrap_features=False, max_features=0.7,\n",
       "                  max_samples=0.5, n_estimators=100, n_jobs=None,\n",
       "                  oob_score=False, random_state=None, verbose=0,\n",
       "                  warm_start=False)"
      ]
     },
     "execution_count": 59,
     "metadata": {},
     "output_type": "execute_result"
    }
   ],
   "source": [
    "from sklearn.ensemble import BaggingClassifier\n",
    "from sklearn.tree import DecisionTreeClassifier\n",
    "\n",
    "bag = BaggingClassifier(base_estimator=DecisionTreeClassifier(max_depth=2),\n",
    "                        n_estimators=100,\n",
    "                        max_samples=0.5,\n",
    "                        max_features=0.7\n",
    "                       )\n",
    "bag.fit(x_tr,Y_train) "
   ]
  },
  {
   "cell_type": "code",
   "execution_count": 62,
   "metadata": {},
   "outputs": [
    {
     "name": "stdout",
     "output_type": "stream",
     "text": [
      "score modelo bagging tree (max_depth =2)\n",
      "0.6764\n"
     ]
    }
   ],
   "source": [
    "print('score modelo bagging tree (max_depth =2)')\n",
    "print(bag.score(x_val,Y_val))\n"
   ]
  },
  {
   "cell_type": "markdown",
   "metadata": {},
   "source": [
    "#### Resultados bagging tree (max_depth = 20)"
   ]
  },
  {
   "cell_type": "code",
   "execution_count": 57,
   "metadata": {},
   "outputs": [
    {
     "name": "stdout",
     "output_type": "stream",
     "text": [
      "score modelo bagging tree\n",
      "0.7984\n"
     ]
    }
   ],
   "source": [
    "print('score modelo bagging tree')\n",
    "print(bag.score(x_val,Y_val))\n"
   ]
  },
  {
   "cell_type": "markdown",
   "metadata": {},
   "source": [
    "#### 3.i AdaBoost\n",
    "_Adaptative Boosting_ o AdaBoost es otro meta-algoritmo que crea ensamblados a partir de modelos más simple. Entrene un modelo de AdaBoost con estimador \"pequeño\", por ejemplo puede usar un arbol, una regresión lineal u otros modelos de `sklearn` y un límite de estimadores (`n_estimators`) de a lo menos 200. \n",
    "\n",
    "Calcule su _accuracy_ y comparelo con los demás métodos. "
   ]
  },
  {
   "cell_type": "code",
   "execution_count": 58,
   "metadata": {},
   "outputs": [
    {
     "data": {
      "text/plain": [
       "AdaBoostClassifier(algorithm='SAMME.R',\n",
       "                   base_estimator=DecisionTreeClassifier(class_weight=None,\n",
       "                                                         criterion='gini',\n",
       "                                                         max_depth=2,\n",
       "                                                         max_features=None,\n",
       "                                                         max_leaf_nodes=None,\n",
       "                                                         min_impurity_decrease=0.0,\n",
       "                                                         min_impurity_split=None,\n",
       "                                                         min_samples_leaf=1,\n",
       "                                                         min_samples_split=2,\n",
       "                                                         min_weight_fraction_leaf=0.0,\n",
       "                                                         presort=False,\n",
       "                                                         random_state=None,\n",
       "                                                         splitter='best'),\n",
       "                   learning_rate=1.0, n_estimators=200, random_state=None)"
      ]
     },
     "execution_count": 58,
     "metadata": {},
     "output_type": "execute_result"
    }
   ],
   "source": [
    "from sklearn.ensemble import AdaBoostClassifier\n",
    "adaboost = AdaBoostClassifier(base_estimator=DecisionTreeClassifier(max_depth=2), n_estimators=200)\n",
    "adaboost.fit(x_tr,Y_train)\n",
    "                              "
   ]
  },
  {
   "cell_type": "code",
   "execution_count": 63,
   "metadata": {},
   "outputs": [
    {
     "name": "stdout",
     "output_type": "stream",
     "text": [
      "score modelo adaboost tree (max_depth = 2)\n",
      "0.828\n"
     ]
    }
   ],
   "source": [
    "print('score modelo adaboost tree (max_depth = 2)')\n",
    "print(adaboost.score(x_val,Y_val))\n"
   ]
  },
  {
   "cell_type": "markdown",
   "metadata": {},
   "source": [
    "**Comentario :** Adaboost tree siendo el mejor modelo encontrado presenta un desempeño menor al obtenido por el perceptron al comienzo (acc_val = 0,847), LogisticRegression (acc_val = 0.8452) igual obtiene un mejor desempeño que adaboost_tree (score _val = 0.828)."
   ]
  },
  {
   "cell_type": "markdown",
   "metadata": {},
   "source": [
    "Discuta sobre el modelo que encontró el mejor `accuracy`. ¿Por qué cree que esta representación le acomoda a la red neuronal y no a los arboles de desición? "
   ]
  },
  {
   "cell_type": "code",
   "execution_count": null,
   "metadata": {},
   "outputs": [],
   "source": []
  }
 ],
 "metadata": {
  "kernelspec": {
   "display_name": "Python 3",
   "language": "python",
   "name": "python3"
  },
  "language_info": {
   "codemirror_mode": {
    "name": "ipython",
    "version": 3
   },
   "file_extension": ".py",
   "mimetype": "text/x-python",
   "name": "python",
   "nbconvert_exporter": "python",
   "pygments_lexer": "ipython3",
   "version": "3.7.7"
  }
 },
 "nbformat": 4,
 "nbformat_minor": 2
}
