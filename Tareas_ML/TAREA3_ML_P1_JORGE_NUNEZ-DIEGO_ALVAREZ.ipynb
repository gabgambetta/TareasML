{
 "cells": [
  {
   "cell_type": "markdown",
   "metadata": {},
   "source": [
    "### <img src=\"http://www.exalumnos.usm.cl/wp-content/uploads/2015/06/Isotipo-Negro.gif\" title=\"Title text\" width=\"20%\" height=\"20%\" />\n",
    "\n",
    "\n",
    "<hr style=\"height:2px;border:none\"/>\n",
    "<h1 align='center'> INF-393/578 Máquinas de Aprendizaje - 2019-1 </h1>\n",
    "\n",
    "<H3 align='center'> Tarea 3 - Pregunta 1  </H3>\n",
    "<H3 align='center'> Jorge Nuñez-Diego Alvarez  </H3>\n",
    "<hr style=\"height:2px;border:none\"/>"
   ]
  },
  {
   "cell_type": "markdown",
   "metadata": {},
   "source": [
    "<a id=\"primero\"></a>\n",
    "## 1. Regresión para ubicación espacial\n",
    "\n",
    "Un problema que tiene aplicaciones para muchos servicios es el calculo de la ubicación espacial exacta de un dispositivo conectado dentro de un edificio o un complejo de edificios. Estando dentro de un aeropuerto nuestro celular nos podría dar indicaciones para llegar a nuestra puerta de embarque o dentro de un mall encontrar la tienda que buscamos, serían aplicaciones que fácilmente se desprenden de la solución a este problema. Actualmente en exteriores el problema se soluciona fácilmente mediante el uso de GPS, sin embargo en interiores el problema se vuelve más complicado pues hay considerable pérdida de la señar GPS y muchas superficies de construcción pueden resultar reflectantes para algunos tipos de señales por lo cual el problema es mucho más dificil de modelar que el problema en el exterior. \n",
    "\n",
    "\n",
    "En esta primera parte de la tarea utilizaremos un _dataset_ creado en 2013 con más de 20000 mediciones de posición dentro de 4 edificios de la universidad de Jaume, disponible en https://archive.ics.uci.edu/ml/datasets/UJIIndoorLoc junto con una detallada descripción. Nuestra tarea será predecir la ubicación espacial en latitud, longitud, y altura (en pisos) de los distintos usuarios que realizaron esta tarea, a partir de las intensidades de señal medidas por los 520 distintos puntos de acceso inalambricos. Para esto, utilizaremos arboles de regresión, regresión lineal y redes neuronales, comparando los distintos desempeños y las ventajas y desventajas de cada aproximación. "
   ]
  },
  {
   "cell_type": "markdown",
   "metadata": {},
   "source": [
    "#### 1.a Carga de datos\n",
    "\n",
    "Cargue los datos de entrenamiento y validación y júntelos en un solo DataFrame como muestra el código. \n",
    "\n",
    "De los datos entregados luego del _target_ solo consideraremos el tipo de celular utilizado, convirtiendolo a variables _dummies_ como muestra el código. \n",
    "\n",
    "Separe el _target_ del resto de los datos."
   ]
  },
  {
   "cell_type": "code",
   "execution_count": 1,
   "metadata": {},
   "outputs": [],
   "source": [
    "import pandas as pd\n",
    "import numpy as np\n",
    "import matplotlib.pyplot as plt\n",
    "import seaborn as sns\n",
    "import sklearn\n",
    "from sklearn.utils import shuffle\n",
    "from sklearn.preprocessing import StandardScaler\n",
    "from sklearn.model_selection import train_test_split,KFold\n",
    "from sklearn.linear_model import LinearRegression \n",
    "from sklearn import metrics\n",
    "from sklearn.metrics import mean_squared_error as MSE\n",
    "from sklearn.tree import DecisionTreeRegressor"
   ]
  },
  {
   "cell_type": "code",
   "execution_count": 3,
   "metadata": {},
   "outputs": [],
   "source": [
    "df_tr = pd.read_csv(\"trainingData.csv\")\n",
    "df_val = pd.read_csv(\"validationData.csv\")\n",
    "\n",
    "df_t = shuffle(df_tr.append(df_val))"
   ]
  },
  {
   "cell_type": "markdown",
   "metadata": {},
   "source": [
    "**Comentario :** Se utiliza el comando shuffle para unir los DF de manera aleatoria y evitando así un posible ordenamiento existente en el dataframe."
   ]
  },
  {
   "cell_type": "code",
   "execution_count": 3,
   "metadata": {},
   "outputs": [
    {
     "data": {
      "text/html": [
       "<div>\n",
       "<style scoped>\n",
       "    .dataframe tbody tr th:only-of-type {\n",
       "        vertical-align: middle;\n",
       "    }\n",
       "\n",
       "    .dataframe tbody tr th {\n",
       "        vertical-align: top;\n",
       "    }\n",
       "\n",
       "    .dataframe thead th {\n",
       "        text-align: right;\n",
       "    }\n",
       "</style>\n",
       "<table border=\"1\" class=\"dataframe\">\n",
       "  <thead>\n",
       "    <tr style=\"text-align: right;\">\n",
       "      <th></th>\n",
       "      <th>WAP001</th>\n",
       "      <th>WAP002</th>\n",
       "      <th>WAP003</th>\n",
       "      <th>WAP004</th>\n",
       "      <th>WAP005</th>\n",
       "      <th>WAP006</th>\n",
       "      <th>WAP007</th>\n",
       "      <th>WAP008</th>\n",
       "      <th>WAP009</th>\n",
       "      <th>WAP010</th>\n",
       "      <th>...</th>\n",
       "      <th>WAP520</th>\n",
       "      <th>LONGITUDE</th>\n",
       "      <th>LATITUDE</th>\n",
       "      <th>FLOOR</th>\n",
       "      <th>BUILDINGID</th>\n",
       "      <th>SPACEID</th>\n",
       "      <th>RELATIVEPOSITION</th>\n",
       "      <th>USERID</th>\n",
       "      <th>PHONEID</th>\n",
       "      <th>TIMESTAMP</th>\n",
       "    </tr>\n",
       "  </thead>\n",
       "  <tbody>\n",
       "    <tr>\n",
       "      <th>11994</th>\n",
       "      <td>100</td>\n",
       "      <td>100</td>\n",
       "      <td>100</td>\n",
       "      <td>100</td>\n",
       "      <td>100</td>\n",
       "      <td>100</td>\n",
       "      <td>100</td>\n",
       "      <td>100</td>\n",
       "      <td>100</td>\n",
       "      <td>100</td>\n",
       "      <td>...</td>\n",
       "      <td>100</td>\n",
       "      <td>-7363.159000</td>\n",
       "      <td>4.864768e+06</td>\n",
       "      <td>1</td>\n",
       "      <td>2</td>\n",
       "      <td>224</td>\n",
       "      <td>2</td>\n",
       "      <td>12</td>\n",
       "      <td>24</td>\n",
       "      <td>1371714663</td>\n",
       "    </tr>\n",
       "    <tr>\n",
       "      <th>17914</th>\n",
       "      <td>100</td>\n",
       "      <td>100</td>\n",
       "      <td>100</td>\n",
       "      <td>100</td>\n",
       "      <td>100</td>\n",
       "      <td>100</td>\n",
       "      <td>100</td>\n",
       "      <td>100</td>\n",
       "      <td>100</td>\n",
       "      <td>100</td>\n",
       "      <td>...</td>\n",
       "      <td>100</td>\n",
       "      <td>-7639.691000</td>\n",
       "      <td>4.864915e+06</td>\n",
       "      <td>3</td>\n",
       "      <td>0</td>\n",
       "      <td>205</td>\n",
       "      <td>2</td>\n",
       "      <td>1</td>\n",
       "      <td>14</td>\n",
       "      <td>1371055697</td>\n",
       "    </tr>\n",
       "    <tr>\n",
       "      <th>279</th>\n",
       "      <td>100</td>\n",
       "      <td>100</td>\n",
       "      <td>100</td>\n",
       "      <td>100</td>\n",
       "      <td>100</td>\n",
       "      <td>100</td>\n",
       "      <td>100</td>\n",
       "      <td>100</td>\n",
       "      <td>100</td>\n",
       "      <td>100</td>\n",
       "      <td>...</td>\n",
       "      <td>100</td>\n",
       "      <td>-7638.818726</td>\n",
       "      <td>4.864999e+06</td>\n",
       "      <td>2</td>\n",
       "      <td>0</td>\n",
       "      <td>0</td>\n",
       "      <td>0</td>\n",
       "      <td>0</td>\n",
       "      <td>13</td>\n",
       "      <td>1380035758</td>\n",
       "    </tr>\n",
       "    <tr>\n",
       "      <th>15224</th>\n",
       "      <td>100</td>\n",
       "      <td>100</td>\n",
       "      <td>100</td>\n",
       "      <td>100</td>\n",
       "      <td>100</td>\n",
       "      <td>100</td>\n",
       "      <td>100</td>\n",
       "      <td>100</td>\n",
       "      <td>100</td>\n",
       "      <td>100</td>\n",
       "      <td>...</td>\n",
       "      <td>100</td>\n",
       "      <td>-7316.867200</td>\n",
       "      <td>4.864814e+06</td>\n",
       "      <td>1</td>\n",
       "      <td>2</td>\n",
       "      <td>131</td>\n",
       "      <td>2</td>\n",
       "      <td>16</td>\n",
       "      <td>14</td>\n",
       "      <td>1371720496</td>\n",
       "    </tr>\n",
       "    <tr>\n",
       "      <th>9829</th>\n",
       "      <td>100</td>\n",
       "      <td>100</td>\n",
       "      <td>100</td>\n",
       "      <td>100</td>\n",
       "      <td>100</td>\n",
       "      <td>100</td>\n",
       "      <td>100</td>\n",
       "      <td>100</td>\n",
       "      <td>100</td>\n",
       "      <td>100</td>\n",
       "      <td>...</td>\n",
       "      <td>100</td>\n",
       "      <td>-7638.067700</td>\n",
       "      <td>4.865001e+06</td>\n",
       "      <td>0</td>\n",
       "      <td>0</td>\n",
       "      <td>133</td>\n",
       "      <td>2</td>\n",
       "      <td>11</td>\n",
       "      <td>13</td>\n",
       "      <td>1369910446</td>\n",
       "    </tr>\n",
       "  </tbody>\n",
       "</table>\n",
       "<p>5 rows × 529 columns</p>\n",
       "</div>"
      ],
      "text/plain": [
       "       WAP001  WAP002  WAP003  WAP004  WAP005  WAP006  WAP007  WAP008  WAP009  \\\n",
       "11994     100     100     100     100     100     100     100     100     100   \n",
       "17914     100     100     100     100     100     100     100     100     100   \n",
       "279       100     100     100     100     100     100     100     100     100   \n",
       "15224     100     100     100     100     100     100     100     100     100   \n",
       "9829      100     100     100     100     100     100     100     100     100   \n",
       "\n",
       "       WAP010  ...  WAP520    LONGITUDE      LATITUDE  FLOOR  BUILDINGID  \\\n",
       "11994     100  ...     100 -7363.159000  4.864768e+06      1           2   \n",
       "17914     100  ...     100 -7639.691000  4.864915e+06      3           0   \n",
       "279       100  ...     100 -7638.818726  4.864999e+06      2           0   \n",
       "15224     100  ...     100 -7316.867200  4.864814e+06      1           2   \n",
       "9829      100  ...     100 -7638.067700  4.865001e+06      0           0   \n",
       "\n",
       "       SPACEID  RELATIVEPOSITION  USERID  PHONEID   TIMESTAMP  \n",
       "11994      224                 2      12       24  1371714663  \n",
       "17914      205                 2       1       14  1371055697  \n",
       "279          0                 0       0       13  1380035758  \n",
       "15224      131                 2      16       14  1371720496  \n",
       "9829       133                 2      11       13  1369910446  \n",
       "\n",
       "[5 rows x 529 columns]"
      ]
     },
     "execution_count": 3,
     "metadata": {},
     "output_type": "execute_result"
    }
   ],
   "source": [
    "df_t.head()"
   ]
  },
  {
   "cell_type": "code",
   "execution_count": 5,
   "metadata": {},
   "outputs": [
    {
     "data": {
      "text/html": [
       "<div>\n",
       "<style scoped>\n",
       "    .dataframe tbody tr th:only-of-type {\n",
       "        vertical-align: middle;\n",
       "    }\n",
       "\n",
       "    .dataframe tbody tr th {\n",
       "        vertical-align: top;\n",
       "    }\n",
       "\n",
       "    .dataframe thead th {\n",
       "        text-align: right;\n",
       "    }\n",
       "</style>\n",
       "<table border=\"1\" class=\"dataframe\">\n",
       "  <thead>\n",
       "    <tr style=\"text-align: right;\">\n",
       "      <th></th>\n",
       "      <th>WAP001</th>\n",
       "      <th>WAP002</th>\n",
       "      <th>WAP003</th>\n",
       "      <th>WAP004</th>\n",
       "      <th>WAP005</th>\n",
       "      <th>WAP006</th>\n",
       "      <th>WAP007</th>\n",
       "      <th>WAP008</th>\n",
       "      <th>WAP009</th>\n",
       "      <th>WAP010</th>\n",
       "      <th>...</th>\n",
       "      <th>WAP520</th>\n",
       "      <th>LONGITUDE</th>\n",
       "      <th>LATITUDE</th>\n",
       "      <th>FLOOR</th>\n",
       "      <th>BUILDINGID</th>\n",
       "      <th>SPACEID</th>\n",
       "      <th>RELATIVEPOSITION</th>\n",
       "      <th>USERID</th>\n",
       "      <th>PHONEID</th>\n",
       "      <th>TIMESTAMP</th>\n",
       "    </tr>\n",
       "  </thead>\n",
       "  <tbody>\n",
       "    <tr>\n",
       "      <th>count</th>\n",
       "      <td>21048.000000</td>\n",
       "      <td>21048.000000</td>\n",
       "      <td>21048.000000</td>\n",
       "      <td>21048.000000</td>\n",
       "      <td>21048.000000</td>\n",
       "      <td>21048.000000</td>\n",
       "      <td>21048.000000</td>\n",
       "      <td>21048.000000</td>\n",
       "      <td>21048.000000</td>\n",
       "      <td>21048.000000</td>\n",
       "      <td>...</td>\n",
       "      <td>21048.000000</td>\n",
       "      <td>21048.000000</td>\n",
       "      <td>2.104800e+04</td>\n",
       "      <td>21048.000000</td>\n",
       "      <td>21048.000000</td>\n",
       "      <td>21048.000000</td>\n",
       "      <td>21048.000000</td>\n",
       "      <td>21048.000000</td>\n",
       "      <td>21048.000000</td>\n",
       "      <td>2.104800e+04</td>\n",
       "    </tr>\n",
       "    <tr>\n",
       "      <th>mean</th>\n",
       "      <td>99.760500</td>\n",
       "      <td>99.830388</td>\n",
       "      <td>99.982326</td>\n",
       "      <td>99.982326</td>\n",
       "      <td>99.634122</td>\n",
       "      <td>97.281927</td>\n",
       "      <td>95.011640</td>\n",
       "      <td>93.845401</td>\n",
       "      <td>94.480758</td>\n",
       "      <td>99.145192</td>\n",
       "      <td>...</td>\n",
       "      <td>99.991733</td>\n",
       "      <td>-7467.702771</td>\n",
       "      <td>4.864873e+06</td>\n",
       "      <td>1.669137</td>\n",
       "      <td>1.188854</td>\n",
       "      <td>140.595211</td>\n",
       "      <td>1.736269</td>\n",
       "      <td>8.589367</td>\n",
       "      <td>12.963892</td>\n",
       "      <td>1.371906e+09</td>\n",
       "    </tr>\n",
       "    <tr>\n",
       "      <th>std</th>\n",
       "      <td>6.811116</td>\n",
       "      <td>5.643191</td>\n",
       "      <td>1.813086</td>\n",
       "      <td>1.813165</td>\n",
       "      <td>8.385624</td>\n",
       "      <td>22.327658</td>\n",
       "      <td>29.747638</td>\n",
       "      <td>32.964914</td>\n",
       "      <td>30.897265</td>\n",
       "      <td>12.765499</td>\n",
       "      <td>...</td>\n",
       "      <td>1.199344</td>\n",
       "      <td>124.084870</td>\n",
       "      <td>6.746981e+01</td>\n",
       "      <td>1.212608</td>\n",
       "      <td>0.838402</td>\n",
       "      <td>65.770099</td>\n",
       "      <td>0.547503</td>\n",
       "      <td>5.261661</td>\n",
       "      <td>5.437353</td>\n",
       "      <td>2.126924e+06</td>\n",
       "    </tr>\n",
       "    <tr>\n",
       "      <th>min</th>\n",
       "      <td>-97.000000</td>\n",
       "      <td>-90.000000</td>\n",
       "      <td>-87.000000</td>\n",
       "      <td>-88.000000</td>\n",
       "      <td>-97.000000</td>\n",
       "      <td>-98.000000</td>\n",
       "      <td>-99.000000</td>\n",
       "      <td>-99.000000</td>\n",
       "      <td>-98.000000</td>\n",
       "      <td>-99.000000</td>\n",
       "      <td>...</td>\n",
       "      <td>-74.000000</td>\n",
       "      <td>-7695.938755</td>\n",
       "      <td>4.864746e+06</td>\n",
       "      <td>0.000000</td>\n",
       "      <td>0.000000</td>\n",
       "      <td>0.000000</td>\n",
       "      <td>0.000000</td>\n",
       "      <td>0.000000</td>\n",
       "      <td>0.000000</td>\n",
       "      <td>1.369909e+09</td>\n",
       "    </tr>\n",
       "    <tr>\n",
       "      <th>25%</th>\n",
       "      <td>100.000000</td>\n",
       "      <td>100.000000</td>\n",
       "      <td>100.000000</td>\n",
       "      <td>100.000000</td>\n",
       "      <td>100.000000</td>\n",
       "      <td>100.000000</td>\n",
       "      <td>100.000000</td>\n",
       "      <td>100.000000</td>\n",
       "      <td>100.000000</td>\n",
       "      <td>100.000000</td>\n",
       "      <td>...</td>\n",
       "      <td>100.000000</td>\n",
       "      <td>-7601.616200</td>\n",
       "      <td>4.864821e+06</td>\n",
       "      <td>1.000000</td>\n",
       "      <td>0.000000</td>\n",
       "      <td>108.000000</td>\n",
       "      <td>2.000000</td>\n",
       "      <td>4.000000</td>\n",
       "      <td>8.000000</td>\n",
       "      <td>1.371709e+09</td>\n",
       "    </tr>\n",
       "    <tr>\n",
       "      <th>50%</th>\n",
       "      <td>100.000000</td>\n",
       "      <td>100.000000</td>\n",
       "      <td>100.000000</td>\n",
       "      <td>100.000000</td>\n",
       "      <td>100.000000</td>\n",
       "      <td>100.000000</td>\n",
       "      <td>100.000000</td>\n",
       "      <td>100.000000</td>\n",
       "      <td>100.000000</td>\n",
       "      <td>100.000000</td>\n",
       "      <td>...</td>\n",
       "      <td>100.000000</td>\n",
       "      <td>-7425.661100</td>\n",
       "      <td>4.864854e+06</td>\n",
       "      <td>2.000000</td>\n",
       "      <td>1.000000</td>\n",
       "      <td>127.000000</td>\n",
       "      <td>2.000000</td>\n",
       "      <td>10.000000</td>\n",
       "      <td>13.000000</td>\n",
       "      <td>1.371716e+09</td>\n",
       "    </tr>\n",
       "    <tr>\n",
       "      <th>75%</th>\n",
       "      <td>100.000000</td>\n",
       "      <td>100.000000</td>\n",
       "      <td>100.000000</td>\n",
       "      <td>100.000000</td>\n",
       "      <td>100.000000</td>\n",
       "      <td>100.000000</td>\n",
       "      <td>100.000000</td>\n",
       "      <td>100.000000</td>\n",
       "      <td>100.000000</td>\n",
       "      <td>100.000000</td>\n",
       "      <td>...</td>\n",
       "      <td>100.000000</td>\n",
       "      <td>-7359.331100</td>\n",
       "      <td>4.864930e+06</td>\n",
       "      <td>3.000000</td>\n",
       "      <td>2.000000</td>\n",
       "      <td>206.000000</td>\n",
       "      <td>2.000000</td>\n",
       "      <td>12.000000</td>\n",
       "      <td>14.000000</td>\n",
       "      <td>1.371721e+09</td>\n",
       "    </tr>\n",
       "    <tr>\n",
       "      <th>max</th>\n",
       "      <td>100.000000</td>\n",
       "      <td>100.000000</td>\n",
       "      <td>100.000000</td>\n",
       "      <td>100.000000</td>\n",
       "      <td>100.000000</td>\n",
       "      <td>100.000000</td>\n",
       "      <td>100.000000</td>\n",
       "      <td>100.000000</td>\n",
       "      <td>100.000000</td>\n",
       "      <td>100.000000</td>\n",
       "      <td>...</td>\n",
       "      <td>100.000000</td>\n",
       "      <td>-7299.786517</td>\n",
       "      <td>4.865017e+06</td>\n",
       "      <td>4.000000</td>\n",
       "      <td>2.000000</td>\n",
       "      <td>254.000000</td>\n",
       "      <td>2.000000</td>\n",
       "      <td>18.000000</td>\n",
       "      <td>24.000000</td>\n",
       "      <td>1.381248e+09</td>\n",
       "    </tr>\n",
       "  </tbody>\n",
       "</table>\n",
       "<p>8 rows × 529 columns</p>\n",
       "</div>"
      ],
      "text/plain": [
       "             WAP001        WAP002        WAP003        WAP004        WAP005  \\\n",
       "count  21048.000000  21048.000000  21048.000000  21048.000000  21048.000000   \n",
       "mean      99.760500     99.830388     99.982326     99.982326     99.634122   \n",
       "std        6.811116      5.643191      1.813086      1.813165      8.385624   \n",
       "min      -97.000000    -90.000000    -87.000000    -88.000000    -97.000000   \n",
       "25%      100.000000    100.000000    100.000000    100.000000    100.000000   \n",
       "50%      100.000000    100.000000    100.000000    100.000000    100.000000   \n",
       "75%      100.000000    100.000000    100.000000    100.000000    100.000000   \n",
       "max      100.000000    100.000000    100.000000    100.000000    100.000000   \n",
       "\n",
       "             WAP006        WAP007        WAP008        WAP009        WAP010  \\\n",
       "count  21048.000000  21048.000000  21048.000000  21048.000000  21048.000000   \n",
       "mean      97.281927     95.011640     93.845401     94.480758     99.145192   \n",
       "std       22.327658     29.747638     32.964914     30.897265     12.765499   \n",
       "min      -98.000000    -99.000000    -99.000000    -98.000000    -99.000000   \n",
       "25%      100.000000    100.000000    100.000000    100.000000    100.000000   \n",
       "50%      100.000000    100.000000    100.000000    100.000000    100.000000   \n",
       "75%      100.000000    100.000000    100.000000    100.000000    100.000000   \n",
       "max      100.000000    100.000000    100.000000    100.000000    100.000000   \n",
       "\n",
       "       ...        WAP520     LONGITUDE      LATITUDE         FLOOR  \\\n",
       "count  ...  21048.000000  21048.000000  2.104800e+04  21048.000000   \n",
       "mean   ...     99.991733  -7467.702771  4.864873e+06      1.669137   \n",
       "std    ...      1.199344    124.084870  6.746981e+01      1.212608   \n",
       "min    ...    -74.000000  -7695.938755  4.864746e+06      0.000000   \n",
       "25%    ...    100.000000  -7601.616200  4.864821e+06      1.000000   \n",
       "50%    ...    100.000000  -7425.661100  4.864854e+06      2.000000   \n",
       "75%    ...    100.000000  -7359.331100  4.864930e+06      3.000000   \n",
       "max    ...    100.000000  -7299.786517  4.865017e+06      4.000000   \n",
       "\n",
       "         BUILDINGID       SPACEID  RELATIVEPOSITION        USERID  \\\n",
       "count  21048.000000  21048.000000      21048.000000  21048.000000   \n",
       "mean       1.188854    140.595211          1.736269      8.589367   \n",
       "std        0.838402     65.770099          0.547503      5.261661   \n",
       "min        0.000000      0.000000          0.000000      0.000000   \n",
       "25%        0.000000    108.000000          2.000000      4.000000   \n",
       "50%        1.000000    127.000000          2.000000     10.000000   \n",
       "75%        2.000000    206.000000          2.000000     12.000000   \n",
       "max        2.000000    254.000000          2.000000     18.000000   \n",
       "\n",
       "            PHONEID     TIMESTAMP  \n",
       "count  21048.000000  2.104800e+04  \n",
       "mean      12.963892  1.371906e+09  \n",
       "std        5.437353  2.126924e+06  \n",
       "min        0.000000  1.369909e+09  \n",
       "25%        8.000000  1.371709e+09  \n",
       "50%       13.000000  1.371716e+09  \n",
       "75%       14.000000  1.371721e+09  \n",
       "max       24.000000  1.381248e+09  \n",
       "\n",
       "[8 rows x 529 columns]"
      ]
     },
     "execution_count": 5,
     "metadata": {},
     "output_type": "execute_result"
    }
   ],
   "source": [
    "df_t.describe()"
   ]
  },
  {
   "cell_type": "code",
   "execution_count": 18,
   "metadata": {},
   "outputs": [
    {
     "data": {
      "text/plain": [
       "WAP001                  8\n",
       "WAP002                  3\n",
       "WAP003                  3\n",
       "WAP004                  3\n",
       "WAP005                 10\n",
       "WAP006                 36\n",
       "WAP007                 52\n",
       "WAP008                 40\n",
       "WAP009                 48\n",
       "WAP010                 13\n",
       "WAP011                 75\n",
       "WAP012                 71\n",
       "WAP013                 60\n",
       "WAP014                 58\n",
       "WAP015                 35\n",
       "WAP016                 33\n",
       "WAP017                 17\n",
       "WAP018                 16\n",
       "WAP019                 48\n",
       "WAP020                 50\n",
       "WAP021                 11\n",
       "WAP022                 11\n",
       "WAP023                 63\n",
       "WAP024                 61\n",
       "WAP025                 54\n",
       "WAP026                 54\n",
       "WAP027                 57\n",
       "WAP028                 56\n",
       "WAP029                 66\n",
       "WAP030                 69\n",
       "                    ...  \n",
       "WAP500                 14\n",
       "WAP501                 76\n",
       "WAP502                 66\n",
       "WAP503                 54\n",
       "WAP504                 15\n",
       "WAP505                  2\n",
       "WAP506                 12\n",
       "WAP507                  3\n",
       "WAP508                 11\n",
       "WAP509                  4\n",
       "WAP510                  2\n",
       "WAP511                 66\n",
       "WAP512                  7\n",
       "WAP513                 24\n",
       "WAP514                 21\n",
       "WAP515                 15\n",
       "WAP516                 78\n",
       "WAP517                 72\n",
       "WAP518                 10\n",
       "WAP519                  3\n",
       "WAP520                  2\n",
       "LONGITUDE            1702\n",
       "LATITUDE             1743\n",
       "FLOOR                   5\n",
       "BUILDINGID              3\n",
       "SPACEID               124\n",
       "RELATIVEPOSITION        3\n",
       "USERID                 19\n",
       "PHONEID                25\n",
       "TIMESTAMP           11017\n",
       "Length: 529, dtype: int64"
      ]
     },
     "execution_count": 18,
     "metadata": {},
     "output_type": "execute_result"
    }
   ],
   "source": [
    "df_t.nunique()"
   ]
  },
  {
   "cell_type": "code",
   "execution_count": 51,
   "metadata": {},
   "outputs": [
    {
     "data": {
      "image/png": "[encoded data removed]",
      "text/plain": [
       "<Figure size 1152x504 with 1 Axes>"
      ]
     },
     "metadata": {},
     "output_type": "display_data"
    },
    {
     "data": {
      "image/png": "[encoded data removed]",
      "text/plain": [
       "<Figure size 1152x504 with 1 Axes>"
      ]
     },
     "metadata": {},
     "output_type": "display_data"
    }
   ],
   "source": [
    "plt.figure(figsize=(16,7))\n",
    "n, bins, patches = plt.hist(df_t['LONGITUDE'], 12, \n",
    "                            facecolor='red')\n",
    "plt.title('Histograma de las distintas coordenadas de la data.')\n",
    "plt.xlabel('Coordenada Longitud')\n",
    "plt.ylabel('cantidad')\n",
    "plt.show()\n",
    "\n",
    "plt.figure(figsize=(16,7))\n",
    "n, bins, patches = plt.hist(df_t['WAP517'], 12, \n",
    "                            facecolor='purple')\n",
    "plt.title('Histograma de las distintas intensidades de la señal WPA.')\n",
    "plt.xlabel('Intensidad WPA')\n",
    "plt.ylabel('cantidad')\n",
    "plt.show()"
   ]
  },
  {
   "cell_type": "markdown",
   "metadata": {},
   "source": [
    "**Comentario:** Se observa que hay poca variabilidad en los datos de WPAxxx, considerando que se tienen más de 21.000 registros."
   ]
  },
  {
   "cell_type": "markdown",
   "metadata": {},
   "source": [
    "#### Descripción del DataFrame UJIndoorLoc.\n",
    "Esta base de datas esta basada en la recopilación de huellas digitales WLAN (tambien conocidas como WIFI Fingerprinting).\n",
    "A continuación se procede a describir las variables del problema.\n",
    "\n",
    "|Columns                    | Descripción                           |\n",
    "|:------------------------- |:------------------------------------- |\n",
    "|WPA00x                     | Valor de intensidad para WPA          |\n",
    "|LONGITUDE                  | Longitud (coordenada)                 |\n",
    "|LATITUDE                   | Latitud (coordenada)                  |\n",
    "|FLOOR                      | Altitud en piso (0-4)                 |\n",
    "|BUILDINGID                 | ID del edificio (0-2)                 |\n",
    "|SPACEID                    | ID espacio (oficina,corredor,aula)    |        \n",
    "|RELATIVEPISITION           | Posición relativa (dentro o fuera)    |                                      \n",
    "|USERID                     | ID del usuario                        |\n",
    "|PHONEID                    | ID Dispositivo Android                |                \n",
    "|TIMESTAMP                  | Hora registro                         |          \n"
   ]
  },
  {
   "cell_type": "code",
   "execution_count": 4,
   "metadata": {},
   "outputs": [
    {
     "name": "stdout",
     "output_type": "stream",
     "text": [
      "Index(['LONGITUDE', 'LATITUDE', 'FLOOR'], dtype='object')\n"
     ]
    }
   ],
   "source": [
    "target_col =  df_t.columns[[520,521,522]] \n",
    "print (target_col)"
   ]
  },
  {
   "cell_type": "markdown",
   "metadata": {},
   "source": [
    "#### Se procede a eliminar las columnas de las variables que no seran utilizadas. Posteriormente se separa el target de las variables."
   ]
  },
  {
   "cell_type": "code",
   "execution_count": 5,
   "metadata": {},
   "outputs": [],
   "source": [
    "target_col =  df_t.columns[[520,521,522]] \n",
    "df = df_t.drop(columns=['BUILDINGID','SPACEID','RELATIVEPOSITION'\n",
    "                        ,'USERID','TIMESTAMP']) \n",
    "\n"
   ]
  },
  {
   "cell_type": "markdown",
   "metadata": {},
   "source": [
    "#### Se separan los datos en 80 % train y 20 % validation."
   ]
  },
  {
   "cell_type": "code",
   "execution_count": 6,
   "metadata": {},
   "outputs": [],
   "source": [
    "Random_SEED = 42"
   ]
  },
  {
   "cell_type": "code",
   "execution_count": 7,
   "metadata": {},
   "outputs": [],
   "source": [
    "df_tr, df_vl= train_test_split(df, test_size= 0.2\n",
    "                                ,random_state = Random_SEED)\n"
   ]
  },
  {
   "cell_type": "code",
   "execution_count": 8,
   "metadata": {},
   "outputs": [],
   "source": [
    "df_tr_col = df_tr.columns\n",
    "phone_tr= pd.get_dummies(df_tr.PHONEID)\n",
    "phone_col_tr=phone_tr.columns\n",
    "index_tr =  phone_tr.head().index\n",
    "phone_vl= pd.get_dummies(df_vl.PHONEID)\n",
    "phone_col_vl=phone_vl.columns\n"
   ]
  },
  {
   "cell_type": "markdown",
   "metadata": {},
   "source": [
    "**Comentario:** En este caso es valido separar la data de esta manera debido a que se habia aplicado la función shaflle en un principio, con lo cual se desordenan los datos, eviatndo de esta forma un posible orden existente en la data, con lo cual se perdería capacidad de generalizacion en el módelo."
   ]
  },
  {
   "cell_type": "markdown",
   "metadata": {},
   "source": [
    "#### 1.b Estandarización de los datos\n",
    "\n",
    "Utilice _Standar Scaler_ para los atributos no categóricos y para los datos categóricos simplemente sustraiga 0.5, como muestra el código. ¿Tiene realmente sentido estandarizar los datos categóricos (binarios) o le parece mejor la aproximación elegida?\n",
    "\n",
    "Estandarice igualmente el _target_. Cabe mencionar que la tercera componente del target es el piso en el que se encuentra, variable categórica, preferiremos utilizarla como variable continua para ver que tan bien nuestros algoritmos pueden aproximar la ubicación y para facilitar la comparación de distintos modelos. "
   ]
  },
  {
   "cell_type": "code",
   "execution_count": 9,
   "metadata": {},
   "outputs": [],
   "source": [
    "scaler = StandardScaler().fit(df_tr)\n",
    "\n",
    "df_tr_scal = pd.DataFrame(scaler.transform(df_tr),\n",
    "                           columns = df_tr_col)\n",
    "phone_tr_scal=pd.DataFrame(phone_tr.values-0.5,\n",
    "                             columns = phone_col_tr)\n",
    "df_tr_scaler = pd.concat([df_tr_scal,phone_tr_scal], axis = 1,\n",
    "                      join = 'inner')\n",
    "                                 \n",
    "\n",
    "df_vl_scal = pd.DataFrame(scaler.transform(df_vl),\n",
    "                                 columns=df_vl.columns)\n",
    "phone_vl_scal=pd.DataFrame(phone_vl.values-0.5,\n",
    "                             columns = phone_col_vl)\n",
    "df_vl_scaler = pd.concat([df_vl_scal,phone_vl_scal], axis = 1,\n",
    "                      join = 'inner')"
   ]
  },
  {
   "cell_type": "code",
   "execution_count": 10,
   "metadata": {},
   "outputs": [],
   "source": [
    "x_tr_scaler = df_tr_scaler.drop(columns=['LONGITUDE'\n",
    "                        ,'LATITUDE','FLOOR','PHONEID'])\n",
    "\n",
    "y_tr_scaler = df_tr_scaler[target_col]\n",
    "\n",
    "x_vl_scaler = df_vl_scaler.drop(columns=['LONGITUDE'\n",
    "                        ,'LATITUDE','FLOOR','PHONEID'])\n",
    "y_vl_scaler = df_vl_scaler[target_col]\n"
   ]
  },
  {
   "cell_type": "code",
   "execution_count": 11,
   "metadata": {},
   "outputs": [
    {
     "data": {
      "text/html": [
       "<div>\n",
       "<style scoped>\n",
       "    .dataframe tbody tr th:only-of-type {\n",
       "        vertical-align: middle;\n",
       "    }\n",
       "\n",
       "    .dataframe tbody tr th {\n",
       "        vertical-align: top;\n",
       "    }\n",
       "\n",
       "    .dataframe thead th {\n",
       "        text-align: right;\n",
       "    }\n",
       "</style>\n",
       "<table border=\"1\" class=\"dataframe\">\n",
       "  <thead>\n",
       "    <tr style=\"text-align: right;\">\n",
       "      <th></th>\n",
       "      <th>WAP001</th>\n",
       "      <th>WAP002</th>\n",
       "      <th>WAP003</th>\n",
       "      <th>WAP004</th>\n",
       "      <th>WAP005</th>\n",
       "      <th>WAP006</th>\n",
       "      <th>WAP007</th>\n",
       "      <th>WAP008</th>\n",
       "      <th>WAP009</th>\n",
       "      <th>WAP010</th>\n",
       "      <th>...</th>\n",
       "      <th>15</th>\n",
       "      <th>16</th>\n",
       "      <th>17</th>\n",
       "      <th>18</th>\n",
       "      <th>19</th>\n",
       "      <th>20</th>\n",
       "      <th>21</th>\n",
       "      <th>22</th>\n",
       "      <th>23</th>\n",
       "      <th>24</th>\n",
       "    </tr>\n",
       "  </thead>\n",
       "  <tbody>\n",
       "    <tr>\n",
       "      <th>0</th>\n",
       "      <td>0.03271</td>\n",
       "      <td>0.029859</td>\n",
       "      <td>0.007707</td>\n",
       "      <td>0.007707</td>\n",
       "      <td>0.042245</td>\n",
       "      <td>0.122141</td>\n",
       "      <td>0.168179</td>\n",
       "      <td>0.188611</td>\n",
       "      <td>0.180488</td>\n",
       "      <td>0.06732</td>\n",
       "      <td>...</td>\n",
       "      <td>-0.5</td>\n",
       "      <td>-0.5</td>\n",
       "      <td>-0.5</td>\n",
       "      <td>-0.5</td>\n",
       "      <td>-0.5</td>\n",
       "      <td>-0.5</td>\n",
       "      <td>-0.5</td>\n",
       "      <td>-0.5</td>\n",
       "      <td>-0.5</td>\n",
       "      <td>-0.5</td>\n",
       "    </tr>\n",
       "    <tr>\n",
       "      <th>1</th>\n",
       "      <td>0.03271</td>\n",
       "      <td>0.029859</td>\n",
       "      <td>0.007707</td>\n",
       "      <td>0.007707</td>\n",
       "      <td>0.042245</td>\n",
       "      <td>0.122141</td>\n",
       "      <td>0.168179</td>\n",
       "      <td>0.188611</td>\n",
       "      <td>0.180488</td>\n",
       "      <td>0.06732</td>\n",
       "      <td>...</td>\n",
       "      <td>-0.5</td>\n",
       "      <td>-0.5</td>\n",
       "      <td>-0.5</td>\n",
       "      <td>-0.5</td>\n",
       "      <td>0.5</td>\n",
       "      <td>-0.5</td>\n",
       "      <td>-0.5</td>\n",
       "      <td>-0.5</td>\n",
       "      <td>-0.5</td>\n",
       "      <td>-0.5</td>\n",
       "    </tr>\n",
       "    <tr>\n",
       "      <th>2</th>\n",
       "      <td>0.03271</td>\n",
       "      <td>0.029859</td>\n",
       "      <td>0.007707</td>\n",
       "      <td>0.007707</td>\n",
       "      <td>0.042245</td>\n",
       "      <td>0.122141</td>\n",
       "      <td>0.168179</td>\n",
       "      <td>0.188611</td>\n",
       "      <td>0.180488</td>\n",
       "      <td>0.06732</td>\n",
       "      <td>...</td>\n",
       "      <td>-0.5</td>\n",
       "      <td>-0.5</td>\n",
       "      <td>-0.5</td>\n",
       "      <td>-0.5</td>\n",
       "      <td>-0.5</td>\n",
       "      <td>-0.5</td>\n",
       "      <td>-0.5</td>\n",
       "      <td>0.5</td>\n",
       "      <td>-0.5</td>\n",
       "      <td>-0.5</td>\n",
       "    </tr>\n",
       "    <tr>\n",
       "      <th>3</th>\n",
       "      <td>0.03271</td>\n",
       "      <td>0.029859</td>\n",
       "      <td>0.007707</td>\n",
       "      <td>0.007707</td>\n",
       "      <td>0.042245</td>\n",
       "      <td>0.122141</td>\n",
       "      <td>0.168179</td>\n",
       "      <td>0.188611</td>\n",
       "      <td>0.180488</td>\n",
       "      <td>0.06732</td>\n",
       "      <td>...</td>\n",
       "      <td>-0.5</td>\n",
       "      <td>-0.5</td>\n",
       "      <td>-0.5</td>\n",
       "      <td>-0.5</td>\n",
       "      <td>-0.5</td>\n",
       "      <td>-0.5</td>\n",
       "      <td>-0.5</td>\n",
       "      <td>-0.5</td>\n",
       "      <td>-0.5</td>\n",
       "      <td>-0.5</td>\n",
       "    </tr>\n",
       "    <tr>\n",
       "      <th>4</th>\n",
       "      <td>0.03271</td>\n",
       "      <td>0.029859</td>\n",
       "      <td>0.007707</td>\n",
       "      <td>0.007707</td>\n",
       "      <td>0.042245</td>\n",
       "      <td>0.122141</td>\n",
       "      <td>0.168179</td>\n",
       "      <td>0.188611</td>\n",
       "      <td>0.180488</td>\n",
       "      <td>0.06732</td>\n",
       "      <td>...</td>\n",
       "      <td>-0.5</td>\n",
       "      <td>-0.5</td>\n",
       "      <td>-0.5</td>\n",
       "      <td>-0.5</td>\n",
       "      <td>-0.5</td>\n",
       "      <td>-0.5</td>\n",
       "      <td>-0.5</td>\n",
       "      <td>-0.5</td>\n",
       "      <td>-0.5</td>\n",
       "      <td>-0.5</td>\n",
       "    </tr>\n",
       "  </tbody>\n",
       "</table>\n",
       "<p>5 rows × 545 columns</p>\n",
       "</div>"
      ],
      "text/plain": [
       "    WAP001    WAP002    WAP003    WAP004    WAP005    WAP006    WAP007  \\\n",
       "0  0.03271  0.029859  0.007707  0.007707  0.042245  0.122141  0.168179   \n",
       "1  0.03271  0.029859  0.007707  0.007707  0.042245  0.122141  0.168179   \n",
       "2  0.03271  0.029859  0.007707  0.007707  0.042245  0.122141  0.168179   \n",
       "3  0.03271  0.029859  0.007707  0.007707  0.042245  0.122141  0.168179   \n",
       "4  0.03271  0.029859  0.007707  0.007707  0.042245  0.122141  0.168179   \n",
       "\n",
       "     WAP008    WAP009   WAP010  ...   15   16   17   18   19   20   21   22  \\\n",
       "0  0.188611  0.180488  0.06732  ... -0.5 -0.5 -0.5 -0.5 -0.5 -0.5 -0.5 -0.5   \n",
       "1  0.188611  0.180488  0.06732  ... -0.5 -0.5 -0.5 -0.5  0.5 -0.5 -0.5 -0.5   \n",
       "2  0.188611  0.180488  0.06732  ... -0.5 -0.5 -0.5 -0.5 -0.5 -0.5 -0.5  0.5   \n",
       "3  0.188611  0.180488  0.06732  ... -0.5 -0.5 -0.5 -0.5 -0.5 -0.5 -0.5 -0.5   \n",
       "4  0.188611  0.180488  0.06732  ... -0.5 -0.5 -0.5 -0.5 -0.5 -0.5 -0.5 -0.5   \n",
       "\n",
       "    23   24  \n",
       "0 -0.5 -0.5  \n",
       "1 -0.5 -0.5  \n",
       "2 -0.5 -0.5  \n",
       "3 -0.5 -0.5  \n",
       "4 -0.5 -0.5  \n",
       "\n",
       "[5 rows x 545 columns]"
      ]
     },
     "execution_count": 11,
     "metadata": {},
     "output_type": "execute_result"
    }
   ],
   "source": [
    "x_tr_scaler.head()"
   ]
  },
  {
   "cell_type": "code",
   "execution_count": 12,
   "metadata": {},
   "outputs": [
    {
     "data": {
      "text/html": [
       "<div>\n",
       "<style scoped>\n",
       "    .dataframe tbody tr th:only-of-type {\n",
       "        vertical-align: middle;\n",
       "    }\n",
       "\n",
       "    .dataframe tbody tr th {\n",
       "        vertical-align: top;\n",
       "    }\n",
       "\n",
       "    .dataframe thead th {\n",
       "        text-align: right;\n",
       "    }\n",
       "</style>\n",
       "<table border=\"1\" class=\"dataframe\">\n",
       "  <thead>\n",
       "    <tr style=\"text-align: right;\">\n",
       "      <th></th>\n",
       "      <th>LONGITUDE</th>\n",
       "      <th>LATITUDE</th>\n",
       "      <th>FLOOR</th>\n",
       "    </tr>\n",
       "  </thead>\n",
       "  <tbody>\n",
       "    <tr>\n",
       "      <th>0</th>\n",
       "      <td>1.217661</td>\n",
       "      <td>-0.869374</td>\n",
       "      <td>1.105130</td>\n",
       "    </tr>\n",
       "    <tr>\n",
       "      <th>1</th>\n",
       "      <td>0.562256</td>\n",
       "      <td>-1.288192</td>\n",
       "      <td>1.105130</td>\n",
       "    </tr>\n",
       "    <tr>\n",
       "      <th>2</th>\n",
       "      <td>0.013240</td>\n",
       "      <td>-0.190607</td>\n",
       "      <td>1.105130</td>\n",
       "    </tr>\n",
       "    <tr>\n",
       "      <th>3</th>\n",
       "      <td>0.622542</td>\n",
       "      <td>-0.542231</td>\n",
       "      <td>0.279641</td>\n",
       "    </tr>\n",
       "    <tr>\n",
       "      <th>4</th>\n",
       "      <td>-1.559580</td>\n",
       "      <td>0.978411</td>\n",
       "      <td>-1.371337</td>\n",
       "    </tr>\n",
       "  </tbody>\n",
       "</table>\n",
       "</div>"
      ],
      "text/plain": [
       "   LONGITUDE  LATITUDE     FLOOR\n",
       "0   1.217661 -0.869374  1.105130\n",
       "1   0.562256 -1.288192  1.105130\n",
       "2   0.013240 -0.190607  1.105130\n",
       "3   0.622542 -0.542231  0.279641\n",
       "4  -1.559580  0.978411 -1.371337"
      ]
     },
     "execution_count": 12,
     "metadata": {},
     "output_type": "execute_result"
    }
   ],
   "source": [
    "y_tr_scaler.head()"
   ]
  },
  {
   "cell_type": "markdown",
   "metadata": {},
   "source": [
    "#### 1.c Primer Arbol\n",
    "Entrenaremos ahora un árbol de regresión con produndidad 3. Como métrica utilizaremos el Error Absoluto Medio o MAE a lo largo del resto de esta pregunta. ¿Qué tan bueno le parece el _score_ (coeficiente $R^2$) obtenido por el regresor?\n",
    "\n",
    "Compare el desempeño del árbol, tanto en MAE como en _score_, en validación y entrenamiento, con respecto a un regresor lineal tradicional. ¿Cómo se comparan los tiempos de entrenamiento? ¿Le parece justificado el costo adicional?"
   ]
  },
  {
   "cell_type": "code",
   "execution_count": 13,
   "metadata": {},
   "outputs": [
    {
     "data": {
      "text/plain": [
       "DecisionTreeRegressor(criterion='mae', max_depth=3, max_features=None,\n",
       "                      max_leaf_nodes=None, min_impurity_decrease=0.0,\n",
       "                      min_impurity_split=None, min_samples_leaf=1,\n",
       "                      min_samples_split=2, min_weight_fraction_leaf=0.0,\n",
       "                      presort=False, random_state=None, splitter='best')"
      ]
     },
     "execution_count": 13,
     "metadata": {},
     "output_type": "execute_result"
    }
   ],
   "source": [
    "from sklearn.tree import DecisionTreeRegressor\n",
    "\n",
    "tree = DecisionTreeRegressor(criterion='mae',\n",
    "                            max_depth=3)\n",
    "tree.fit(x_tr_scaler,y_tr_scaler)"
   ]
  },
  {
   "cell_type": "code",
   "execution_count": 14,
   "metadata": {},
   "outputs": [],
   "source": [
    "Y_vl_pred = pd.DataFrame(tree.predict(x_vl_scaler),\n",
    "                      columns =target_col )\n",
    "Y_tr_pred = pd.DataFrame(tree.predict(x_tr_scaler),\n",
    "                      columns =target_col )\n",
    "\n",
    "from sklearn.metrics import mean_squared_error as MSE\n",
    "# LA PREDICCION DE FLOOR PRESENTA EL MAYOR MSE.\n",
    "mse_val = MSE(y_vl_scaler, Y_vl_pred)\n",
    "mse_tr = MSE(y_tr_scaler, Y_tr_pred)"
   ]
  },
  {
   "cell_type": "code",
   "execution_count": 15,
   "metadata": {},
   "outputs": [
    {
     "data": {
      "text/html": [
       "<div>\n",
       "<style scoped>\n",
       "    .dataframe tbody tr th:only-of-type {\n",
       "        vertical-align: middle;\n",
       "    }\n",
       "\n",
       "    .dataframe tbody tr th {\n",
       "        vertical-align: top;\n",
       "    }\n",
       "\n",
       "    .dataframe thead th {\n",
       "        text-align: right;\n",
       "    }\n",
       "</style>\n",
       "<table border=\"1\" class=\"dataframe\">\n",
       "  <thead>\n",
       "    <tr style=\"text-align: right;\">\n",
       "      <th></th>\n",
       "      <th>LONGITUDE</th>\n",
       "      <th>LATITUDE</th>\n",
       "      <th>FLOOR</th>\n",
       "    </tr>\n",
       "  </thead>\n",
       "  <tbody>\n",
       "    <tr>\n",
       "      <th>0</th>\n",
       "      <td>0.928201</td>\n",
       "      <td>-0.952707</td>\n",
       "      <td>1.100843</td>\n",
       "    </tr>\n",
       "    <tr>\n",
       "      <th>1</th>\n",
       "      <td>0.342606</td>\n",
       "      <td>-0.272178</td>\n",
       "      <td>-0.546947</td>\n",
       "    </tr>\n",
       "    <tr>\n",
       "      <th>2</th>\n",
       "      <td>-1.194813</td>\n",
       "      <td>1.618170</td>\n",
       "      <td>0.276948</td>\n",
       "    </tr>\n",
       "    <tr>\n",
       "      <th>3</th>\n",
       "      <td>0.342606</td>\n",
       "      <td>-0.272178</td>\n",
       "      <td>-0.546947</td>\n",
       "    </tr>\n",
       "    <tr>\n",
       "      <th>4</th>\n",
       "      <td>0.342606</td>\n",
       "      <td>-0.272178</td>\n",
       "      <td>-0.546947</td>\n",
       "    </tr>\n",
       "  </tbody>\n",
       "</table>\n",
       "</div>"
      ],
      "text/plain": [
       "   LONGITUDE  LATITUDE     FLOOR\n",
       "0   0.928201 -0.952707  1.100843\n",
       "1   0.342606 -0.272178 -0.546947\n",
       "2  -1.194813  1.618170  0.276948\n",
       "3   0.342606 -0.272178 -0.546947\n",
       "4   0.342606 -0.272178 -0.546947"
      ]
     },
     "execution_count": 15,
     "metadata": {},
     "output_type": "execute_result"
    }
   ],
   "source": [
    "Y_vl_pred.head()"
   ]
  },
  {
   "cell_type": "code",
   "execution_count": 16,
   "metadata": {},
   "outputs": [
    {
     "name": "stdout",
     "output_type": "stream",
     "text": [
      "DATOS DEL MODELO ÁRBOLES DE DECISIÓN REGRESION\n",
      "\n",
      "Score validation:\n",
      "0.4235531966091855\n",
      "\n",
      "MSE validation :\n",
      "0.5677492672904855\n",
      "\n",
      "Score training:\n",
      "0.4379593326304821\n",
      "\n",
      "MSE training :\n",
      "0.562040667369518\n"
     ]
    },
    {
     "name": "stderr",
     "output_type": "stream",
     "text": [
      "/home/lenovo/.conda/envs/machinelearning/lib/python3.6/site-packages/sklearn/base.py:420: FutureWarning: The default value of multioutput (not exposed in score method) will change from 'variance_weighted' to 'uniform_average' in 0.23 to keep consistent with 'metrics.r2_score'. To specify the default value manually and avoid the warning, please either call 'metrics.r2_score' directly or make a custom scorer with 'metrics.make_scorer' (the built-in scorer 'r2' uses multioutput='uniform_average').\n",
      "  \"multioutput='uniform_average').\", FutureWarning)\n",
      "/home/lenovo/.conda/envs/machinelearning/lib/python3.6/site-packages/sklearn/base.py:420: FutureWarning: The default value of multioutput (not exposed in score method) will change from 'variance_weighted' to 'uniform_average' in 0.23 to keep consistent with 'metrics.r2_score'. To specify the default value manually and avoid the warning, please either call 'metrics.r2_score' directly or make a custom scorer with 'metrics.make_scorer' (the built-in scorer 'r2' uses multioutput='uniform_average').\n",
      "  \"multioutput='uniform_average').\", FutureWarning)\n"
     ]
    }
   ],
   "source": [
    "\n",
    "print('DATOS DEL MODELO ÁRBOLES DE DECISIÓN REGRESION')\n",
    "print()\n",
    "print('Score validation:')\n",
    "print(tree.score(x_vl_scaler,y_vl_scaler))\n",
    "print()\n",
    "print('MSE validation :')\n",
    "print(mse_val)\n",
    "print()\n",
    "print('Score training:')\n",
    "print(tree.score(x_tr_scaler,y_tr_scaler))\n",
    "print()\n",
    "print('MSE training :')\n",
    "print(mse_tr)"
   ]
  },
  {
   "cell_type": "markdown",
   "metadata": {},
   "source": [
    "#### Desarrollo mediante un modelo de regresión lineal tradicional múltiple"
   ]
  },
  {
   "cell_type": "code",
   "execution_count": 17,
   "metadata": {},
   "outputs": [
    {
     "data": {
      "text/plain": [
       "LinearRegression(copy_X=True, fit_intercept=True, n_jobs=None, normalize=False)"
      ]
     },
     "execution_count": 17,
     "metadata": {},
     "output_type": "execute_result"
    }
   ],
   "source": [
    "lr_multiple = LinearRegression()\n",
    "lr_multiple.fit(x_tr_scaler,y_tr_scaler)"
   ]
  },
  {
   "cell_type": "code",
   "execution_count": 18,
   "metadata": {},
   "outputs": [],
   "source": [
    "Y_pred_multiple_vl = pd.DataFrame(lr_multiple.predict(x_vl_scaler),\n",
    "                      columns =target_col )\n",
    "Y_pred_multiple_tr = pd.DataFrame(lr_multiple.predict(x_tr_scaler),\n",
    "                      columns =target_col )"
   ]
  },
  {
   "cell_type": "code",
   "execution_count": 19,
   "metadata": {},
   "outputs": [
    {
     "data": {
      "text/html": [
       "<div>\n",
       "<style scoped>\n",
       "    .dataframe tbody tr th:only-of-type {\n",
       "        vertical-align: middle;\n",
       "    }\n",
       "\n",
       "    .dataframe tbody tr th {\n",
       "        vertical-align: top;\n",
       "    }\n",
       "\n",
       "    .dataframe thead th {\n",
       "        text-align: right;\n",
       "    }\n",
       "</style>\n",
       "<table border=\"1\" class=\"dataframe\">\n",
       "  <thead>\n",
       "    <tr style=\"text-align: right;\">\n",
       "      <th></th>\n",
       "      <th>LONGITUDE</th>\n",
       "      <th>LATITUDE</th>\n",
       "      <th>FLOOR</th>\n",
       "    </tr>\n",
       "  </thead>\n",
       "  <tbody>\n",
       "    <tr>\n",
       "      <th>0</th>\n",
       "      <td>-0.205475</td>\n",
       "      <td>-0.240753</td>\n",
       "      <td>0.157852</td>\n",
       "    </tr>\n",
       "    <tr>\n",
       "      <th>1</th>\n",
       "      <td>0.572388</td>\n",
       "      <td>-0.839661</td>\n",
       "      <td>-0.633759</td>\n",
       "    </tr>\n",
       "    <tr>\n",
       "      <th>2</th>\n",
       "      <td>0.721497</td>\n",
       "      <td>-0.427094</td>\n",
       "      <td>0.895699</td>\n",
       "    </tr>\n",
       "    <tr>\n",
       "      <th>3</th>\n",
       "      <td>0.357819</td>\n",
       "      <td>-0.818268</td>\n",
       "      <td>1.093025</td>\n",
       "    </tr>\n",
       "    <tr>\n",
       "      <th>4</th>\n",
       "      <td>-1.128632</td>\n",
       "      <td>1.638885</td>\n",
       "      <td>-1.067894</td>\n",
       "    </tr>\n",
       "  </tbody>\n",
       "</table>\n",
       "</div>"
      ],
      "text/plain": [
       "   LONGITUDE  LATITUDE     FLOOR\n",
       "0  -0.205475 -0.240753  0.157852\n",
       "1   0.572388 -0.839661 -0.633759\n",
       "2   0.721497 -0.427094  0.895699\n",
       "3   0.357819 -0.818268  1.093025\n",
       "4  -1.128632  1.638885 -1.067894"
      ]
     },
     "execution_count": 19,
     "metadata": {},
     "output_type": "execute_result"
    }
   ],
   "source": [
    "Y_pred_multiple_tr.head()"
   ]
  },
  {
   "cell_type": "code",
   "execution_count": 20,
   "metadata": {},
   "outputs": [
    {
     "data": {
      "text/html": [
       "<div>\n",
       "<style scoped>\n",
       "    .dataframe tbody tr th:only-of-type {\n",
       "        vertical-align: middle;\n",
       "    }\n",
       "\n",
       "    .dataframe tbody tr th {\n",
       "        vertical-align: top;\n",
       "    }\n",
       "\n",
       "    .dataframe thead th {\n",
       "        text-align: right;\n",
       "    }\n",
       "</style>\n",
       "<table border=\"1\" class=\"dataframe\">\n",
       "  <thead>\n",
       "    <tr style=\"text-align: right;\">\n",
       "      <th></th>\n",
       "      <th>LONGITUDE</th>\n",
       "      <th>LATITUDE</th>\n",
       "      <th>FLOOR</th>\n",
       "    </tr>\n",
       "  </thead>\n",
       "  <tbody>\n",
       "    <tr>\n",
       "      <th>0</th>\n",
       "      <td>-0.356338</td>\n",
       "      <td>0.183466</td>\n",
       "      <td>0.276948</td>\n",
       "    </tr>\n",
       "    <tr>\n",
       "      <th>1</th>\n",
       "      <td>0.482507</td>\n",
       "      <td>-0.902833</td>\n",
       "      <td>-0.546947</td>\n",
       "    </tr>\n",
       "    <tr>\n",
       "      <th>2</th>\n",
       "      <td>0.750498</td>\n",
       "      <td>-0.252855</td>\n",
       "      <td>1.100843</td>\n",
       "    </tr>\n",
       "    <tr>\n",
       "      <th>3</th>\n",
       "      <td>0.667276</td>\n",
       "      <td>-1.417564</td>\n",
       "      <td>1.100843</td>\n",
       "    </tr>\n",
       "    <tr>\n",
       "      <th>4</th>\n",
       "      <td>-1.149000</td>\n",
       "      <td>1.554623</td>\n",
       "      <td>-0.546947</td>\n",
       "    </tr>\n",
       "  </tbody>\n",
       "</table>\n",
       "</div>"
      ],
      "text/plain": [
       "   LONGITUDE  LATITUDE     FLOOR\n",
       "0  -0.356338  0.183466  0.276948\n",
       "1   0.482507 -0.902833 -0.546947\n",
       "2   0.750498 -0.252855  1.100843\n",
       "3   0.667276 -1.417564  1.100843\n",
       "4  -1.149000  1.554623 -0.546947"
      ]
     },
     "execution_count": 20,
     "metadata": {},
     "output_type": "execute_result"
    }
   ],
   "source": [
    "y_tr_scaler.head()"
   ]
  },
  {
   "cell_type": "code",
   "execution_count": 21,
   "metadata": {},
   "outputs": [],
   "source": [
    "mse_LR_val = MSE(y_vl_scaler,Y_pred_multiple_vl)\n",
    "mse_LR_tr = MSE(y_tr_scaler,Y_pred_multiple_tr)"
   ]
  },
  {
   "cell_type": "code",
   "execution_count": 22,
   "metadata": {},
   "outputs": [
    {
     "name": "stdout",
     "output_type": "stream",
     "text": [
      "DATOS DEL MODELO REGRESOR LINEAL MÚLTIPLE\n",
      "\n",
      "Score validation:\n",
      "-2.8403794318403894e+24\n",
      "\n",
      "MSE validation :\n",
      "2.797523261068435e+24\n",
      "\n",
      "Score training:\n",
      "0.9247090842891622\n",
      "\n",
      "MSE training :\n",
      "0.07529091571083789\n"
     ]
    },
    {
     "name": "stderr",
     "output_type": "stream",
     "text": [
      "/home/lenovo/.conda/envs/machinelearning/lib/python3.6/site-packages/sklearn/base.py:420: FutureWarning: The default value of multioutput (not exposed in score method) will change from 'variance_weighted' to 'uniform_average' in 0.23 to keep consistent with 'metrics.r2_score'. To specify the default value manually and avoid the warning, please either call 'metrics.r2_score' directly or make a custom scorer with 'metrics.make_scorer' (the built-in scorer 'r2' uses multioutput='uniform_average').\n",
      "  \"multioutput='uniform_average').\", FutureWarning)\n",
      "/home/lenovo/.conda/envs/machinelearning/lib/python3.6/site-packages/sklearn/base.py:420: FutureWarning: The default value of multioutput (not exposed in score method) will change from 'variance_weighted' to 'uniform_average' in 0.23 to keep consistent with 'metrics.r2_score'. To specify the default value manually and avoid the warning, please either call 'metrics.r2_score' directly or make a custom scorer with 'metrics.make_scorer' (the built-in scorer 'r2' uses multioutput='uniform_average').\n",
      "  \"multioutput='uniform_average').\", FutureWarning)\n"
     ]
    }
   ],
   "source": [
    "print('DATOS DEL MODELO REGRESOR LINEAL MÚLTIPLE')\n",
    "print()\n",
    "print('Score validation:')\n",
    "print(lr_multiple.score(x_vl_scaler,y_vl_scaler))\n",
    "print()\n",
    "print('MSE validation :')\n",
    "print(mse_LR_val)\n",
    "print()\n",
    "print('Score training:')\n",
    "print(lr_multiple.score(x_tr_scaler,y_tr_scaler))\n",
    "print()\n",
    "print('MSE training :')\n",
    "print(mse_LR_tr)"
   ]
  },
  {
   "cell_type": "markdown",
   "metadata": {},
   "source": [
    "#### Respuesta : \n",
    "\n",
    "**¿Cómo se comparan los tiempos de entrenamiento?**\n",
    "\n",
    "El modelo de regresión arbol de decisión toma un tiempo de entrenamiento , alrededor de unas 70 veces mayor que el modelo de regresión lineal multiple.\n",
    "\n",
    "|Modelo                     | Tiempo Entrenamiento  [s]   |\n",
    "|:------------------------- |:---------------------------:|\n",
    "|DecisionTreeRegressor      | 107 [s]                     | \n",
    "|LinearRegression           | 1.5 [s]                     |\n",
    "\n",
    "\n",
    "**¿Le parece justificado el costo adicional?**\n",
    "\n",
    "Para responder esta pregunta, primero realizaremos una comparación del desempeño de cada modelo (LinearRegression, DecisionTreeRegressor) y así determinar si es es justificado el costo computacional empleado en el arbol verus el de la regresion lineal. \n",
    "\n",
    "|Modelo                     | Accuracy [ Train ] | Accuracy [validtion]  |      \n",
    "|:------------------------- |:------------------:|:---------------------:|\n",
    "|DecisionTreeRegressor      |0.4412997732360018  | 0.4174114985077477    |   \n",
    "|LinearRegression           |0.9246953778376582  | 0.0000000000000000    |\n",
    "\n",
    "En base a los desempeños obtenidos por los modelos, se puede apreciar un claro sobre ajuste en el modelo LinearRegression, cambio el modelo DecisionTreeRegressor se comporta de mejor manera, no se observa sobreajuste u overfitting, pero su desmpeño es regular, pero falta realizar una exploración en la profundidad del árbol. \n",
    "\n",
    "\n"
   ]
  },
  {
   "cell_type": "markdown",
   "metadata": {},
   "source": [
    "#### 1.d _Stump_\n",
    "Entrene ahora un _Stump_ o arbol de profundidad 1. ¿Cómo cambia el error (MAE) en entrenamiento y validación con respecto al árbol de la pregunta anterior? Discuta sobre el numero de parámetros entrenables que tendrá cada modelo."
   ]
  },
  {
   "cell_type": "code",
   "execution_count": 53,
   "metadata": {},
   "outputs": [
    {
     "data": {
      "text/plain": [
       "DecisionTreeRegressor(criterion='mae', max_depth=1, max_features=None,\n",
       "                      max_leaf_nodes=None, min_impurity_decrease=0.0,\n",
       "                      min_impurity_split=None, min_samples_leaf=1,\n",
       "                      min_samples_split=2, min_weight_fraction_leaf=0.0,\n",
       "                      presort=False, random_state=None, splitter='best')"
      ]
     },
     "execution_count": 53,
     "metadata": {},
     "output_type": "execute_result"
    }
   ],
   "source": [
    "stump =  DecisionTreeRegressor(criterion='mae',\n",
    "                            max_depth= 1)\n",
    "stump.fit(x_tr_scaler,y_tr_scaler)"
   ]
  },
  {
   "cell_type": "code",
   "execution_count": 54,
   "metadata": {},
   "outputs": [],
   "source": [
    "Y_vl_pre = pd.DataFrame(stump.predict(x_vl_scaler),\n",
    "                      columns =target_col )\n",
    "Y_tr_pre = pd.DataFrame(stump.predict(x_tr_scaler),\n",
    "                      columns =target_col )\n",
    "\n",
    "from sklearn.metrics import mean_squared_error as MSE\n",
    "# LA PREDICCION DE FLOOR PRESENTA EL MAYOR MSE.\n",
    "mse_val_stump = MSE(y_vl_scaler, Y_vl_pre)\n",
    "mse_tr_stump = MSE(y_tr_scaler, Y_tr_pre)"
   ]
  },
  {
   "cell_type": "code",
   "execution_count": 55,
   "metadata": {},
   "outputs": [
    {
     "name": "stdout",
     "output_type": "stream",
     "text": [
      "DATOS DEL MODELO ÁRBOLES DE DECISIÓN REGRESION STUMP\n",
      "\n",
      "Score validation:\n",
      "0.09867060514288468\n",
      "\n",
      "MSE validation :\n",
      "0.8936608943016747\n",
      "\n",
      "Score training:\n",
      "0.11101180366254383\n",
      "\n",
      "MSE training :\n",
      "0.8889881963374563\n"
     ]
    },
    {
     "name": "stderr",
     "output_type": "stream",
     "text": [
      "/home/lenovo/.conda/envs/machinelearning/lib/python3.6/site-packages/sklearn/base.py:420: FutureWarning:\n",
      "\n",
      "The default value of multioutput (not exposed in score method) will change from 'variance_weighted' to 'uniform_average' in 0.23 to keep consistent with 'metrics.r2_score'. To specify the default value manually and avoid the warning, please either call 'metrics.r2_score' directly or make a custom scorer with 'metrics.make_scorer' (the built-in scorer 'r2' uses multioutput='uniform_average').\n",
      "\n",
      "/home/lenovo/.conda/envs/machinelearning/lib/python3.6/site-packages/sklearn/base.py:420: FutureWarning:\n",
      "\n",
      "The default value of multioutput (not exposed in score method) will change from 'variance_weighted' to 'uniform_average' in 0.23 to keep consistent with 'metrics.r2_score'. To specify the default value manually and avoid the warning, please either call 'metrics.r2_score' directly or make a custom scorer with 'metrics.make_scorer' (the built-in scorer 'r2' uses multioutput='uniform_average').\n",
      "\n"
     ]
    }
   ],
   "source": [
    "print('DATOS DEL MODELO ÁRBOLES DE DECISIÓN REGRESION STUMP')\n",
    "print()\n",
    "print('Score validation:')\n",
    "print(stump.score(x_vl_scaler,y_vl_scaler))\n",
    "print()\n",
    "print('MSE validation :')\n",
    "print(mse_val_stump)\n",
    "print()\n",
    "print('Score training:')\n",
    "print(stump.score(x_tr_scaler,y_tr_scaler))\n",
    "print()\n",
    "print('MSE training :')\n",
    "print(mse_tr_stump)"
   ]
  },
  {
   "cell_type": "markdown",
   "metadata": {},
   "source": [
    "#### Comparación de Desempeño Arboles profundidad 3 y 1.\n",
    "\n",
    "\n",
    "|Modelo                       | Tiempo Entrenamiento  [s]   |\n",
    "|:----------------------------|:---------------------------:|\n",
    "|DecisionTreeRegressor (3)    | 107 [s]                     | \n",
    "|DecisionTreeRegressor (stump)| 48[s]                       |\n",
    "\n",
    "|Modelo                     | Accuracy [ Train ] | Accuracy [validtion]  |      \n",
    "|:------------------------- |:------------------:|:---------------------:|\n",
    "|DecisionTreeRegressor (3)  | 0.4379593326304821 | 0.4235531966091855   |   \n",
    "|DecisionTreeRegressor (stump)|0.11101180366254383 |0.09867060514288468| \n",
    "\n",
    "El árbol stump se demora la mitad del tiempo que demora el arbol de profundidad 3 en entrenarse.\n",
    "El desempeño del árbol stump es claramente menor al alcanzado por el arbol de profundidad 3."
   ]
  },
  {
   "cell_type": "markdown",
   "metadata": {},
   "source": [
    "#### 1.e Profundidad máxima\n",
    "Explore distintos valores de la profundidad máxima del árbol. Para esto, realice K-fold sobre al menos 10 valores distintos de la profundidad del árbol y compare el promedio de los MAE de validación. También guarde los promedios de MAE de _train_ y grafique como estos varían a medida varia la profundidad máxima. Idealmente debería considerar un rango entre profundidad máxima 1 y 20. Note que este paso puede resultar largo en tiempo de cómputo, podría ser recomendable correrlo en _Collab_ en caso de tener máquinas más lentas. \n",
    "\n",
    "Finalmente, entrene el arbol con profundidad óptima sobre todos los datos de entrenamiento y calcule su MAE sobre validación. ¿Mejoramos el desempeño obtenido anteriormente con los árboles sin sintonizar? "
   ]
  },
  {
   "cell_type": "code",
   "execution_count": 26,
   "metadata": {},
   "outputs": [],
   "source": [
    "df_col = df.columns\n",
    "phone= pd.get_dummies(df.PHONEID)\n",
    "phone_col=phone.columns\n",
    "index =  phone.head().index\n",
    "\n",
    "scaler = StandardScaler().fit(df)\n",
    "\n",
    "df_scal = pd.DataFrame(scaler.transform(df),\n",
    "                           columns = df_col)\n",
    "phone_scal=pd.DataFrame(phone.values-0.5,\n",
    "                             columns = phone_col)\n",
    "df_scaler = pd.concat([df_scal,phone_scal], axis = 1,\n",
    "                      join = 'inner')"
   ]
  },
  {
   "cell_type": "code",
   "execution_count": 27,
   "metadata": {},
   "outputs": [],
   "source": [
    "scaler = StandardScaler().fit(df)\n",
    "\n",
    "df_scal = pd.DataFrame(scaler.transform(df),\n",
    "                           columns = df_col)\n",
    "phone_scal=pd.DataFrame(phone.values-0.5,\n",
    "                             columns = phone_col)\n",
    "df_scaler = pd.concat([df_scal,phone_scal], axis = 1,\n",
    "                      join = 'inner')\n",
    "                                 "
   ]
  },
  {
   "cell_type": "code",
   "execution_count": 28,
   "metadata": {},
   "outputs": [],
   "source": [
    "X_Scaler = df_scaler.drop(columns=['LONGITUDE'\n",
    "                        ,'LATITUDE','FLOOR','PHONEID'])\n",
    "\n",
    "Y_Scaler = df_scaler[target_col]"
   ]
  },
  {
   "cell_type": "code",
   "execution_count": 29,
   "metadata": {},
   "outputs": [
    {
     "data": {
      "text/html": [
       "<div>\n",
       "<style scoped>\n",
       "    .dataframe tbody tr th:only-of-type {\n",
       "        vertical-align: middle;\n",
       "    }\n",
       "\n",
       "    .dataframe tbody tr th {\n",
       "        vertical-align: top;\n",
       "    }\n",
       "\n",
       "    .dataframe thead th {\n",
       "        text-align: right;\n",
       "    }\n",
       "</style>\n",
       "<table border=\"1\" class=\"dataframe\">\n",
       "  <thead>\n",
       "    <tr style=\"text-align: right;\">\n",
       "      <th></th>\n",
       "      <th>WAP001</th>\n",
       "      <th>WAP002</th>\n",
       "      <th>WAP003</th>\n",
       "      <th>WAP004</th>\n",
       "      <th>WAP005</th>\n",
       "      <th>WAP006</th>\n",
       "      <th>WAP007</th>\n",
       "      <th>WAP008</th>\n",
       "      <th>WAP009</th>\n",
       "      <th>WAP010</th>\n",
       "      <th>...</th>\n",
       "      <th>15</th>\n",
       "      <th>16</th>\n",
       "      <th>17</th>\n",
       "      <th>18</th>\n",
       "      <th>19</th>\n",
       "      <th>20</th>\n",
       "      <th>21</th>\n",
       "      <th>22</th>\n",
       "      <th>23</th>\n",
       "      <th>24</th>\n",
       "    </tr>\n",
       "  </thead>\n",
       "  <tbody>\n",
       "    <tr>\n",
       "      <th>0</th>\n",
       "      <td>0.035164</td>\n",
       "      <td>0.030057</td>\n",
       "      <td>0.009748</td>\n",
       "      <td>0.009748</td>\n",
       "      <td>0.043633</td>\n",
       "      <td>0.121739</td>\n",
       "      <td>0.167693</td>\n",
       "      <td>0.186706</td>\n",
       "      <td>0.178636</td>\n",
       "      <td>0.066964</td>\n",
       "      <td>...</td>\n",
       "      <td>-0.5</td>\n",
       "      <td>-0.5</td>\n",
       "      <td>-0.5</td>\n",
       "      <td>-0.5</td>\n",
       "      <td>-0.5</td>\n",
       "      <td>-0.5</td>\n",
       "      <td>-0.5</td>\n",
       "      <td>-0.5</td>\n",
       "      <td>-0.5</td>\n",
       "      <td>-0.5</td>\n",
       "    </tr>\n",
       "    <tr>\n",
       "      <th>1</th>\n",
       "      <td>0.035164</td>\n",
       "      <td>0.030057</td>\n",
       "      <td>0.009748</td>\n",
       "      <td>0.009748</td>\n",
       "      <td>0.043633</td>\n",
       "      <td>0.121739</td>\n",
       "      <td>0.167693</td>\n",
       "      <td>0.186706</td>\n",
       "      <td>0.178636</td>\n",
       "      <td>0.066964</td>\n",
       "      <td>...</td>\n",
       "      <td>-0.5</td>\n",
       "      <td>-0.5</td>\n",
       "      <td>-0.5</td>\n",
       "      <td>-0.5</td>\n",
       "      <td>-0.5</td>\n",
       "      <td>-0.5</td>\n",
       "      <td>-0.5</td>\n",
       "      <td>-0.5</td>\n",
       "      <td>-0.5</td>\n",
       "      <td>-0.5</td>\n",
       "    </tr>\n",
       "    <tr>\n",
       "      <th>2</th>\n",
       "      <td>0.035164</td>\n",
       "      <td>0.030057</td>\n",
       "      <td>0.009748</td>\n",
       "      <td>0.009748</td>\n",
       "      <td>0.043633</td>\n",
       "      <td>0.121739</td>\n",
       "      <td>0.167693</td>\n",
       "      <td>0.186706</td>\n",
       "      <td>0.178636</td>\n",
       "      <td>0.066964</td>\n",
       "      <td>...</td>\n",
       "      <td>-0.5</td>\n",
       "      <td>0.5</td>\n",
       "      <td>-0.5</td>\n",
       "      <td>-0.5</td>\n",
       "      <td>-0.5</td>\n",
       "      <td>-0.5</td>\n",
       "      <td>-0.5</td>\n",
       "      <td>-0.5</td>\n",
       "      <td>-0.5</td>\n",
       "      <td>-0.5</td>\n",
       "    </tr>\n",
       "    <tr>\n",
       "      <th>3</th>\n",
       "      <td>0.035164</td>\n",
       "      <td>0.030057</td>\n",
       "      <td>0.009748</td>\n",
       "      <td>0.009748</td>\n",
       "      <td>0.043633</td>\n",
       "      <td>0.121739</td>\n",
       "      <td>0.167693</td>\n",
       "      <td>0.186706</td>\n",
       "      <td>0.178636</td>\n",
       "      <td>0.066964</td>\n",
       "      <td>...</td>\n",
       "      <td>-0.5</td>\n",
       "      <td>-0.5</td>\n",
       "      <td>-0.5</td>\n",
       "      <td>-0.5</td>\n",
       "      <td>-0.5</td>\n",
       "      <td>-0.5</td>\n",
       "      <td>-0.5</td>\n",
       "      <td>-0.5</td>\n",
       "      <td>-0.5</td>\n",
       "      <td>-0.5</td>\n",
       "    </tr>\n",
       "    <tr>\n",
       "      <th>4</th>\n",
       "      <td>0.035164</td>\n",
       "      <td>0.030057</td>\n",
       "      <td>0.009748</td>\n",
       "      <td>0.009748</td>\n",
       "      <td>0.043633</td>\n",
       "      <td>0.121739</td>\n",
       "      <td>0.167693</td>\n",
       "      <td>0.186706</td>\n",
       "      <td>0.178636</td>\n",
       "      <td>0.066964</td>\n",
       "      <td>...</td>\n",
       "      <td>-0.5</td>\n",
       "      <td>-0.5</td>\n",
       "      <td>-0.5</td>\n",
       "      <td>-0.5</td>\n",
       "      <td>0.5</td>\n",
       "      <td>-0.5</td>\n",
       "      <td>-0.5</td>\n",
       "      <td>-0.5</td>\n",
       "      <td>-0.5</td>\n",
       "      <td>-0.5</td>\n",
       "    </tr>\n",
       "  </tbody>\n",
       "</table>\n",
       "<p>5 rows × 545 columns</p>\n",
       "</div>"
      ],
      "text/plain": [
       "     WAP001    WAP002    WAP003    WAP004    WAP005    WAP006    WAP007  \\\n",
       "0  0.035164  0.030057  0.009748  0.009748  0.043633  0.121739  0.167693   \n",
       "1  0.035164  0.030057  0.009748  0.009748  0.043633  0.121739  0.167693   \n",
       "2  0.035164  0.030057  0.009748  0.009748  0.043633  0.121739  0.167693   \n",
       "3  0.035164  0.030057  0.009748  0.009748  0.043633  0.121739  0.167693   \n",
       "4  0.035164  0.030057  0.009748  0.009748  0.043633  0.121739  0.167693   \n",
       "\n",
       "     WAP008    WAP009    WAP010  ...   15   16   17   18   19   20   21   22  \\\n",
       "0  0.186706  0.178636  0.066964  ... -0.5 -0.5 -0.5 -0.5 -0.5 -0.5 -0.5 -0.5   \n",
       "1  0.186706  0.178636  0.066964  ... -0.5 -0.5 -0.5 -0.5 -0.5 -0.5 -0.5 -0.5   \n",
       "2  0.186706  0.178636  0.066964  ... -0.5  0.5 -0.5 -0.5 -0.5 -0.5 -0.5 -0.5   \n",
       "3  0.186706  0.178636  0.066964  ... -0.5 -0.5 -0.5 -0.5 -0.5 -0.5 -0.5 -0.5   \n",
       "4  0.186706  0.178636  0.066964  ... -0.5 -0.5 -0.5 -0.5  0.5 -0.5 -0.5 -0.5   \n",
       "\n",
       "    23   24  \n",
       "0 -0.5 -0.5  \n",
       "1 -0.5 -0.5  \n",
       "2 -0.5 -0.5  \n",
       "3 -0.5 -0.5  \n",
       "4 -0.5 -0.5  \n",
       "\n",
       "[5 rows x 545 columns]"
      ]
     },
     "execution_count": 29,
     "metadata": {},
     "output_type": "execute_result"
    }
   ],
   "source": [
    "X_Scaler.head()"
   ]
  },
  {
   "cell_type": "code",
   "execution_count": 30,
   "metadata": {},
   "outputs": [
    {
     "data": {
      "text/html": [
       "<div>\n",
       "<style scoped>\n",
       "    .dataframe tbody tr th:only-of-type {\n",
       "        vertical-align: middle;\n",
       "    }\n",
       "\n",
       "    .dataframe tbody tr th {\n",
       "        vertical-align: top;\n",
       "    }\n",
       "\n",
       "    .dataframe thead th {\n",
       "        text-align: right;\n",
       "    }\n",
       "</style>\n",
       "<table border=\"1\" class=\"dataframe\">\n",
       "  <thead>\n",
       "    <tr style=\"text-align: right;\">\n",
       "      <th></th>\n",
       "      <th>LONGITUDE</th>\n",
       "      <th>LATITUDE</th>\n",
       "      <th>FLOOR</th>\n",
       "    </tr>\n",
       "  </thead>\n",
       "  <tbody>\n",
       "    <tr>\n",
       "      <th>0</th>\n",
       "      <td>0.693218</td>\n",
       "      <td>-0.396805</td>\n",
       "      <td>-0.551830</td>\n",
       "    </tr>\n",
       "    <tr>\n",
       "      <th>1</th>\n",
       "      <td>0.078783</td>\n",
       "      <td>-0.611194</td>\n",
       "      <td>0.272859</td>\n",
       "    </tr>\n",
       "    <tr>\n",
       "      <th>2</th>\n",
       "      <td>0.439613</td>\n",
       "      <td>-1.234513</td>\n",
       "      <td>1.922236</td>\n",
       "    </tr>\n",
       "    <tr>\n",
       "      <th>3</th>\n",
       "      <td>1.047587</td>\n",
       "      <td>-0.700261</td>\n",
       "      <td>0.272859</td>\n",
       "    </tr>\n",
       "    <tr>\n",
       "      <th>4</th>\n",
       "      <td>0.928278</td>\n",
       "      <td>-0.578528</td>\n",
       "      <td>1.922236</td>\n",
       "    </tr>\n",
       "  </tbody>\n",
       "</table>\n",
       "</div>"
      ],
      "text/plain": [
       "   LONGITUDE  LATITUDE     FLOOR\n",
       "0   0.693218 -0.396805 -0.551830\n",
       "1   0.078783 -0.611194  0.272859\n",
       "2   0.439613 -1.234513  1.922236\n",
       "3   1.047587 -0.700261  0.272859\n",
       "4   0.928278 -0.578528  1.922236"
      ]
     },
     "execution_count": 30,
     "metadata": {},
     "output_type": "execute_result"
    }
   ],
   "source": [
    "Y_Scaler.head()"
   ]
  },
  {
   "cell_type": "code",
   "execution_count": 31,
   "metadata": {},
   "outputs": [
    {
     "data": {
      "text/plain": [
       "21048"
      ]
     },
     "execution_count": 31,
     "metadata": {},
     "output_type": "execute_result"
    }
   ],
   "source": [
    "from sklearn.tree import DecisionTreeRegressor\n",
    "from sklearn.metrics import mean_squared_error as MSE\n",
    "len(df_scaler)"
   ]
  },
  {
   "cell_type": "code",
   "execution_count": 1,
   "metadata": {},
   "outputs": [],
   "source": [
    "## quiebre ciclo for de abajo demora mucho.\n",
    "kk"
   ]
  },
  {
   "cell_type": "code",
   "execution_count": null,
   "metadata": {},
   "outputs": [],
   "source": [
    "folds = KFold(n_splits=5)\n",
    "MSE_val_r_k = []\n",
    "space_r= []\n",
    "MSE_train_r_k = []\n",
    "#for lambd in range(1,41):\n",
    "    MSE_val_fold=[]\n",
    "    MSE_train_fold=[]\n",
    "    for train_index,val_index in (folds.split(X_Scaler)):\n",
    "        y_i = Y_Scaler\n",
    "        y_tr = ((y_i.iloc[train_index]))\n",
    "        x_tr = X_Scaler.iloc[train_index]\n",
    "        y_vl = ((y_i.iloc[val_index]))\n",
    "        x_vl = X_Scaler.iloc[val_index] \n",
    "        clf = DecisionTreeRegressor(criterion='mae',\n",
    "                            max_depth= lambd)\n",
    "        clf.fit(x_tr,y_tr)\n",
    "        Y_val_pred = clf.predict(x_vl)\n",
    "        Y_train_pred = clf.predict(x_tr)\n",
    "        mse_val= MSE(Y_val_pred,y_vl)\n",
    "        mse_train= MSE(Y_train_pred,y_tr)\n",
    "        MSE_val_fold.append(mse_val)\n",
    "        MSE_train_fold.append(mse_train)\n",
    "    MSE_val_r_k.append(np.mean(MSE_val_fold))\n",
    "    MSE_train_r_k.append(np.mean(MSE_train_fold))\n",
    "\n",
    "\n"
   ]
  },
  {
   "cell_type": "markdown",
   "metadata": {},
   "source": [
    "#### Cargar datos para graficos."
   ]
  },
  {
   "cell_type": "code",
   "execution_count": 2,
   "metadata": {},
   "outputs": [
    {
     "data": {
      "text/html": [
       "<div>\n",
       "<style scoped>\n",
       "    .dataframe tbody tr th:only-of-type {\n",
       "        vertical-align: middle;\n",
       "    }\n",
       "\n",
       "    .dataframe tbody tr th {\n",
       "        vertical-align: top;\n",
       "    }\n",
       "\n",
       "    .dataframe thead th {\n",
       "        text-align: right;\n",
       "    }\n",
       "</style>\n",
       "<table border=\"1\" class=\"dataframe\">\n",
       "  <thead>\n",
       "    <tr style=\"text-align: right;\">\n",
       "      <th></th>\n",
       "      <th>mse_train</th>\n",
       "      <th>mse_validation</th>\n",
       "    </tr>\n",
       "    <tr>\n",
       "      <th>max_depth</th>\n",
       "      <th></th>\n",
       "      <th></th>\n",
       "    </tr>\n",
       "  </thead>\n",
       "  <tbody>\n",
       "    <tr>\n",
       "      <th>1</th>\n",
       "      <td>0.890948</td>\n",
       "      <td>0.890964</td>\n",
       "    </tr>\n",
       "    <tr>\n",
       "      <th>2</th>\n",
       "      <td>0.680289</td>\n",
       "      <td>0.680461</td>\n",
       "    </tr>\n",
       "    <tr>\n",
       "      <th>3</th>\n",
       "      <td>0.562890</td>\n",
       "      <td>0.563398</td>\n",
       "    </tr>\n",
       "    <tr>\n",
       "      <th>4</th>\n",
       "      <td>0.441870</td>\n",
       "      <td>0.446055</td>\n",
       "    </tr>\n",
       "    <tr>\n",
       "      <th>5</th>\n",
       "      <td>0.387425</td>\n",
       "      <td>0.392947</td>\n",
       "    </tr>\n",
       "  </tbody>\n",
       "</table>\n",
       "</div>"
      ],
      "text/plain": [
       "           mse_train  mse_validation\n",
       "max_depth                           \n",
       "1           0.890948        0.890964\n",
       "2           0.680289        0.680461\n",
       "3           0.562890        0.563398\n",
       "4           0.441870        0.446055\n",
       "5           0.387425        0.392947"
      ]
     },
     "execution_count": 2,
     "metadata": {},
     "output_type": "execute_result"
    }
   ],
   "source": [
    "import pandas as pd\n",
    "import numpy as np\n",
    "import matplotlib.pyplot as plt\n",
    "Tree_maxdepth = pd.read_csv('Tree_maxdepth.csv', index_col=0, parse_dates=True)\n",
    "Tree_maxdepth.head()"
   ]
  },
  {
   "cell_type": "code",
   "execution_count": 34,
   "metadata": {},
   "outputs": [
    {
     "data": {
      "text/plain": [
       "Int64Index([ 1,  2,  3,  4,  5,  6,  7,  8,  9, 10, 11, 12, 13, 14, 15, 16, 17,\n",
       "            18, 19, 20, 21, 22, 23, 24, 25, 26, 27, 28, 29, 30, 31, 32, 33, 34,\n",
       "            35, 36, 37, 38, 39, 40],\n",
       "           dtype='int64', name='max_depth')"
      ]
     },
     "execution_count": 34,
     "metadata": {},
     "output_type": "execute_result"
    }
   ],
   "source": [
    "Tree_maxdepth.index"
   ]
  },
  {
   "cell_type": "code",
   "execution_count": 3,
   "metadata": {},
   "outputs": [
    {
     "data": {
      "image/png": "[encoded data removed]",
      "text/plain": [
       "<Figure size 720x540 with 1 Axes>"
      ]
     },
     "metadata": {
      "needs_background": "light"
     },
     "output_type": "display_data"
    }
   ],
   "source": [
    "\n",
    "plt.figure(figsize=(8,6), dpi=90)\n",
    "plt.plot(Tree_maxdepth.index,Tree_maxdepth['mse_validation'],'-b^', label = 'Validation')\n",
    "plt.plot(Tree_maxdepth.index,Tree_maxdepth['mse_train'],color ='g', label = 'Training' )\n",
    "plt.xlabel('max_depth')\n",
    "plt.ylabel('MSE')\n",
    "plt.title('MSE v/s max_depth ')\n",
    "plt.legend(loc='upper right')\n",
    "\n",
    "#plt.tight_layout()\n",
    "plt.show()"
   ]
  },
  {
   "cell_type": "markdown",
   "metadata": {},
   "source": [
    "#### Zoom de la parte donde se estabiliza el error de validación, si no esta cargado el grafico ejecutar la celda estań los datos guardados."
   ]
  },
  {
   "cell_type": "code",
   "execution_count": 1,
   "metadata": {
    "scrolled": false
   },
   "outputs": [
    {
     "data": {
      "text/html": [
       "        <script type=\"text/javascript\">\n",
       "        window.PlotlyConfig = {MathJaxConfig: 'local'};\n",
       "        if (window.MathJax) {MathJax.Hub.Config({SVG: {font: \"STIX-Web\"}});}\n",
       "        if (typeof require !== 'undefined') {\n",
       "        require.undef(\"plotly\");\n",
       "        requirejs.config({\n",
       "            paths: {\n",
       "                'plotly': ['https://cdn.plot.ly/plotly-latest.min']\n",
       "            }\n",
       "        });\n",
       "        require(['plotly'], function(Plotly) {\n",
       "            window._Plotly = Plotly;\n",
       "        });\n",
       "        }\n",
       "        </script>\n",
       "        "
      ]
     },
     "metadata": {},
     "output_type": "display_data"
    },
    {
     "data": {
      "text/html": [
       "        <script type=\"text/javascript\">\n",
       "        window.PlotlyConfig = {MathJaxConfig: 'local'};\n",
       "        if (window.MathJax) {MathJax.Hub.Config({SVG: {font: \"STIX-Web\"}});}\n",
       "        if (typeof require !== 'undefined') {\n",
       "        require.undef(\"plotly\");\n",
       "        requirejs.config({\n",
       "            paths: {\n",
       "                'plotly': ['https://cdn.plot.ly/plotly-latest.min']\n",
       "            }\n",
       "        });\n",
       "        require(['plotly'], function(Plotly) {\n",
       "            window._Plotly = Plotly;\n",
       "        });\n",
       "        }\n",
       "        </script>\n",
       "        "
      ]
     },
     "metadata": {},
     "output_type": "display_data"
    },
    {
     "data": {
      "application/vnd.plotly.v1+json": {
       "config": {
        "linkText": "Export to plot.ly",
        "plotlyServerURL": "https://plot.ly",
        "showLink": true
       },
       "data": [
        {
         "line": {
          "color": "rgba(100, 149, 237, 1.0)",
          "dash": "solid",
          "shape": "linear",
          "width": 1.3
         },
         "mode": "lines",
         "name": "mse_validation",
         "text": "",
         "type": "scatter",
         "uid": "ba22be89-47c8-4914-8529-5db20186684a",
         "x": [
          21,
          22,
          23,
          24,
          25,
          26,
          27,
          28,
          29,
          30,
          31,
          32,
          33,
          34,
          35,
          36,
          37,
          38,
          39,
          40
         ],
         "y": [
          0.055664917320566866,
          0.05375303886237719,
          0.05084796903517471,
          0.04762231831101115,
          0.044704303080784186,
          0.0420401566408856,
          0.040473408484200085,
          0.03793096370079548,
          0.03558519094890926,
          0.03448272812029928,
          0.03443439363757071,
          0.03383749120808924,
          0.033424047619422546,
          0.03271624995285473,
          0.032826573870050134,
          0.0316234211726705,
          0.032275205994256755,
          0.030566499714853857,
          0.030798276618117192,
          0.03138284731913772
         ]
        }
       ],
       "layout": {
        "legend": {
         "bgcolor": "#F5F6F9",
         "font": {
          "color": "#4D5663"
         }
        },
        "paper_bgcolor": "#F5F6F9",
        "plot_bgcolor": "#F5F6F9",
        "title": {
         "font": {
          "color": "#4D5663"
         },
         "text": "MSE_validation   DecisionTreeRegresion"
        },
        "xaxis": {
         "gridcolor": "#E1E5ED",
         "showgrid": true,
         "tickfont": {
          "color": "#4D5663"
         },
         "title": {
          "font": {
           "color": "#4D5663"
          },
          "text": "max_depth"
         },
         "zerolinecolor": "#E1E5ED"
        },
        "yaxis": {
         "gridcolor": "#E1E5ED",
         "showgrid": true,
         "tickfont": {
          "color": "#4D5663"
         },
         "title": {
          "font": {
           "color": "#4D5663"
          },
          "text": "MSE"
         },
         "zerolinecolor": "#E1E5ED"
        }
       }
      },
      "text/html": [
       "<div>\n",
       "        \n",
       "        \n",
       "            <div id=\"54e8b2cc-ad4c-4ba4-bb70-77b73c59bb46\" class=\"plotly-graph-div\" style=\"height:525px; width:100%;\"></div>\n",
       "            <script type=\"text/javascript\">\n",
       "                require([\"plotly\"], function(Plotly) {\n",
       "                    window.PLOTLYENV=window.PLOTLYENV || {};\n",
       "                    window.PLOTLYENV.BASE_URL='https://plot.ly';\n",
       "                    \n",
       "                if (document.getElementById(\"54e8b2cc-ad4c-4ba4-bb70-77b73c59bb46\")) {\n",
       "                    Plotly.newPlot(\n",
       "                        '54e8b2cc-ad4c-4ba4-bb70-77b73c59bb46',\n",
       "                        [{\"line\": {\"color\": \"rgba(100, 149, 237, 1.0)\", \"dash\": \"solid\", \"shape\": \"linear\", \"width\": 1.3}, \"mode\": \"lines\", \"name\": \"mse_validation\", \"text\": \"\", \"type\": \"scatter\", \"uid\": \"ba22be89-47c8-4914-8529-5db20186684a\", \"x\": [21, 22, 23, 24, 25, 26, 27, 28, 29, 30, 31, 32, 33, 34, 35, 36, 37, 38, 39, 40], \"y\": [0.055664917320566866, 0.05375303886237719, 0.05084796903517471, 0.04762231831101115, 0.044704303080784186, 0.0420401566408856, 0.040473408484200085, 0.03793096370079548, 0.03558519094890926, 0.03448272812029928, 0.03443439363757071, 0.03383749120808924, 0.033424047619422546, 0.03271624995285473, 0.032826573870050134, 0.0316234211726705, 0.032275205994256755, 0.030566499714853857, 0.030798276618117192, 0.03138284731913772]}],\n",
       "                        {\"legend\": {\"bgcolor\": \"#F5F6F9\", \"font\": {\"color\": \"#4D5663\"}}, \"paper_bgcolor\": \"#F5F6F9\", \"plot_bgcolor\": \"#F5F6F9\", \"title\": {\"font\": {\"color\": \"#4D5663\"}, \"text\": \"MSE_validation   DecisionTreeRegresion\"}, \"xaxis\": {\"gridcolor\": \"#E1E5ED\", \"showgrid\": true, \"tickfont\": {\"color\": \"#4D5663\"}, \"title\": {\"font\": {\"color\": \"#4D5663\"}, \"text\": \"max_depth\"}, \"zerolinecolor\": \"#E1E5ED\"}, \"yaxis\": {\"gridcolor\": \"#E1E5ED\", \"showgrid\": true, \"tickfont\": {\"color\": \"#4D5663\"}, \"title\": {\"font\": {\"color\": \"#4D5663\"}, \"text\": \"MSE\"}, \"zerolinecolor\": \"#E1E5ED\"}},\n",
       "                        {\"showLink\": true, \"linkText\": \"Export to plot.ly\", \"plotlyServerURL\": \"https://plot.ly\", \"responsive\": true}\n",
       "                    ).then(function(){\n",
       "                            \n",
       "var gd = document.getElementById('54e8b2cc-ad4c-4ba4-bb70-77b73c59bb46');\n",
       "var x = new MutationObserver(function (mutations, observer) {{\n",
       "        var display = window.getComputedStyle(gd).display;\n",
       "        if (!display || display === 'none') {{\n",
       "            console.log([gd, 'removed!']);\n",
       "            Plotly.purge(gd);\n",
       "            observer.disconnect();\n",
       "        }}\n",
       "}});\n",
       "\n",
       "// Listen for the removal of the full notebook cells\n",
       "var notebookContainer = gd.closest('#notebook-container');\n",
       "if (notebookContainer) {{\n",
       "    x.observe(notebookContainer, {childList: true});\n",
       "}}\n",
       "\n",
       "// Listen for the clearing of the current output cell\n",
       "var outputEl = gd.closest('.output');\n",
       "if (outputEl) {{\n",
       "    x.observe(outputEl, {childList: true});\n",
       "}}\n",
       "\n",
       "                        })\n",
       "                };\n",
       "                });\n",
       "            </script>\n",
       "        </div>"
      ]
     },
     "metadata": {},
     "output_type": "display_data"
    }
   ],
   "source": [
    "import pandas as pd\n",
    "import numpy as np\n",
    "import matplotlib.pyplot as plt\n",
    "Tree_maxdepth = pd.read_csv('Tree_maxdepth.csv', index_col=0, parse_dates=True)\n",
    "\n",
    "import chart_studio.plotly as py\n",
    "import plotly.graph_objs as go\n",
    "from plotly.offline import iplot, init_notebook_mode\n",
    "# Using plotly + cufflinks in offline mode\n",
    "import cufflinks as cf\n",
    "cf.go_offline(connected=True)\n",
    "init_notebook_mode(connected=True)\n",
    "Tree_maxdepth['mse_validation'][20:].iplot(kind='line', xTitle='max_depth', color='cornflowerblue',\n",
    "                  yTitle='MSE', title='MSE_validation   DecisionTreeRegresion')"
   ]
  },
  {
   "cell_type": "markdown",
   "metadata": {},
   "source": [
    "#### Profundidad optima es igual a 30, debido a que en hasta esta profundidad la validación presenta siempre mejora, más allá de esta profundidad el modelo comienza a experimentar una expecie a overfitting ya que el MSE comienxa a oscilar mejorando y empeorando."
   ]
  },
  {
   "cell_type": "code",
   "execution_count": 56,
   "metadata": {},
   "outputs": [
    {
     "data": {
      "text/plain": [
       "DecisionTreeRegressor(criterion='mae', max_depth=30, max_features=None,\n",
       "                      max_leaf_nodes=None, min_impurity_decrease=0.0,\n",
       "                      min_impurity_split=None, min_samples_leaf=1,\n",
       "                      min_samples_split=2, min_weight_fraction_leaf=0.0,\n",
       "                      presort=False, random_state=None, splitter='best')"
      ]
     },
     "execution_count": 56,
     "metadata": {},
     "output_type": "execute_result"
    }
   ],
   "source": [
    "from sklearn.tree import DecisionTreeRegressor\n",
    "\n",
    "tree30 = DecisionTreeRegressor(criterion='mae',\n",
    "                            max_depth=30)\n",
    "tree30.fit(x_tr_scaler,y_tr_scaler)"
   ]
  },
  {
   "cell_type": "code",
   "execution_count": 57,
   "metadata": {},
   "outputs": [],
   "source": [
    "Y_vl_pred30 = pd.DataFrame(tree30.predict(x_vl_scaler),\n",
    "                      columns =target_col )\n",
    "Y_tr_pred30 = pd.DataFrame(tree30.predict(x_tr_scaler),\n",
    "                      columns =target_col )\n",
    "\n",
    "from sklearn.metrics import mean_squared_error as MSE\n",
    "# LA PREDICCION DE FLOOR PRESENTA EL MAYOR MSE.\n",
    "mse_val30 = MSE(y_vl_scaler, Y_vl_pred30)\n",
    "mse_tr30 = MSE(y_tr_scaler, Y_tr_pred30)"
   ]
  },
  {
   "cell_type": "code",
   "execution_count": 58,
   "metadata": {},
   "outputs": [
    {
     "name": "stdout",
     "output_type": "stream",
     "text": [
      "DATOS DEL MODELO ÁRBOLES DE DECISIÓN REGRESION\n",
      "\n",
      "Score validation:\n",
      "0.9641686988736787\n",
      "\n",
      "MSE validation :\n",
      "0.03552644881133282\n",
      "\n",
      "Score training:\n",
      "0.9881821592703579\n",
      "\n",
      "MSE training :\n",
      "0.01181784072964199\n"
     ]
    },
    {
     "name": "stderr",
     "output_type": "stream",
     "text": [
      "/home/lenovo/.conda/envs/machinelearning/lib/python3.6/site-packages/sklearn/base.py:420: FutureWarning:\n",
      "\n",
      "The default value of multioutput (not exposed in score method) will change from 'variance_weighted' to 'uniform_average' in 0.23 to keep consistent with 'metrics.r2_score'. To specify the default value manually and avoid the warning, please either call 'metrics.r2_score' directly or make a custom scorer with 'metrics.make_scorer' (the built-in scorer 'r2' uses multioutput='uniform_average').\n",
      "\n",
      "/home/lenovo/.conda/envs/machinelearning/lib/python3.6/site-packages/sklearn/base.py:420: FutureWarning:\n",
      "\n",
      "The default value of multioutput (not exposed in score method) will change from 'variance_weighted' to 'uniform_average' in 0.23 to keep consistent with 'metrics.r2_score'. To specify the default value manually and avoid the warning, please either call 'metrics.r2_score' directly or make a custom scorer with 'metrics.make_scorer' (the built-in scorer 'r2' uses multioutput='uniform_average').\n",
      "\n"
     ]
    }
   ],
   "source": [
    "print('DATOS DEL MODELO ÁRBOLES DE DECISIÓN REGRESION')\n",
    "print()\n",
    "print('Score validation:')\n",
    "print(tree30.score(x_vl_scaler,y_vl_scaler))\n",
    "print()\n",
    "print('MSE validation :')\n",
    "print(mse_val30)\n",
    "print()\n",
    "print('Score training:')\n",
    "print(tree30.score(x_tr_scaler,y_tr_scaler))\n",
    "print()\n",
    "print('MSE training :')\n",
    "print(mse_tr30)"
   ]
  },
  {
   "cell_type": "markdown",
   "metadata": {},
   "source": [
    "#### Comparación de resultados obtenidos, con resultados previos."
   ]
  },
  {
   "cell_type": "markdown",
   "metadata": {},
   "source": [
    "\n",
    "|Modelo                       | Tiempo Entrenamiento  [s]   |\n",
    "|:----------------------------|:---------------------------:|\n",
    "|DecisionTreeRegressor (3)    | 107 [s]                     | \n",
    "|DecisionTreeRegressor (stump)| 48[s]                       |\n",
    "|DecisionTreeRegressor (30)   | 180 [s]\n",
    "\n",
    "|Modelo                     | Accuracy [ Train ] | Accuracy [validtion]  |      \n",
    "|:------------------------- |:------------------:|:---------------------:|\n",
    "|DecisionTreeRegressor (3)  | 0.4379593326304821 | 0.4235531966091855   |   \n",
    "|DecisionTreeRegressor (stump)|0.11101180366254383 |0.09867060514288468|\n",
    "|DecisionTreeRegressor (30) |0.9881821592703579|0.9641686988736787|\n",
    "\n",
    "Al aumentar la profundidad máxima del arbol se obtiene una natable mejora obteniendose un score tanto entrain como validation cercanos a 1, esto es muy bueno ya que el modelo no experimenta sobreajuste, y presenta una buena capacidad de generalización. El tiempo de computo es aproximadamente un tercio mayor al árbol de profundidad 3, este tiempo extra queda más que justificado ante la notable mejora del módelo. Tambien cabe mencionar que comparando los resultados obtenidos del modelo sin k-fold con el obtenido mediante k-fold los resulstados en validación son muy parecidos."
   ]
  },
  {
   "cell_type": "code",
   "execution_count": 66,
   "metadata": {},
   "outputs": [
    {
     "data": {
      "text/plain": [
       "DecisionTreeRegressor(criterion='mae', max_depth=200, max_features=None,\n",
       "                      max_leaf_nodes=None, min_impurity_decrease=0.0,\n",
       "                      min_impurity_split=None, min_samples_leaf=1,\n",
       "                      min_samples_split=2, min_weight_fraction_leaf=0.0,\n",
       "                      presort=False, random_state=None, splitter='best')"
      ]
     },
     "execution_count": 66,
     "metadata": {},
     "output_type": "execute_result"
    }
   ],
   "source": [
    "from sklearn.tree import DecisionTreeRegressor\n",
    "\n",
    "tree60 = DecisionTreeRegressor(criterion='mae',\n",
    "                            max_depth=200)\n",
    "tree60.fit(x_tr_scaler,y_tr_scaler)"
   ]
  },
  {
   "cell_type": "code",
   "execution_count": 67,
   "metadata": {},
   "outputs": [],
   "source": [
    "Y_vl_pred60 = pd.DataFrame(tree60.predict(x_vl_scaler),\n",
    "                      columns =target_col )\n",
    "Y_tr_pred60 = pd.DataFrame(tree60.predict(x_tr_scaler),\n",
    "                      columns =target_col )\n",
    "\n",
    "from sklearn.metrics import mean_squared_error as MSE\n",
    "# LA PREDICCION DE FLOOR PRESENTA EL MAYOR MSE.\n",
    "mse_val60 = MSE(y_vl_scaler, Y_vl_pred60)\n",
    "mse_tr60 = MSE(y_tr_scaler, Y_tr_pred60)"
   ]
  },
  {
   "cell_type": "code",
   "execution_count": 68,
   "metadata": {},
   "outputs": [
    {
     "name": "stdout",
     "output_type": "stream",
     "text": [
      "DATOS DEL MODELO ÁRBOLES DE DECISIÓN REGRESION\n",
      "\n",
      "Score validation:\n",
      "0.9706288448759862\n",
      "\n",
      "MSE validation :\n",
      "0.029121265659998025\n",
      "\n",
      "Score training:\n",
      "0.9941722178037466\n",
      "\n",
      "MSE training :\n",
      "0.00582778219625337\n"
     ]
    },
    {
     "name": "stderr",
     "output_type": "stream",
     "text": [
      "/home/lenovo/.conda/envs/machinelearning/lib/python3.6/site-packages/sklearn/base.py:420: FutureWarning:\n",
      "\n",
      "The default value of multioutput (not exposed in score method) will change from 'variance_weighted' to 'uniform_average' in 0.23 to keep consistent with 'metrics.r2_score'. To specify the default value manually and avoid the warning, please either call 'metrics.r2_score' directly or make a custom scorer with 'metrics.make_scorer' (the built-in scorer 'r2' uses multioutput='uniform_average').\n",
      "\n",
      "/home/lenovo/.conda/envs/machinelearning/lib/python3.6/site-packages/sklearn/base.py:420: FutureWarning:\n",
      "\n",
      "The default value of multioutput (not exposed in score method) will change from 'variance_weighted' to 'uniform_average' in 0.23 to keep consistent with 'metrics.r2_score'. To specify the default value manually and avoid the warning, please either call 'metrics.r2_score' directly or make a custom scorer with 'metrics.make_scorer' (the built-in scorer 'r2' uses multioutput='uniform_average').\n",
      "\n"
     ]
    }
   ],
   "source": [
    "print('DATOS DEL MODELO ÁRBOLES DE DECISIÓN REGRESION')\n",
    "print()\n",
    "print('Score validation:')\n",
    "print(tree60.score(x_vl_scaler,y_vl_scaler))\n",
    "print()\n",
    "print('MSE validation :')\n",
    "print(mse_val60)\n",
    "print()\n",
    "print('Score training:')\n",
    "print(tree60.score(x_tr_scaler,y_tr_scaler))\n",
    "print()\n",
    "print('MSE training :')\n",
    "print(mse_tr60)"
   ]
  },
  {
   "cell_type": "markdown",
   "metadata": {},
   "source": [
    "#### 1.f Random Forest\n",
    "\n",
    "En la pregunta anterior vimos que una profundidad de árbol muy grande puede llevarnos a _overffiting_, pues la cantidad de \"decisiones\" que puede aprender el modelo aumentan significativamente y el modelo tenderá a aprender de memoria el conjunto de entrenamiento, perdiendo capacidad de generalización. Otra aproximación para evitar _overffiting_ no utilizar todos los datos para entrenar, estrategia implementada por _Random Forest_. \n",
    "\n",
    "Discuta por qué el utilizar muchos modelos que no conocen todos los datos puede ayudar a mejorar la capacidad de generalización, evitando así que el modelo final este sobreajustado. Entrene luego un _Random Forest Regressor_, con a lo menos 10 árboles. Discuta sobre que elección realizar sobre la profundidad máxima de estos árboles. ¿Cómo se compara el desempeño de _Random Forest_ frente a un árbol por si solo?"
   ]
  },
  {
   "cell_type": "code",
   "execution_count": 52,
   "metadata": {},
   "outputs": [
    {
     "name": "stderr",
     "output_type": "stream",
     "text": [
      "[Parallel(n_jobs=1)]: Using backend SequentialBackend with 1 concurrent workers.\n",
      "[Parallel(n_jobs=1)]: Done  20 out of  20 | elapsed: 19.1min finished\n"
     ]
    },
    {
     "data": {
      "text/plain": [
       "RandomForestRegressor(bootstrap=True, criterion='mae', max_depth=5,\n",
       "                      max_features='auto', max_leaf_nodes=None,\n",
       "                      min_impurity_decrease=0.0, min_impurity_split=None,\n",
       "                      min_samples_leaf=1, min_samples_split=2,\n",
       "                      min_weight_fraction_leaf=0.0, n_estimators=20,\n",
       "                      n_jobs=None, oob_score=False, random_state=None,\n",
       "                      verbose=1, warm_start=False)"
      ]
     },
     "execution_count": 52,
     "metadata": {},
     "output_type": "execute_result"
    }
   ],
   "source": [
    "from sklearn.ensemble import RandomForestRegressor\n",
    "forest = RandomForestRegressor(n_estimators=20,\n",
    "                               criterion='mae',\n",
    "                               max_depth=5,\n",
    "                               verbose=1)\n",
    "forest.fit(x_tr_scaler,y_tr_scaler)"
   ]
  },
  {
   "cell_type": "code",
   "execution_count": 53,
   "metadata": {},
   "outputs": [
    {
     "name": "stderr",
     "output_type": "stream",
     "text": [
      "[Parallel(n_jobs=1)]: Using backend SequentialBackend with 1 concurrent workers.\n",
      "[Parallel(n_jobs=1)]: Done  20 out of  20 | elapsed:    0.0s finished\n",
      "[Parallel(n_jobs=1)]: Using backend SequentialBackend with 1 concurrent workers.\n",
      "[Parallel(n_jobs=1)]: Done  20 out of  20 | elapsed:    0.0s finished\n"
     ]
    }
   ],
   "source": [
    "Y_vl_pre = pd.DataFrame(forest.predict(x_vl_scaler),\n",
    "                      columns =target_col )\n",
    "Y_tr_pre = pd.DataFrame(forest.predict(x_tr_scaler),\n",
    "                      columns =target_col )\n",
    "\n",
    "from sklearn.metrics import mean_squared_error as MSE\n",
    "# LA PREDICCION DE FLOOR PRESENTA EL MAYOR MSE.\n",
    "mse_val_RF5 = MSE(y_vl_scaler, Y_vl_pre)\n",
    "mse_tr_RF5 = MSE(y_tr_scaler, Y_tr_pre)"
   ]
  },
  {
   "cell_type": "code",
   "execution_count": 54,
   "metadata": {},
   "outputs": [
    {
     "name": "stdout",
     "output_type": "stream",
     "text": [
      "DATOS DEL MODELO RANDOMFOREST 5\n",
      "\n",
      "Score validation:\n",
      "0.6487380883380549\n",
      "\n",
      "MSE validation :\n",
      "0.34596200690164575\n",
      "\n",
      "Score training:\n",
      "0.6608232783675441\n",
      "\n",
      "MSE training :\n",
      "0.3391767216324561\n"
     ]
    },
    {
     "name": "stderr",
     "output_type": "stream",
     "text": [
      "[Parallel(n_jobs=1)]: Using backend SequentialBackend with 1 concurrent workers.\n",
      "[Parallel(n_jobs=1)]: Done  20 out of  20 | elapsed:    0.0s finished\n",
      "/home/lenovo/.conda/envs/machinelearning/lib/python3.6/site-packages/sklearn/base.py:420: FutureWarning: The default value of multioutput (not exposed in score method) will change from 'variance_weighted' to 'uniform_average' in 0.23 to keep consistent with 'metrics.r2_score'. To specify the default value manually and avoid the warning, please either call 'metrics.r2_score' directly or make a custom scorer with 'metrics.make_scorer' (the built-in scorer 'r2' uses multioutput='uniform_average').\n",
      "  \"multioutput='uniform_average').\", FutureWarning)\n",
      "[Parallel(n_jobs=1)]: Using backend SequentialBackend with 1 concurrent workers.\n",
      "[Parallel(n_jobs=1)]: Done  20 out of  20 | elapsed:    0.0s finished\n",
      "/home/lenovo/.conda/envs/machinelearning/lib/python3.6/site-packages/sklearn/base.py:420: FutureWarning: The default value of multioutput (not exposed in score method) will change from 'variance_weighted' to 'uniform_average' in 0.23 to keep consistent with 'metrics.r2_score'. To specify the default value manually and avoid the warning, please either call 'metrics.r2_score' directly or make a custom scorer with 'metrics.make_scorer' (the built-in scorer 'r2' uses multioutput='uniform_average').\n",
      "  \"multioutput='uniform_average').\", FutureWarning)\n"
     ]
    }
   ],
   "source": [
    "print('DATOS DEL MODELO RANDOMFOREST 5')\n",
    "print()\n",
    "print('Score validation:')\n",
    "print(forest.score(x_vl_scaler,y_vl_scaler))\n",
    "print()\n",
    "print('MSE validation :')\n",
    "print(mse_val_RF5)\n",
    "print()\n",
    "print('Score training:')\n",
    "print(forest.score(x_tr_scaler,y_tr_scaler))\n",
    "print()\n",
    "print('MSE training :')\n",
    "print(mse_tr_RF5)"
   ]
  },
  {
   "cell_type": "code",
   "execution_count": 70,
   "metadata": {},
   "outputs": [
    {
     "data": {
      "text/plain": [
       "DecisionTreeRegressor(criterion='mae', max_depth=5, max_features=None,\n",
       "                      max_leaf_nodes=None, min_impurity_decrease=0.0,\n",
       "                      min_impurity_split=None, min_samples_leaf=1,\n",
       "                      min_samples_split=2, min_weight_fraction_leaf=0.0,\n",
       "                      presort=False, random_state=None, splitter='best')"
      ]
     },
     "execution_count": 70,
     "metadata": {},
     "output_type": "execute_result"
    }
   ],
   "source": [
    "from sklearn.tree import DecisionTreeRegressor\n",
    "\n",
    "tree5 = DecisionTreeRegressor(criterion='mae',\n",
    "                            max_depth=5)\n",
    "tree5.fit(x_tr_scaler,y_tr_scaler)"
   ]
  },
  {
   "cell_type": "code",
   "execution_count": 71,
   "metadata": {},
   "outputs": [],
   "source": [
    "Y_vl_pred5 = pd.DataFrame(tree5.predict(x_vl_scaler),\n",
    "                      columns =target_col )\n",
    "Y_tr_pred5 = pd.DataFrame(tree5.predict(x_tr_scaler),\n",
    "                      columns =target_col )\n",
    "\n",
    "from sklearn.metrics import mean_squared_error as MSE\n",
    "# LA PREDICCION DE FLOOR PRESENTA EL MAYOR MSE.\n",
    "mse_val5 = MSE(y_vl_scaler, Y_vl_pred5)\n",
    "mse_tr5 = MSE(y_tr_scaler, Y_tr_pred5)"
   ]
  },
  {
   "cell_type": "code",
   "execution_count": 72,
   "metadata": {},
   "outputs": [
    {
     "name": "stdout",
     "output_type": "stream",
     "text": [
      "DATOS DEL MODELO ÁRBOLES DE DECISIÓN REGRESION\n",
      "\n",
      "Score validation:\n",
      "0.6112522080082514\n",
      "\n",
      "MSE validation :\n",
      "0.3828822933284155\n",
      "\n",
      "Score training:\n",
      "0.620787725430058\n",
      "\n",
      "MSE training :\n",
      "0.37921227456994216\n"
     ]
    },
    {
     "name": "stderr",
     "output_type": "stream",
     "text": [
      "/home/lenovo/.conda/envs/machinelearning/lib/python3.6/site-packages/sklearn/base.py:420: FutureWarning: The default value of multioutput (not exposed in score method) will change from 'variance_weighted' to 'uniform_average' in 0.23 to keep consistent with 'metrics.r2_score'. To specify the default value manually and avoid the warning, please either call 'metrics.r2_score' directly or make a custom scorer with 'metrics.make_scorer' (the built-in scorer 'r2' uses multioutput='uniform_average').\n",
      "  \"multioutput='uniform_average').\", FutureWarning)\n",
      "/home/lenovo/.conda/envs/machinelearning/lib/python3.6/site-packages/sklearn/base.py:420: FutureWarning: The default value of multioutput (not exposed in score method) will change from 'variance_weighted' to 'uniform_average' in 0.23 to keep consistent with 'metrics.r2_score'. To specify the default value manually and avoid the warning, please either call 'metrics.r2_score' directly or make a custom scorer with 'metrics.make_scorer' (the built-in scorer 'r2' uses multioutput='uniform_average').\n",
      "  \"multioutput='uniform_average').\", FutureWarning)\n"
     ]
    }
   ],
   "source": [
    "print('DATOS DEL MODELO ÁRBOLES DE DECISIÓN REGRESION')\n",
    "print()\n",
    "print('Score validation:')\n",
    "print(tree5.score(x_vl_scaler,y_vl_scaler))\n",
    "print()\n",
    "print('MSE validation :')\n",
    "print(mse_val5)\n",
    "print()\n",
    "print('Score training:')\n",
    "print(tree5.score(x_tr_scaler,y_tr_scaler))\n",
    "print()\n",
    "print('MSE training :')\n",
    "print(mse_tr5)"
   ]
  },
  {
   "cell_type": "markdown",
   "metadata": {},
   "source": [
    "#### RandomForest, max_depth = 1 "
   ]
  },
  {
   "cell_type": "code",
   "execution_count": 73,
   "metadata": {},
   "outputs": [
    {
     "name": "stderr",
     "output_type": "stream",
     "text": [
      "[Parallel(n_jobs=1)]: Using backend SequentialBackend with 1 concurrent workers.\n",
      "[Parallel(n_jobs=1)]: Done  40 out of  40 | elapsed: 13.9min finished\n"
     ]
    },
    {
     "data": {
      "text/plain": [
       "RandomForestRegressor(bootstrap=True, criterion='mae', max_depth=1,\n",
       "                      max_features='auto', max_leaf_nodes=None,\n",
       "                      min_impurity_decrease=0.0, min_impurity_split=None,\n",
       "                      min_samples_leaf=1, min_samples_split=2,\n",
       "                      min_weight_fraction_leaf=0.0, n_estimators=40,\n",
       "                      n_jobs=None, oob_score=False, random_state=None,\n",
       "                      verbose=1, warm_start=False)"
      ]
     },
     "execution_count": 73,
     "metadata": {},
     "output_type": "execute_result"
    }
   ],
   "source": [
    "from sklearn.ensemble import RandomForestRegressor\n",
    "forest1 = RandomForestRegressor(n_estimators=40,\n",
    "                               criterion='mae',\n",
    "                               max_depth=1,\n",
    "                               verbose=1)\n",
    "forest1.fit(x_tr_scaler,y_tr_scaler)"
   ]
  },
  {
   "cell_type": "code",
   "execution_count": 76,
   "metadata": {},
   "outputs": [
    {
     "name": "stderr",
     "output_type": "stream",
     "text": [
      "[Parallel(n_jobs=1)]: Using backend SequentialBackend with 1 concurrent workers.\n",
      "[Parallel(n_jobs=1)]: Done  40 out of  40 | elapsed:    0.0s finished\n",
      "[Parallel(n_jobs=1)]: Using backend SequentialBackend with 1 concurrent workers.\n",
      "[Parallel(n_jobs=1)]: Done  40 out of  40 | elapsed:    0.0s finished\n"
     ]
    }
   ],
   "source": [
    "Y_vl_pre1 = pd.DataFrame(forest1.predict(x_vl_scaler),\n",
    "                      columns =target_col )\n",
    "Y_tr_pre1 = pd.DataFrame(forest1.predict(x_tr_scaler),\n",
    "                      columns =target_col )\n",
    "\n",
    "from sklearn.metrics import mean_squared_error as MSE\n",
    "# LA PREDICCION DE FLOOR PRESENTA EL MAYOR MSE.\n",
    "mse_val_RF1 = MSE(y_vl_scaler, Y_vl_pre1)\n",
    "mse_tr_RF1 = MSE(y_tr_scaler, Y_tr_pre1)"
   ]
  },
  {
   "cell_type": "code",
   "execution_count": 77,
   "metadata": {},
   "outputs": [
    {
     "name": "stdout",
     "output_type": "stream",
     "text": [
      "DATOS DEL MODELO ÁRBOLES DE DECISIÓN REGRESION\n",
      "\n",
      "Score validation:\n",
      "0.2192455532501477\n",
      "\n",
      "MSE validation :\n",
      "0.7689742790983797\n",
      "\n",
      "Score training:\n",
      "0.20980063430561\n",
      "\n",
      "MSE training :\n",
      "0.7901993656943901\n"
     ]
    },
    {
     "name": "stderr",
     "output_type": "stream",
     "text": [
      "[Parallel(n_jobs=1)]: Using backend SequentialBackend with 1 concurrent workers.\n",
      "[Parallel(n_jobs=1)]: Done  40 out of  40 | elapsed:    0.0s finished\n",
      "/home/lenovo/.conda/envs/machinelearning/lib/python3.6/site-packages/sklearn/base.py:420: FutureWarning: The default value of multioutput (not exposed in score method) will change from 'variance_weighted' to 'uniform_average' in 0.23 to keep consistent with 'metrics.r2_score'. To specify the default value manually and avoid the warning, please either call 'metrics.r2_score' directly or make a custom scorer with 'metrics.make_scorer' (the built-in scorer 'r2' uses multioutput='uniform_average').\n",
      "  \"multioutput='uniform_average').\", FutureWarning)\n",
      "[Parallel(n_jobs=1)]: Using backend SequentialBackend with 1 concurrent workers.\n",
      "[Parallel(n_jobs=1)]: Done  40 out of  40 | elapsed:    0.0s finished\n",
      "/home/lenovo/.conda/envs/machinelearning/lib/python3.6/site-packages/sklearn/base.py:420: FutureWarning: The default value of multioutput (not exposed in score method) will change from 'variance_weighted' to 'uniform_average' in 0.23 to keep consistent with 'metrics.r2_score'. To specify the default value manually and avoid the warning, please either call 'metrics.r2_score' directly or make a custom scorer with 'metrics.make_scorer' (the built-in scorer 'r2' uses multioutput='uniform_average').\n",
      "  \"multioutput='uniform_average').\", FutureWarning)\n"
     ]
    }
   ],
   "source": [
    "print('DATOS DEL MODELO ÁRBOLES DE DECISIÓN REGRESION')\n",
    "print()\n",
    "print('Score validation:')\n",
    "print(forest1.score(x_vl_scaler,y_vl_scaler))\n",
    "print()\n",
    "print('MSE validation :')\n",
    "print(mse_val_RF1)\n",
    "print()\n",
    "print('Score training:')\n",
    "print(forest1.score(x_tr_scaler,y_tr_scaler))\n",
    "print()\n",
    "print('MSE training :')\n",
    "print(mse_tr_RF1)"
   ]
  },
  {
   "cell_type": "markdown",
   "metadata": {},
   "source": [
    "#### Comparación de desempeños modelos de DecisionTree vs RandomForest"
   ]
  },
  {
   "cell_type": "markdown",
   "metadata": {},
   "source": [
    "|Modelo                       | Tiempo Entrenamiento  [s]   |\n",
    "|:----------------------------|:---------------------------:|\n",
    "|DecisionTreeRegressor (5)    | 115 [s]                     | \n",
    "|RandomForest (5) (20)        | 1.146 [s]                   |\n",
    "|DecisionTreeRegressor (stump)| 48[s]                       |\n",
    "|RandomForest (1) (40)        | 843 [s]                     |\n",
    "|DecisionTreeRegressor (30)   | 180 [s]                     |\n",
    "\n",
    "\n",
    "|Modelo                     | Accuracy [ Train ] | Accuracy [validtion]  |      \n",
    "|:------------------------- |:------------------:|:---------------------:|\n",
    "|DecisionTreeRegressor (5)  | 0.620787725430058 | 0.6112522080082514 |  \n",
    "|RandomForest (5) (20)      |0.6608232783675441|0.6487380883380549|\n",
    "|DecisionTreeRegressor (stump)|0.11101180366254383 |0.09867060514288468|\n",
    "|RandomForest (1) (40)      |0.20980063430561|0.2192455532501477|\n",
    "|DecisionTreeRegressor (30) |0.9881821592703579|0.9641686988736787|\n",
    "\n",
    "En base a los resultados obtenidos se aprecia una mejora en los modelos de RandomForest, pero no muy significativa, esta mejora no justifica el elevado tiempo computacional que implican estos modelos, con lo cual no se justificaria su aplicación a este tipo de problemas, RandomForest es bueno aplicarlos a Datas que están propensas al sobreajuste, con lo cual se logra una mejora significativa en la validación. No se aplica para mayores profundidad en este caso debido a que no se aprecia sobreajuste en la exploración realizada en el item (e)."
   ]
  },
  {
   "cell_type": "markdown",
   "metadata": {},
   "source": [
    "#### Intento de sobreajustar el modelo."
   ]
  },
  {
   "cell_type": "code",
   "execution_count": 22,
   "metadata": {},
   "outputs": [
    {
     "data": {
      "text/plain": [
       "DecisionTreeRegressor(criterion='mae', max_depth=2000000, max_features=None,\n",
       "                      max_leaf_nodes=None, min_impurity_decrease=0.0,\n",
       "                      min_impurity_split=None, min_samples_leaf=1,\n",
       "                      min_samples_split=2, min_weight_fraction_leaf=0.0,\n",
       "                      presort=False, random_state=None, splitter='best')"
      ]
     },
     "execution_count": 22,
     "metadata": {},
     "output_type": "execute_result"
    }
   ],
   "source": [
    "from sklearn.tree import DecisionTreeRegressor\n",
    "\n",
    "tree = DecisionTreeRegressor(criterion='mae',\n",
    "                            max_depth=2000000)\n",
    "tree.fit(x_tr_scaler,y_tr_scaler)"
   ]
  },
  {
   "cell_type": "code",
   "execution_count": 23,
   "metadata": {},
   "outputs": [],
   "source": [
    "Y_vl_pred = pd.DataFrame(tree.predict(x_vl_scaler),\n",
    "                      columns =target_col )\n",
    "Y_tr_pred = pd.DataFrame(tree.predict(x_tr_scaler),\n",
    "                      columns =target_col )\n",
    "\n",
    "from sklearn.metrics import mean_squared_error as MSE\n",
    "# LA PREDICCION DE FLOOR PRESENTA EL MAYOR MSE.\n",
    "mse_val = MSE(y_vl_scaler, Y_vl_pred)\n",
    "mse_tr = MSE(y_tr_scaler, Y_tr_pred)"
   ]
  },
  {
   "cell_type": "code",
   "execution_count": 24,
   "metadata": {},
   "outputs": [
    {
     "name": "stdout",
     "output_type": "stream",
     "text": [
      "DATOS DEL MODELO ÁRBOLES DE DECISIÓN REGRESION\n",
      "\n",
      "Score validation:\n",
      "0.9738617548492928\n",
      "\n",
      "MSE validation :\n",
      "0.025838705095047546\n",
      "\n",
      "Score training:\n",
      "0.9960058099118688\n",
      "\n",
      "MSE training :\n",
      "0.003994190088131206\n"
     ]
    },
    {
     "name": "stderr",
     "output_type": "stream",
     "text": [
      "/home/lenovo/.conda/envs/machinelearning/lib/python3.6/site-packages/sklearn/base.py:420: FutureWarning: The default value of multioutput (not exposed in score method) will change from 'variance_weighted' to 'uniform_average' in 0.23 to keep consistent with 'metrics.r2_score'. To specify the default value manually and avoid the warning, please either call 'metrics.r2_score' directly or make a custom scorer with 'metrics.make_scorer' (the built-in scorer 'r2' uses multioutput='uniform_average').\n",
      "  \"multioutput='uniform_average').\", FutureWarning)\n",
      "/home/lenovo/.conda/envs/machinelearning/lib/python3.6/site-packages/sklearn/base.py:420: FutureWarning: The default value of multioutput (not exposed in score method) will change from 'variance_weighted' to 'uniform_average' in 0.23 to keep consistent with 'metrics.r2_score'. To specify the default value manually and avoid the warning, please either call 'metrics.r2_score' directly or make a custom scorer with 'metrics.make_scorer' (the built-in scorer 'r2' uses multioutput='uniform_average').\n",
      "  \"multioutput='uniform_average').\", FutureWarning)\n"
     ]
    }
   ],
   "source": [
    "print('DATOS DEL MODELO ÁRBOLES DE DECISIÓN REGRESION')\n",
    "print()\n",
    "print('Score validation:')\n",
    "print(tree.score(x_vl_scaler,y_vl_scaler))\n",
    "print()\n",
    "print('MSE validation :')\n",
    "print(mse_val)\n",
    "print()\n",
    "print('Score training:')\n",
    "print(tree.score(x_tr_scaler,y_tr_scaler))\n",
    "print()\n",
    "print('MSE training :')\n",
    "print(mse_tr)"
   ]
  },
  {
   "cell_type": "markdown",
   "metadata": {},
   "source": [
    "#### 1.g Otros parámetros\n",
    "\n",
    "Por último, investigue un poco sobre los otros parámetros de los árboles y sus implicancias. Luego, entrene un arbol modificando algunos de sus parámetros de una forma que piensen podría haber mejorado el desempeño. Discuta"
   ]
  },
  {
   "cell_type": "markdown",
   "metadata": {},
   "source": [
    "#### DecisionTreeRegressor\n",
    "\n",
    "|Parámetros                   | Significado                 |\n",
    "|:----------------------------|:---------------------------|\n",
    "| criterion  | Función de perdida utilizado por el modelo \"mse\" o \"mae\" | \n",
    "|max_depth|Profundidad máxima del árbol, una mayor profundidad permite aprender relaciones más especificas, debe ajustarse con validación cruzada|\n",
    "|max_features     |Cantidad de caracteristicas a considerar cuando se busca la mejor división, por general se utiliza raiz cuadrada del total de atributos, porbar un 30 a 40 % del número total de los atributos|\n",
    "|max_leaf_nodes| Número máximo de nodos hojas, máximo de hojas igual a $2^n$    siendo n igual a profundidad del árbol|\n",
    "|min_impurity_decrease | Un nodo se dividirá si esta división induce una disminución de la impureza mayor o igual a este valor |\n",
    "|min_impurity_split|Umbral para detener el crecimeinto del árbol|\n",
    "|min_samples_leaf|Número minimo de muestras para un nodo terminal, valores más bajos son necesarios para problemas de clases no balanceadas|\n",
    "|min_samples_split|Número mínimo de muestras para dividir un nodo interno, valores más altos previenen el sobreajuste del modelo, hacer análisis exploratorio para definir número optimo|\n",
    "|min_weight_fraction_leaf|Fracción mínima ponderada de la suma total de pesos|\n",
    "|presort|Preordenamiento de los datos 'default = False'|\n",
    "|random_state|Semilla utilizada por el generador de números aleatorios|\n",
    "|splitter| Estrategia utilizada para elegir la división en cada nodo \"best\" o \"random\" |\n",
    "\n"
   ]
  },
  {
   "cell_type": "code",
   "execution_count": 20,
   "metadata": {},
   "outputs": [],
   "source": [
    "tree_g = DecisionTreeRegressor(criterion='mae',\n",
    "                            max_depth=None,\n",
    "                            min_impurity_decrease=0.1, # for instance\n",
    "                            min_samples_split=2 #int(x_tr_scaler.shape[0]*0.05),\n",
    "                            ,splitter = 'best'\n",
    "                            )"
   ]
  },
  {
   "cell_type": "code",
   "execution_count": 21,
   "metadata": {},
   "outputs": [
    {
     "data": {
      "text/plain": [
       "DecisionTreeRegressor(criterion='mae', max_depth=None, max_features=None,\n",
       "                      max_leaf_nodes=None, min_impurity_decrease=0.1,\n",
       "                      min_impurity_split=None, min_samples_leaf=1,\n",
       "                      min_samples_split=2, min_weight_fraction_leaf=0.0,\n",
       "                      presort=False, random_state=None, splitter='best')"
      ]
     },
     "execution_count": 21,
     "metadata": {},
     "output_type": "execute_result"
    }
   ],
   "source": [
    "tree_g.fit(x_tr_scaler,y_tr_scaler)"
   ]
  },
  {
   "cell_type": "code",
   "execution_count": 22,
   "metadata": {},
   "outputs": [
    {
     "name": "stdout",
     "output_type": "stream",
     "text": [
      "DATOS DEL MODELO ÁRBOLES DE DECISIÓN REGRESION\n",
      "\n",
      "Score validation:\n",
      "0.2806417003456773\n",
      "\n",
      "MSE validation :\n",
      "0.7126393805764919\n",
      "\n",
      "Score training:\n",
      "0.30825543002208605\n",
      "\n",
      "MSE training :\n",
      "0.691744569977914\n"
     ]
    },
    {
     "name": "stderr",
     "output_type": "stream",
     "text": [
      "/home/lenovo/.conda/envs/machinelearning/lib/python3.6/site-packages/sklearn/base.py:420: FutureWarning: The default value of multioutput (not exposed in score method) will change from 'variance_weighted' to 'uniform_average' in 0.23 to keep consistent with 'metrics.r2_score'. To specify the default value manually and avoid the warning, please either call 'metrics.r2_score' directly or make a custom scorer with 'metrics.make_scorer' (the built-in scorer 'r2' uses multioutput='uniform_average').\n",
      "  \"multioutput='uniform_average').\", FutureWarning)\n",
      "/home/lenovo/.conda/envs/machinelearning/lib/python3.6/site-packages/sklearn/base.py:420: FutureWarning: The default value of multioutput (not exposed in score method) will change from 'variance_weighted' to 'uniform_average' in 0.23 to keep consistent with 'metrics.r2_score'. To specify the default value manually and avoid the warning, please either call 'metrics.r2_score' directly or make a custom scorer with 'metrics.make_scorer' (the built-in scorer 'r2' uses multioutput='uniform_average').\n",
      "  \"multioutput='uniform_average').\", FutureWarning)\n"
     ]
    }
   ],
   "source": [
    "Y_vl_pred_g = pd.DataFrame(tree_g.predict(x_vl_scaler),\n",
    "                      columns =target_col )\n",
    "Y_tr_pred_g = pd.DataFrame(tree_g.predict(x_tr_scaler),\n",
    "                      columns =target_col )\n",
    "\n",
    "from sklearn.metrics import mean_squared_error as MSE\n",
    "# LA PREDICCION DE FLOOR PRESENTA EL MAYOR MSE.\n",
    "mse_val = MSE(y_vl_scaler, Y_vl_pred_g)\n",
    "mse_tr = MSE(y_tr_scaler, Y_tr_pred_g)\n",
    "\n",
    "print('DATOS DEL MODELO ÁRBOLES DE DECISIÓN REGRESION')\n",
    "print()\n",
    "print('Score validation:')\n",
    "print(tree_g.score(x_vl_scaler,y_vl_scaler))\n",
    "print()\n",
    "print('MSE validation :')\n",
    "print(mse_val)\n",
    "print()\n",
    "print('Score training:')\n",
    "print(tree_g.score(x_tr_scaler,y_tr_scaler))\n",
    "print()\n",
    "print('MSE training :')\n",
    "print(mse_tr)"
   ]
  },
  {
   "cell_type": "code",
   "execution_count": 54,
   "metadata": {},
   "outputs": [
    {
     "data": {
      "text/plain": [
       "DecisionTreeRegressor(criterion='mae', max_depth=None, max_features=None,\n",
       "                      max_leaf_nodes=None, min_impurity_decrease=0.3,\n",
       "                      min_impurity_split=None, min_samples_leaf=1,\n",
       "                      min_samples_split=2, min_weight_fraction_leaf=0.0,\n",
       "                      presort=False, random_state=None, splitter='best')"
      ]
     },
     "execution_count": 54,
     "metadata": {},
     "output_type": "execute_result"
    }
   ],
   "source": [
    "tree_g = DecisionTreeRegressor(criterion='mae',\n",
    "                            max_depth=None,\n",
    "                            min_impurity_decrease=0.3, \n",
    "                            splitter = 'best')\n",
    "tree_g.fit(x_tr_scaler,y_tr_scaler)"
   ]
  },
  {
   "cell_type": "code",
   "execution_count": 55,
   "metadata": {},
   "outputs": [
    {
     "name": "stdout",
     "output_type": "stream",
     "text": [
      "DATOS DEL MODELO ÁRBOLES DE DECISIÓN REGRESION\n",
      "\n",
      "Score validation:\n",
      "-0.08636312980353796\n",
      "\n",
      "MSE validation :\n",
      "1.0762163281863237\n",
      "\n",
      "Score training:\n",
      "-0.08795435057301824\n",
      "\n",
      "MSE training :\n",
      "1.0879543505730183\n"
     ]
    },
    {
     "name": "stderr",
     "output_type": "stream",
     "text": [
      "/home/lenovo/.conda/envs/machinelearning/lib/python3.6/site-packages/sklearn/base.py:420: FutureWarning: The default value of multioutput (not exposed in score method) will change from 'variance_weighted' to 'uniform_average' in 0.23 to keep consistent with 'metrics.r2_score'. To specify the default value manually and avoid the warning, please either call 'metrics.r2_score' directly or make a custom scorer with 'metrics.make_scorer' (the built-in scorer 'r2' uses multioutput='uniform_average').\n",
      "  \"multioutput='uniform_average').\", FutureWarning)\n",
      "/home/lenovo/.conda/envs/machinelearning/lib/python3.6/site-packages/sklearn/base.py:420: FutureWarning: The default value of multioutput (not exposed in score method) will change from 'variance_weighted' to 'uniform_average' in 0.23 to keep consistent with 'metrics.r2_score'. To specify the default value manually and avoid the warning, please either call 'metrics.r2_score' directly or make a custom scorer with 'metrics.make_scorer' (the built-in scorer 'r2' uses multioutput='uniform_average').\n",
      "  \"multioutput='uniform_average').\", FutureWarning)\n"
     ]
    }
   ],
   "source": [
    "Y_vl_pred_g = pd.DataFrame(tree_g.predict(x_vl_scaler),\n",
    "                      columns =target_col )\n",
    "Y_tr_pred_g = pd.DataFrame(tree_g.predict(x_tr_scaler),\n",
    "                      columns =target_col )\n",
    "\n",
    "from sklearn.metrics import mean_squared_error as MSE\n",
    "# LA PREDICCION DE FLOOR PRESENTA EL MAYOR MSE.\n",
    "mse_val = MSE(y_vl_scaler, Y_vl_pred_g)\n",
    "mse_tr = MSE(y_tr_scaler, Y_tr_pred_g)\n",
    "\n",
    "print('DATOS DEL MODELO ÁRBOLES DE DECISIÓN REGRESION')\n",
    "print()\n",
    "print('Score validation:')\n",
    "print(tree_g.score(x_vl_scaler,y_vl_scaler))\n",
    "print()\n",
    "print('MSE validation :')\n",
    "print(mse_val)\n",
    "print()\n",
    "print('Score training:')\n",
    "print(tree_g.score(x_tr_scaler,y_tr_scaler))\n",
    "print()\n",
    "print('MSE training :')\n",
    "print(mse_tr)"
   ]
  },
  {
   "cell_type": "markdown",
   "metadata": {},
   "source": [
    "**Comentario:** Se observa que el modelo es altamente sensible al parámetro 'min_impurity_decrease', disminuyendo su desempeño a medida que se aumenta el valor de este. "
   ]
  },
  {
   "cell_type": "code",
   "execution_count": 25,
   "metadata": {},
   "outputs": [
    {
     "data": {
      "text/plain": [
       "DecisionTreeRegressor(criterion='mae', max_depth=None, max_features=None,\n",
       "                      max_leaf_nodes=None, min_impurity_decrease=0.0,\n",
       "                      min_impurity_split=None, min_samples_leaf=1,\n",
       "                      min_samples_split=841, min_weight_fraction_leaf=0.0,\n",
       "                      presort=False, random_state=None, splitter='best')"
      ]
     },
     "execution_count": 25,
     "metadata": {},
     "output_type": "execute_result"
    }
   ],
   "source": [
    "from sklearn.tree import DecisionTreeRegressor\n",
    "\n",
    "tree = DecisionTreeRegressor(criterion='mae',\n",
    "                            max_depth= None,\n",
    "                            min_samples_split=int(x_tr_scaler.shape[0]*0.05))\n",
    "tree.fit(x_tr_scaler,y_tr_scaler)"
   ]
  },
  {
   "cell_type": "code",
   "execution_count": 26,
   "metadata": {},
   "outputs": [
    {
     "name": "stdout",
     "output_type": "stream",
     "text": [
      "DATOS DEL MODELO ÁRBOLES DE DECISIÓN REGRESION\n",
      "\n",
      "Score validation:\n",
      "0.8300072825677844\n",
      "\n",
      "MSE validation :\n",
      "0.16840495885238624\n",
      "\n",
      "Score training:\n",
      "0.8390858235561786\n",
      "\n",
      "MSE training :\n",
      "0.1609141764438214\n"
     ]
    },
    {
     "name": "stderr",
     "output_type": "stream",
     "text": [
      "/home/lenovo/.conda/envs/machinelearning/lib/python3.6/site-packages/sklearn/base.py:420: FutureWarning: The default value of multioutput (not exposed in score method) will change from 'variance_weighted' to 'uniform_average' in 0.23 to keep consistent with 'metrics.r2_score'. To specify the default value manually and avoid the warning, please either call 'metrics.r2_score' directly or make a custom scorer with 'metrics.make_scorer' (the built-in scorer 'r2' uses multioutput='uniform_average').\n",
      "  \"multioutput='uniform_average').\", FutureWarning)\n",
      "/home/lenovo/.conda/envs/machinelearning/lib/python3.6/site-packages/sklearn/base.py:420: FutureWarning: The default value of multioutput (not exposed in score method) will change from 'variance_weighted' to 'uniform_average' in 0.23 to keep consistent with 'metrics.r2_score'. To specify the default value manually and avoid the warning, please either call 'metrics.r2_score' directly or make a custom scorer with 'metrics.make_scorer' (the built-in scorer 'r2' uses multioutput='uniform_average').\n",
      "  \"multioutput='uniform_average').\", FutureWarning)\n"
     ]
    }
   ],
   "source": [
    "Y_vl_pred = pd.DataFrame(tree.predict(x_vl_scaler),\n",
    "                      columns =target_col )\n",
    "Y_tr_pred = pd.DataFrame(tree.predict(x_tr_scaler),\n",
    "                      columns =target_col )\n",
    "\n",
    "from sklearn.metrics import mean_squared_error as MSE\n",
    "# LA PREDICCION DE FLOOR PRESENTA EL MAYOR MSE.\n",
    "mse_val = MSE(y_vl_scaler, Y_vl_pred)\n",
    "mse_tr = MSE(y_tr_scaler, Y_tr_pred)\n",
    "\n",
    "print('DATOS DEL MODELO ÁRBOLES DE DECISIÓN REGRESION')\n",
    "print()\n",
    "print('Score validation:')\n",
    "print(tree.score(x_vl_scaler,y_vl_scaler))\n",
    "print()\n",
    "print('MSE validation :')\n",
    "print(mse_val)\n",
    "print()\n",
    "print('Score training:')\n",
    "print(tree.score(x_tr_scaler,y_tr_scaler))\n",
    "print()\n",
    "print('MSE training :')\n",
    "print(mse_tr)"
   ]
  },
  {
   "cell_type": "code",
   "execution_count": 28,
   "metadata": {},
   "outputs": [
    {
     "data": {
      "text/plain": [
       "DecisionTreeRegressor(criterion='mae', max_depth=None, max_features=None,\n",
       "                      max_leaf_nodes=None, min_impurity_decrease=0.0,\n",
       "                      min_impurity_split=None, min_samples_leaf=1,\n",
       "                      min_samples_split=2, min_weight_fraction_leaf=0.0,\n",
       "                      presort=False, random_state=None, splitter='best')"
      ]
     },
     "execution_count": 28,
     "metadata": {},
     "output_type": "execute_result"
    }
   ],
   "source": [
    "from sklearn.tree import DecisionTreeRegressor\n",
    "\n",
    "tree = DecisionTreeRegressor(criterion='mae',\n",
    "                            max_depth= None)\n",
    "                            \n",
    "tree.fit(x_tr_scaler,y_tr_scaler)"
   ]
  },
  {
   "cell_type": "code",
   "execution_count": 29,
   "metadata": {},
   "outputs": [
    {
     "name": "stdout",
     "output_type": "stream",
     "text": [
      "DATOS DEL MODELO ÁRBOLES DE DECISIÓN REGRESION\n",
      "\n",
      "Score validation:\n",
      "0.9703015692980788\n",
      "\n",
      "MSE validation :\n",
      "0.029421042712207756\n",
      "\n",
      "Score training:\n",
      "0.9941606682398734\n",
      "\n",
      "MSE training :\n",
      "0.00583933176012678\n"
     ]
    },
    {
     "name": "stderr",
     "output_type": "stream",
     "text": [
      "/home/lenovo/.conda/envs/machinelearning/lib/python3.6/site-packages/sklearn/base.py:420: FutureWarning: The default value of multioutput (not exposed in score method) will change from 'variance_weighted' to 'uniform_average' in 0.23 to keep consistent with 'metrics.r2_score'. To specify the default value manually and avoid the warning, please either call 'metrics.r2_score' directly or make a custom scorer with 'metrics.make_scorer' (the built-in scorer 'r2' uses multioutput='uniform_average').\n",
      "  \"multioutput='uniform_average').\", FutureWarning)\n",
      "/home/lenovo/.conda/envs/machinelearning/lib/python3.6/site-packages/sklearn/base.py:420: FutureWarning: The default value of multioutput (not exposed in score method) will change from 'variance_weighted' to 'uniform_average' in 0.23 to keep consistent with 'metrics.r2_score'. To specify the default value manually and avoid the warning, please either call 'metrics.r2_score' directly or make a custom scorer with 'metrics.make_scorer' (the built-in scorer 'r2' uses multioutput='uniform_average').\n",
      "  \"multioutput='uniform_average').\", FutureWarning)\n"
     ]
    }
   ],
   "source": [
    "Y_vl_pred = pd.DataFrame(tree.predict(x_vl_scaler),\n",
    "                      columns =target_col )\n",
    "Y_tr_pred = pd.DataFrame(tree.predict(x_tr_scaler),\n",
    "                      columns =target_col )\n",
    "\n",
    "from sklearn.metrics import mean_squared_error as MSE\n",
    "# LA PREDICCION DE FLOOR PRESENTA EL MAYOR MSE.\n",
    "mse_val = MSE(y_vl_scaler, Y_vl_pred)\n",
    "mse_tr = MSE(y_tr_scaler, Y_tr_pred)\n",
    "\n",
    "print('DATOS DEL MODELO ÁRBOLES DE DECISIÓN REGRESION')\n",
    "print()\n",
    "print('Score validation:')\n",
    "print(tree.score(x_vl_scaler,y_vl_scaler))\n",
    "print()\n",
    "print('MSE validation :')\n",
    "print(mse_val)\n",
    "print()\n",
    "print('Score training:')\n",
    "print(tree.score(x_tr_scaler,y_tr_scaler))\n",
    "print()\n",
    "print('MSE training :')\n",
    "print(mse_tr)"
   ]
  },
  {
   "cell_type": "markdown",
   "metadata": {},
   "source": [
    "#### Se analisa el comportamiento del modelo mediante el parámetro 'max_features'."
   ]
  },
  {
   "cell_type": "code",
   "execution_count": 31,
   "metadata": {},
   "outputs": [
    {
     "data": {
      "text/plain": [
       "DecisionTreeRegressor(criterion='mae', max_depth=None, max_features=25,\n",
       "                      max_leaf_nodes=None, min_impurity_decrease=0.0,\n",
       "                      min_impurity_split=None, min_samples_leaf=1,\n",
       "                      min_samples_split=2, min_weight_fraction_leaf=0.0,\n",
       "                      presort=False, random_state=None, splitter='best')"
      ]
     },
     "execution_count": 31,
     "metadata": {},
     "output_type": "execute_result"
    }
   ],
   "source": [
    "from sklearn.tree import DecisionTreeRegressor\n",
    "\n",
    "tree = DecisionTreeRegressor(criterion='mae',\n",
    "                            max_depth= None,\n",
    "                            max_features = 25)\n",
    "                            \n",
    "tree.fit(x_tr_scaler,y_tr_scaler)"
   ]
  },
  {
   "cell_type": "code",
   "execution_count": 32,
   "metadata": {},
   "outputs": [
    {
     "name": "stdout",
     "output_type": "stream",
     "text": [
      "DATOS DEL MODELO ÁRBOLES DE DECISIÓN REGRESION\n",
      "\n",
      "Score validation:\n",
      "0.953693023098465\n",
      "\n",
      "MSE validation :\n",
      "0.04587446249155328\n",
      "\n",
      "Score training:\n",
      "0.9941606682398734\n",
      "\n",
      "MSE training :\n",
      "0.00583933176012678\n"
     ]
    },
    {
     "name": "stderr",
     "output_type": "stream",
     "text": [
      "/home/lenovo/.conda/envs/machinelearning/lib/python3.6/site-packages/sklearn/base.py:420: FutureWarning: The default value of multioutput (not exposed in score method) will change from 'variance_weighted' to 'uniform_average' in 0.23 to keep consistent with 'metrics.r2_score'. To specify the default value manually and avoid the warning, please either call 'metrics.r2_score' directly or make a custom scorer with 'metrics.make_scorer' (the built-in scorer 'r2' uses multioutput='uniform_average').\n",
      "  \"multioutput='uniform_average').\", FutureWarning)\n",
      "/home/lenovo/.conda/envs/machinelearning/lib/python3.6/site-packages/sklearn/base.py:420: FutureWarning: The default value of multioutput (not exposed in score method) will change from 'variance_weighted' to 'uniform_average' in 0.23 to keep consistent with 'metrics.r2_score'. To specify the default value manually and avoid the warning, please either call 'metrics.r2_score' directly or make a custom scorer with 'metrics.make_scorer' (the built-in scorer 'r2' uses multioutput='uniform_average').\n",
      "  \"multioutput='uniform_average').\", FutureWarning)\n"
     ]
    }
   ],
   "source": [
    "Y_vl_pred = pd.DataFrame(tree.predict(x_vl_scaler),\n",
    "                      columns =target_col )\n",
    "Y_tr_pred = pd.DataFrame(tree.predict(x_tr_scaler),\n",
    "                      columns =target_col )\n",
    "\n",
    "from sklearn.metrics import mean_squared_error as MSE\n",
    "# LA PREDICCION DE FLOOR PRESENTA EL MAYOR MSE.\n",
    "mse_val = MSE(y_vl_scaler, Y_vl_pred)\n",
    "mse_tr = MSE(y_tr_scaler, Y_tr_pred)\n",
    "\n",
    "print('DATOS DEL MODELO ÁRBOLES DE DECISIÓN REGRESION')\n",
    "print()\n",
    "print('Score validation:')\n",
    "print(tree.score(x_vl_scaler,y_vl_scaler))\n",
    "print()\n",
    "print('MSE validation :')\n",
    "print(mse_val)\n",
    "print()\n",
    "print('Score training:')\n",
    "print(tree.score(x_tr_scaler,y_tr_scaler))\n",
    "print()\n",
    "print('MSE training :')\n",
    "print(mse_tr)"
   ]
  },
  {
   "cell_type": "code",
   "execution_count": 57,
   "metadata": {},
   "outputs": [
    {
     "data": {
      "text/plain": [
       "DecisionTreeRegressor(criterion='mae', max_depth=None, max_features=250,\n",
       "                      max_leaf_nodes=None, min_impurity_decrease=0.0,\n",
       "                      min_impurity_split=None, min_samples_leaf=1,\n",
       "                      min_samples_split=2, min_weight_fraction_leaf=0.0,\n",
       "                      presort=False, random_state=None, splitter='best')"
      ]
     },
     "execution_count": 57,
     "metadata": {},
     "output_type": "execute_result"
    }
   ],
   "source": [
    "from sklearn.tree import DecisionTreeRegressor\n",
    "\n",
    "tree = DecisionTreeRegressor(criterion='mae',\n",
    "                            max_depth= None,\n",
    "                            max_features = 250)\n",
    "                            \n",
    "tree.fit(x_tr_scaler,y_tr_scaler)"
   ]
  },
  {
   "cell_type": "code",
   "execution_count": 58,
   "metadata": {},
   "outputs": [
    {
     "name": "stdout",
     "output_type": "stream",
     "text": [
      "DATOS DEL MODELO ÁRBOLES DE DECISIÓN REGRESION\n",
      "\n",
      "Score validation:\n",
      "0.9670984031131636\n",
      "\n",
      "MSE validation :\n",
      "0.03259429082375159\n",
      "\n",
      "Score training:\n",
      "0.9941606682398734\n",
      "\n",
      "MSE training :\n",
      "0.00583933176012678\n"
     ]
    },
    {
     "name": "stderr",
     "output_type": "stream",
     "text": [
      "/home/lenovo/.conda/envs/machinelearning/lib/python3.6/site-packages/sklearn/base.py:420: FutureWarning: The default value of multioutput (not exposed in score method) will change from 'variance_weighted' to 'uniform_average' in 0.23 to keep consistent with 'metrics.r2_score'. To specify the default value manually and avoid the warning, please either call 'metrics.r2_score' directly or make a custom scorer with 'metrics.make_scorer' (the built-in scorer 'r2' uses multioutput='uniform_average').\n",
      "  \"multioutput='uniform_average').\", FutureWarning)\n",
      "/home/lenovo/.conda/envs/machinelearning/lib/python3.6/site-packages/sklearn/base.py:420: FutureWarning: The default value of multioutput (not exposed in score method) will change from 'variance_weighted' to 'uniform_average' in 0.23 to keep consistent with 'metrics.r2_score'. To specify the default value manually and avoid the warning, please either call 'metrics.r2_score' directly or make a custom scorer with 'metrics.make_scorer' (the built-in scorer 'r2' uses multioutput='uniform_average').\n",
      "  \"multioutput='uniform_average').\", FutureWarning)\n"
     ]
    }
   ],
   "source": [
    "Y_vl_pred = pd.DataFrame(tree.predict(x_vl_scaler),\n",
    "                      columns =target_col )\n",
    "Y_tr_pred = pd.DataFrame(tree.predict(x_tr_scaler),\n",
    "                      columns =target_col )\n",
    "\n",
    "from sklearn.metrics import mean_squared_error as MSE\n",
    "# LA PREDICCION DE FLOOR PRESENTA EL MAYOR MSE.\n",
    "mse_val = MSE(y_vl_scaler, Y_vl_pred)\n",
    "mse_tr = MSE(y_tr_scaler, Y_tr_pred)\n",
    "\n",
    "print('DATOS DEL MODELO ÁRBOLES DE DECISIÓN REGRESION')\n",
    "print()\n",
    "print('Score validation:')\n",
    "print(tree.score(x_vl_scaler,y_vl_scaler))\n",
    "print()\n",
    "print('MSE validation :')\n",
    "print(mse_val)\n",
    "print()\n",
    "print('Score training:')\n",
    "print(tree.score(x_tr_scaler,y_tr_scaler))\n",
    "print()\n",
    "print('MSE training :')\n",
    "print(mse_tr)"
   ]
  },
  {
   "cell_type": "markdown",
   "metadata": {},
   "source": [
    "**Coemntario :** Se logra observar en base a los resultados obtenidos que el modelo de arboles de regresión para este caso de estudio es dificil de sobreajustarse, esto se puede deber a la homogeneidad de las variables, como se visualizo en el items a), en donde se observan que el máximo de atributos diferentes en las distintas columnas es aproxiamdamente de 70 para un total de 21.000 mediciones aproximadamente. Lo cual hace que coincidan demasiado los datos del conjuntos de train y validation, justificando así el alto rendimiento que se alcanza en la validación del modelo. "
   ]
  }
 ],
 "metadata": {
  "kernelspec": {
   "display_name": "Python 3",
   "language": "python",
   "name": "python3"
  },
  "language_info": {
   "codemirror_mode": {
    "name": "ipython",
    "version": 3
   },
   "file_extension": ".py",
   "mimetype": "text/x-python",
   "name": "python",
   "nbconvert_exporter": "python",
   "pygments_lexer": "ipython3",
   "version": "3.7.7"
  }
 },
 "nbformat": 4,
 "nbformat_minor": 2
}
