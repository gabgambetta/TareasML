{
 "cells": [
  {
   "cell_type": "markdown",
   "metadata": {},
   "source": [
    "<img src=\"http://www.exalumnos.usm.cl/wp-content/uploads/2015/06/Isotipo-Negro.gif\" title=\"Title text\" width=\"20%\" height=\"20%\" />\n",
    "\n",
    "\n",
    "<hr style=\"height:2px;border:none\"/>\n",
    "<h1 align='center'> INF-393/578 Máquinas de Aprendizaje - 2019-1 </h1>\n",
    "\n",
    "<H3 align='center'> Tarea 1  </H3>\n",
    "<hr style=\"height:2px;border:none\"/>\n",
    "\n",
    "**Temas**  \n",
    "* Manipulaciones básicas en pandas\n",
    "* Preprocesamiento y exploración inicial de datos\n",
    "* Regresión Lineal Multivariada\n",
    "* PCA, LDA\n",
    "* Selección de atributos _from scratch_, Métodos Wrapper e Información Mutual\n",
    "* Selección de modelos por _Cross Validation_\n",
    "\n",
    "\n",
    "**Formalidades**  \n",
    "* Equipos de trabajo de 2 personas (*Ambos estudiantes deben estar preparados para presentar la tarea el día de la entrega*)\n",
    "* El entregable debe ser un _Jupyter Notebook_ incluyendo los códigos utilizados, los resultados, los gráficos realizados y comentarios. Debe seguir una estructura similar a un informe (se debe introducir los problemas a trabajar, presentar los resultados y discutirlos). Si lo prefiere puede entregar un _Jupyter Notebook_ por pregunta o un por toda la tarea, con tal de que todos los entregables esten bien identificados y se encuentren en el mismo repositorio de _Github_.\n",
    "* Se debe preparar una presentación del trabajo realizado y sus hallazgos. El presentador será elegido aleatoriamente y deberá apoyarse en el _Jupyter Notebook_ que entregarán. \n",
    "* Formato de entrega: envı́o de link del repositorio en _Github_ ( en caso de ser repositorio privado, invitar como colaborador al usuario de github \"avalderr\") al correo electrónico del ayudante (*<alvaro.valderrama.13@sansano.usm.cl>*), en copia al profesor (*<cvalle@inf.utfsm.cl>*). Especificar el siguiente asunto: [INF393/578-2019 Tarea1]\n",
    "* Fecha de entrega y presentaciones: 26 de Abril. Hora límite de entrega: 23:00. Cualquier _commit_ luego de la hora límite no será evaluado. Se realizará descuento por atrasos en envío del mail. \n",
    "\n",
    "<hr style=\"height:2px;border:none\"/>\n",
    "\n",
    "La tarea se divide en tres partes:\n",
    "\n",
    "[1.](#primero) Aprendizaje con regresión lineal  \n",
    "[2.](#segundo) Análisis de audios como datos brutos  \n",
    "[3.](#tercero) Análisis de emociones en tweets\n",
    "\n",
    "La tarea tiene ejemplos de códigos con los cuales pueden guiarse en gran parte, sin embargo solo son guias y pueden ser creativos al momento de resolver la tarea. Soluciones creativas o elegantes seran valoradas. También en algunas ocaciones se hacen elecciones arbitrarias, ustedes pueden realizar otras elecciones con tal de que haya una pequeña justificación de por qué su elección es mejor o equivalente.\n",
    "Recuerden intercalar su código con comentarios y con celdas _Markdown_ con los comentarios de la pregunta y con cualquier analisis, fórmula o explicación que les parezca relevante para justificar sus procedimientos. \n",
    "Noten que en general cuando se les pide elegir algo o proponer algo no se evaluará mucho la elección en si, en cambio la argumentación detrás de la elección será lo más ponderado.\n",
    "Si algun modelo se demora demasiado en correr en su maquina, no olvide que puede correr _Jupyter Notebooks_ en _Collab_ de Google, esto puede ser relevante para las maquinas más lentas al momento de realizar exploraciones con _K-folds_."
   ]
  },
  {
   "cell_type": "markdown",
   "metadata": {},
   "source": [
    "<a id=\"primero\"></a>\n",
    "## 1. Aprendizaje con regresión lineal.\n",
    "\n",
    "La regresión lineal, modelo que busca la mejor forma de combinar linealmente variables para predecir otra variable numérica es una de las herramientas más básicas a nuestra disposición. Sin embargo se puede encontrar muchas aplicaciones a esta aproximación con buenos resultados, y suele ser un buen punto de partida para problemas totalmente desconocidos por su velocidad de implementar y simpleza de interpretar. Además, al igual que muchas de las técnicas de _Machine Learning_, no tiene un ambito de uso definido, es decir podemos aplicar un metodo similar para problemas radicalmente distintos. \n",
    "\n",
    "<img src=\"https://i.stack.imgur.com/cNJQs.png\" style=\"height:50%;\" />\n",
    "\n",
    "En esta primera parte de la tarea, trabajaremos con un _dataset_ de _Kaggle_ llamado \"_Black Friday_\", el cual contiene alrededor de medio millón de registros. Este _dataset_ contiene diversas informaciones sobres los consumidores (edad, ocupación, género, entre otros) y el valor de la compra que realizaron al momento de la medición. Pueden descargar el _dataset_ desde https://www.kaggle.com/mehdidag/black-friday. Este _dataset_ fue pensado para intentar de predecir el valor de compra de un cliente en funcion de sus caracteristicas, sin embargo uno puede realizar distintas regresiones y tratar, por ejemplo, de predecir el rango de edad de un cliente basado en sus otras caracteristicas incluyendo el valor de su compra. En esta primera parte utilizaremos el set de datos para hacer regresión lineal sobre el valor de compra, es decir la variable a predecir es el valor de compra. "
   ]
  },
  {
   "cell_type": "markdown",
   "metadata": {},
   "source": [
    "\n",
    " #### 1.a Modulos y carga de datos\n",
    " Comenzaremos cargando las librerias relevantes para el resto de la tarea y cargando los datos a un _DataFrame_ para facilitar su manipulación. Explore los tipos de datos que hemos cargado, los valores que tienen estos datos y como se distribuyen. \n"
   ]
  },
  {
   "cell_type": "code",
   "execution_count": 1,
   "metadata": {},
   "outputs": [],
   "source": [
    "import pandas as pd\n",
    "import matplotlib.pyplot as plt\n",
    "import numpy as np\n",
    "\n",
    "import scipy.stats as stats\n",
    "\n",
    "from sklearn.preprocessing import StandardScaler\n",
    "from sklearn.model_selection import train_test_split, KFold\n",
    "from sklearn.linear_model import LinearRegression\n",
    "\n",
    "data = pd.read_csv(\"BlackFriday.csv\")"
   ]
  },
  {
   "cell_type": "code",
   "execution_count": 2,
   "metadata": {},
   "outputs": [
    {
     "data": {
      "text/html": [
       "<div>\n",
       "<style scoped>\n",
       "    .dataframe tbody tr th:only-of-type {\n",
       "        vertical-align: middle;\n",
       "    }\n",
       "\n",
       "    .dataframe tbody tr th {\n",
       "        vertical-align: top;\n",
       "    }\n",
       "\n",
       "    .dataframe thead th {\n",
       "        text-align: right;\n",
       "    }\n",
       "</style>\n",
       "<table border=\"1\" class=\"dataframe\">\n",
       "  <thead>\n",
       "    <tr style=\"text-align: right;\">\n",
       "      <th></th>\n",
       "      <th>User_ID</th>\n",
       "      <th>Product_ID</th>\n",
       "      <th>Gender</th>\n",
       "      <th>Age</th>\n",
       "      <th>Occupation</th>\n",
       "      <th>City_Category</th>\n",
       "      <th>Stay_In_Current_City_Years</th>\n",
       "      <th>Marital_Status</th>\n",
       "      <th>Product_Category_1</th>\n",
       "      <th>Product_Category_2</th>\n",
       "      <th>Product_Category_3</th>\n",
       "      <th>Purchase</th>\n",
       "    </tr>\n",
       "  </thead>\n",
       "  <tbody>\n",
       "    <tr>\n",
       "      <th>0</th>\n",
       "      <td>1000001</td>\n",
       "      <td>P00069042</td>\n",
       "      <td>F</td>\n",
       "      <td>0-17</td>\n",
       "      <td>10</td>\n",
       "      <td>A</td>\n",
       "      <td>2</td>\n",
       "      <td>0</td>\n",
       "      <td>3</td>\n",
       "      <td>NaN</td>\n",
       "      <td>NaN</td>\n",
       "      <td>8370</td>\n",
       "    </tr>\n",
       "    <tr>\n",
       "      <th>1</th>\n",
       "      <td>1000001</td>\n",
       "      <td>P00248942</td>\n",
       "      <td>F</td>\n",
       "      <td>0-17</td>\n",
       "      <td>10</td>\n",
       "      <td>A</td>\n",
       "      <td>2</td>\n",
       "      <td>0</td>\n",
       "      <td>1</td>\n",
       "      <td>6.0</td>\n",
       "      <td>14.0</td>\n",
       "      <td>15200</td>\n",
       "    </tr>\n",
       "    <tr>\n",
       "      <th>2</th>\n",
       "      <td>1000001</td>\n",
       "      <td>P00087842</td>\n",
       "      <td>F</td>\n",
       "      <td>0-17</td>\n",
       "      <td>10</td>\n",
       "      <td>A</td>\n",
       "      <td>2</td>\n",
       "      <td>0</td>\n",
       "      <td>12</td>\n",
       "      <td>NaN</td>\n",
       "      <td>NaN</td>\n",
       "      <td>1422</td>\n",
       "    </tr>\n",
       "    <tr>\n",
       "      <th>3</th>\n",
       "      <td>1000001</td>\n",
       "      <td>P00085442</td>\n",
       "      <td>F</td>\n",
       "      <td>0-17</td>\n",
       "      <td>10</td>\n",
       "      <td>A</td>\n",
       "      <td>2</td>\n",
       "      <td>0</td>\n",
       "      <td>12</td>\n",
       "      <td>14.0</td>\n",
       "      <td>NaN</td>\n",
       "      <td>1057</td>\n",
       "    </tr>\n",
       "    <tr>\n",
       "      <th>4</th>\n",
       "      <td>1000002</td>\n",
       "      <td>P00285442</td>\n",
       "      <td>M</td>\n",
       "      <td>55+</td>\n",
       "      <td>16</td>\n",
       "      <td>C</td>\n",
       "      <td>4+</td>\n",
       "      <td>0</td>\n",
       "      <td>8</td>\n",
       "      <td>NaN</td>\n",
       "      <td>NaN</td>\n",
       "      <td>7969</td>\n",
       "    </tr>\n",
       "  </tbody>\n",
       "</table>\n",
       "</div>"
      ],
      "text/plain": [
       "   User_ID Product_ID Gender   Age  Occupation City_Category  \\\n",
       "0  1000001  P00069042      F  0-17          10             A   \n",
       "1  1000001  P00248942      F  0-17          10             A   \n",
       "2  1000001  P00087842      F  0-17          10             A   \n",
       "3  1000001  P00085442      F  0-17          10             A   \n",
       "4  1000002  P00285442      M   55+          16             C   \n",
       "\n",
       "  Stay_In_Current_City_Years  Marital_Status  Product_Category_1  \\\n",
       "0                          2               0                   3   \n",
       "1                          2               0                   1   \n",
       "2                          2               0                  12   \n",
       "3                          2               0                  12   \n",
       "4                         4+               0                   8   \n",
       "\n",
       "   Product_Category_2  Product_Category_3  Purchase  \n",
       "0                 NaN                 NaN      8370  \n",
       "1                 6.0                14.0     15200  \n",
       "2                 NaN                 NaN      1422  \n",
       "3                14.0                 NaN      1057  \n",
       "4                 NaN                 NaN      7969  "
      ]
     },
     "execution_count": 2,
     "metadata": {},
     "output_type": "execute_result"
    }
   ],
   "source": [
    "data.head()"
   ]
  },
  {
   "cell_type": "code",
   "execution_count": 3,
   "metadata": {},
   "outputs": [
    {
     "data": {
      "text/plain": [
       "User_ID                         int64\n",
       "Product_ID                     object\n",
       "Gender                         object\n",
       "Age                            object\n",
       "Occupation                      int64\n",
       "City_Category                  object\n",
       "Stay_In_Current_City_Years     object\n",
       "Marital_Status                  int64\n",
       "Product_Category_1              int64\n",
       "Product_Category_2            float64\n",
       "Product_Category_3            float64\n",
       "Purchase                        int64\n",
       "dtype: object"
      ]
     },
     "execution_count": 3,
     "metadata": {},
     "output_type": "execute_result"
    }
   ],
   "source": [
    "data.dtypes"
   ]
  },
  {
   "cell_type": "markdown",
   "metadata": {},
   "source": [
    "Cuente los valores N/A de cada columna con el siguiente código y explique brevemente porque en un primer momento preferiremos eliminar la segunda y tercera categoría del producto.\n",
    "\n",
    " Cuantos registros hay de mujeres y de hombres? Cuanto gastan en promedio los distintos rangos de edad? Entregue alguna otra medicion que le parezca interesante y permita familiarizarse con los datos."
   ]
  },
  {
   "cell_type": "code",
   "execution_count": null,
   "metadata": {},
   "outputs": [],
   "source": [
    "print(pd.read_csv(\"BlackFriday.csv\").isna().sum()) #para sumar los valores Nan\n",
    "\n",
    "print(data.describe())\n",
    "\n",
    "print(data.groupby(\"Gender\").nunique())\n",
    "#unique() entrega la cantidad de elementos distintos para cada categoria \n",
    "data.head()"
   ]
  },
  {
   "cell_type": "code",
   "execution_count": null,
   "metadata": {},
   "outputs": [],
   "source": [
    "print(data.groupby(\"Gender\").Age.nunique()) #cuantos de los datos diferentes hay para F en la edad y en M para la edad"
   ]
  },
  {
   "cell_type": "markdown",
   "metadata": {},
   "source": [
    " Cuantos registros hay de mujeres y de hombres?  Entregue alguna otra medicion que le parezca interesante y permita familiarizarse con los datos."
   ]
  },
  {
   "cell_type": "code",
   "execution_count": null,
   "metadata": {},
   "outputs": [],
   "source": [
    "data.groupby('Gender').size()"
   ]
  },
  {
   "cell_type": "markdown",
   "metadata": {},
   "source": [
    "Los hombres realizan mas compras que las mujeres, 3.06 veces mas "
   ]
  },
  {
   "cell_type": "markdown",
   "metadata": {},
   "source": [
    "Cuanto gastan en promedio los distintos rangos de edad?"
   ]
  },
  {
   "cell_type": "code",
   "execution_count": 8,
   "metadata": {},
   "outputs": [
    {
     "data": {
      "text/plain": [
       "Age\n",
       "0-17      14707\n",
       "18-25     97634\n",
       "26-35    214690\n",
       "36-45    107499\n",
       "46-50     44526\n",
       "51-55     37618\n",
       "55+       20903\n",
       "dtype: int64"
      ]
     },
     "execution_count": 8,
     "metadata": {},
     "output_type": "execute_result"
    }
   ],
   "source": [
    "data.groupby('Age').size()"
   ]
  },
  {
   "cell_type": "code",
   "execution_count": null,
   "metadata": {},
   "outputs": [],
   "source": [
    "np.unique(data['Age'])"
   ]
  },
  {
   "cell_type": "code",
   "execution_count": null,
   "metadata": {},
   "outputs": [],
   "source": [
    "rangosedad=np.unique(data['Age'])\n",
    "for i in rangosedad:\n",
    "     print(data[(data.Age ==str(i))]['Purchase'].mean())    \n",
    "   "
   ]
  },
  {
   "cell_type": "markdown",
   "metadata": {},
   "source": [
    "Los rangos de edad tiene un gasto promedio similar "
   ]
  },
  {
   "cell_type": "markdown",
   "metadata": {},
   "source": [
    "promedio valor de Compra según genero"
   ]
  },
  {
   "cell_type": "code",
   "execution_count": null,
   "metadata": {},
   "outputs": [],
   "source": [
    "print(data[(data.Gender=='F')]['Purchase'].describe())\n",
    "print(data[(data.Gender=='M')]['Purchase'].describe())"
   ]
  },
  {
   "cell_type": "markdown",
   "metadata": {},
   "source": [
    " #### 1.b Columnas descartadas\n",
    "De los tipos de datos que tenemos cuales resultarán problematicos para realizar regresión lineal? Del dato \"City_Category\", cuantos valores distintos existen? (puede usar el metodo .unique por ejemplo)\n",
    "Porqué a pesar de ser dato numerico las columnas \"Product_Category\" podrían comportarse mal con la regresión lineal?"
   ]
  },
  {
   "cell_type": "markdown",
   "metadata": {},
   "source": [
    "Los datos que no son numericos y aquellos que son numericos pero no tiene un significado como tal, sino mas bien son establecidos para diferenciar productos o identificar al comprador."
   ]
  },
  {
   "cell_type": "code",
   "execution_count": null,
   "metadata": {},
   "outputs": [],
   "source": [
    "data.groupby('City_Category').size()"
   ]
  },
  {
   "cell_type": "code",
   "execution_count": null,
   "metadata": {},
   "outputs": [],
   "source": [
    "data.groupby('Stay_In_Current_City_Years').size()"
   ]
  },
  {
   "cell_type": "markdown",
   "metadata": {},
   "source": [
    "Existen 3 valores distintos de valores en el dato \"City_Category\"."
   ]
  },
  {
   "cell_type": "markdown",
   "metadata": {},
   "source": [
    "La variable \"Product_Category_1-2-3\" puede generar problemas por la gran cantidad de elementos faltantes y no caracterizan al producto sino mas bien son establecidos arbitrariamente. "
   ]
  },
  {
   "cell_type": "code",
   "execution_count": 4,
   "metadata": {},
   "outputs": [],
   "source": [
    "data.dtypes\n",
    "data = data.drop(columns=['User_ID','Product_ID','Product_Category_1','Product_Category_2','Product_Category_3']) "
   ]
  },
  {
   "cell_type": "code",
   "execution_count": 5,
   "metadata": {},
   "outputs": [
    {
     "data": {
      "text/html": [
       "<div>\n",
       "<style scoped>\n",
       "    .dataframe tbody tr th:only-of-type {\n",
       "        vertical-align: middle;\n",
       "    }\n",
       "\n",
       "    .dataframe tbody tr th {\n",
       "        vertical-align: top;\n",
       "    }\n",
       "\n",
       "    .dataframe thead th {\n",
       "        text-align: right;\n",
       "    }\n",
       "</style>\n",
       "<table border=\"1\" class=\"dataframe\">\n",
       "  <thead>\n",
       "    <tr style=\"text-align: right;\">\n",
       "      <th></th>\n",
       "      <th>Gender</th>\n",
       "      <th>Age</th>\n",
       "      <th>Occupation</th>\n",
       "      <th>City_Category</th>\n",
       "      <th>Stay_In_Current_City_Years</th>\n",
       "      <th>Marital_Status</th>\n",
       "      <th>Purchase</th>\n",
       "    </tr>\n",
       "  </thead>\n",
       "  <tbody>\n",
       "    <tr>\n",
       "      <th>0</th>\n",
       "      <td>F</td>\n",
       "      <td>0-17</td>\n",
       "      <td>10</td>\n",
       "      <td>A</td>\n",
       "      <td>2</td>\n",
       "      <td>0</td>\n",
       "      <td>8370</td>\n",
       "    </tr>\n",
       "    <tr>\n",
       "      <th>1</th>\n",
       "      <td>F</td>\n",
       "      <td>0-17</td>\n",
       "      <td>10</td>\n",
       "      <td>A</td>\n",
       "      <td>2</td>\n",
       "      <td>0</td>\n",
       "      <td>15200</td>\n",
       "    </tr>\n",
       "    <tr>\n",
       "      <th>2</th>\n",
       "      <td>F</td>\n",
       "      <td>0-17</td>\n",
       "      <td>10</td>\n",
       "      <td>A</td>\n",
       "      <td>2</td>\n",
       "      <td>0</td>\n",
       "      <td>1422</td>\n",
       "    </tr>\n",
       "    <tr>\n",
       "      <th>3</th>\n",
       "      <td>F</td>\n",
       "      <td>0-17</td>\n",
       "      <td>10</td>\n",
       "      <td>A</td>\n",
       "      <td>2</td>\n",
       "      <td>0</td>\n",
       "      <td>1057</td>\n",
       "    </tr>\n",
       "    <tr>\n",
       "      <th>4</th>\n",
       "      <td>M</td>\n",
       "      <td>55+</td>\n",
       "      <td>16</td>\n",
       "      <td>C</td>\n",
       "      <td>4+</td>\n",
       "      <td>0</td>\n",
       "      <td>7969</td>\n",
       "    </tr>\n",
       "  </tbody>\n",
       "</table>\n",
       "</div>"
      ],
      "text/plain": [
       "  Gender   Age  Occupation City_Category Stay_In_Current_City_Years  \\\n",
       "0      F  0-17          10             A                          2   \n",
       "1      F  0-17          10             A                          2   \n",
       "2      F  0-17          10             A                          2   \n",
       "3      F  0-17          10             A                          2   \n",
       "4      M   55+          16             C                         4+   \n",
       "\n",
       "   Marital_Status  Purchase  \n",
       "0               0      8370  \n",
       "1               0     15200  \n",
       "2               0      1422  \n",
       "3               0      1057  \n",
       "4               0      7969  "
      ]
     },
     "execution_count": 5,
     "metadata": {},
     "output_type": "execute_result"
    }
   ],
   "source": [
    "data.head()\n"
   ]
  },
  {
   "cell_type": "markdown",
   "metadata": {},
   "source": [
    " #### 1.c  Datos Categoricos\n",
    " Transformaremos ahora los datos no numericos a datos numéricos. Para esto transformaremos el género a una variable binaria como muestra el código siguiente. Transforme todos los datos problematicos de manera similar. Discuta la eleccion realizada para \"City_Category\", más adelante haremos otra propuesta. Para los rangos de edad puede utilizar el promedio de ambos valores. Discuta si tiene alguna relevancia la elección del valor numerigo (_e.g._ 1 ó 0 para mujer) para el modelo de regresión lineal. Es así en todos los casos o solo para variables binarias?\n",
    " Por qué el dato \"Occupation\" no podemos utilizarlo directamente a pesar de ser numérico? Que solucion nos da el metodo `get_dummies` de pandas?"
   ]
  },
  {
   "cell_type": "code",
   "execution_count": null,
   "metadata": {},
   "outputs": [],
   "source": [
    "\"\"\"\n",
    "data['Gender'] = data.Gender.apply(lambda x: {'F':1,'M':0}[x])\n",
    "city_cat_dic = {'A':-1, 'C':0, 'B':1}\n",
    "age_dic = # . . .\n",
    "Stay_In_Current_City_Years_dic = # . . .\n",
    "\n",
    "data_pre = pd.get_dummies(data.Occupation)\n",
    "col = list(data.columns)\n",
    "col.remove('Occupation')\n",
    "data_pre[col] = data[col]\n",
    "\"\"\""
   ]
  },
  {
   "cell_type": "markdown",
   "metadata": {},
   "source": [
    "\n",
    "La variable Occupation no puede ser utilizada porque a pesar de ser un valor numerico no entrega información sobre la ocupación real, no aporta información al modelo."
   ]
  },
  {
   "cell_type": "code",
   "execution_count": null,
   "metadata": {},
   "outputs": [],
   "source": [
    "data.groupby('Occupation').size()"
   ]
  },
  {
   "cell_type": "code",
   "execution_count": null,
   "metadata": {},
   "outputs": [],
   "source": [
    "data.groupby('Marital_Status').size()"
   ]
  },
  {
   "cell_type": "code",
   "execution_count": 6,
   "metadata": {},
   "outputs": [],
   "source": [
    "gender=pd.get_dummies(data.Gender)\n",
    "#age=pd.get_dummies(data.Age)\n",
    "citycat=pd.get_dummies(data.City_Category)\n",
    "#stayears=pd.get_dummies(data.Stay_In_Current_City_Years)\n",
    "marital=pd.get_dummies(data.Marital_Status)\n",
    "\n",
    "datadummies=pd.concat([data,gender,citycat],axis='columns')\n",
    "dataf=datadummies.drop(['Gender','City_Category','Occupation','Marital_Status'],axis='columns')"
   ]
  },
  {
   "cell_type": "code",
   "execution_count": 7,
   "metadata": {},
   "outputs": [
    {
     "data": {
      "text/html": [
       "<div>\n",
       "<style scoped>\n",
       "    .dataframe tbody tr th:only-of-type {\n",
       "        vertical-align: middle;\n",
       "    }\n",
       "\n",
       "    .dataframe tbody tr th {\n",
       "        vertical-align: top;\n",
       "    }\n",
       "\n",
       "    .dataframe thead th {\n",
       "        text-align: right;\n",
       "    }\n",
       "</style>\n",
       "<table border=\"1\" class=\"dataframe\">\n",
       "  <thead>\n",
       "    <tr style=\"text-align: right;\">\n",
       "      <th></th>\n",
       "      <th>Age</th>\n",
       "      <th>Stay_In_Current_City_Years</th>\n",
       "      <th>Purchase</th>\n",
       "      <th>F</th>\n",
       "      <th>M</th>\n",
       "      <th>A</th>\n",
       "      <th>B</th>\n",
       "      <th>C</th>\n",
       "    </tr>\n",
       "  </thead>\n",
       "  <tbody>\n",
       "    <tr>\n",
       "      <th>0</th>\n",
       "      <td>0-17</td>\n",
       "      <td>2</td>\n",
       "      <td>8370</td>\n",
       "      <td>1</td>\n",
       "      <td>0</td>\n",
       "      <td>1</td>\n",
       "      <td>0</td>\n",
       "      <td>0</td>\n",
       "    </tr>\n",
       "    <tr>\n",
       "      <th>1</th>\n",
       "      <td>0-17</td>\n",
       "      <td>2</td>\n",
       "      <td>15200</td>\n",
       "      <td>1</td>\n",
       "      <td>0</td>\n",
       "      <td>1</td>\n",
       "      <td>0</td>\n",
       "      <td>0</td>\n",
       "    </tr>\n",
       "    <tr>\n",
       "      <th>2</th>\n",
       "      <td>0-17</td>\n",
       "      <td>2</td>\n",
       "      <td>1422</td>\n",
       "      <td>1</td>\n",
       "      <td>0</td>\n",
       "      <td>1</td>\n",
       "      <td>0</td>\n",
       "      <td>0</td>\n",
       "    </tr>\n",
       "    <tr>\n",
       "      <th>3</th>\n",
       "      <td>0-17</td>\n",
       "      <td>2</td>\n",
       "      <td>1057</td>\n",
       "      <td>1</td>\n",
       "      <td>0</td>\n",
       "      <td>1</td>\n",
       "      <td>0</td>\n",
       "      <td>0</td>\n",
       "    </tr>\n",
       "    <tr>\n",
       "      <th>4</th>\n",
       "      <td>55+</td>\n",
       "      <td>4+</td>\n",
       "      <td>7969</td>\n",
       "      <td>0</td>\n",
       "      <td>1</td>\n",
       "      <td>0</td>\n",
       "      <td>0</td>\n",
       "      <td>1</td>\n",
       "    </tr>\n",
       "  </tbody>\n",
       "</table>\n",
       "</div>"
      ],
      "text/plain": [
       "    Age Stay_In_Current_City_Years  Purchase  F  M  A  B  C\n",
       "0  0-17                          2      8370  1  0  1  0  0\n",
       "1  0-17                          2     15200  1  0  1  0  0\n",
       "2  0-17                          2      1422  1  0  1  0  0\n",
       "3  0-17                          2      1057  1  0  1  0  0\n",
       "4   55+                         4+      7969  0  1  0  0  1"
      ]
     },
     "execution_count": 7,
     "metadata": {},
     "output_type": "execute_result"
    }
   ],
   "source": [
    "dataf.head()"
   ]
  },
  {
   "cell_type": "code",
   "execution_count": 9,
   "metadata": {},
   "outputs": [],
   "source": [
    "dataf['Stay_In_Current_City_Years']= dataf.Stay_In_Current_City_Years.apply(lambda x: {'0':0,'1':1,'2':2,'3':3,'4+':4}[x])\n",
    "dataf['Age']= dataf.Age.apply(lambda x: {'0-17':8.5,'18-25':21.5,'26-35':30.5,'36-45':40.5,'46-50':48,'51-55':53,'55+':55}[x])"
   ]
  },
  {
   "cell_type": "code",
   "execution_count": 10,
   "metadata": {},
   "outputs": [
    {
     "data": {
      "text/html": [
       "<div>\n",
       "<style scoped>\n",
       "    .dataframe tbody tr th:only-of-type {\n",
       "        vertical-align: middle;\n",
       "    }\n",
       "\n",
       "    .dataframe tbody tr th {\n",
       "        vertical-align: top;\n",
       "    }\n",
       "\n",
       "    .dataframe thead th {\n",
       "        text-align: right;\n",
       "    }\n",
       "</style>\n",
       "<table border=\"1\" class=\"dataframe\">\n",
       "  <thead>\n",
       "    <tr style=\"text-align: right;\">\n",
       "      <th></th>\n",
       "      <th>Age</th>\n",
       "      <th>Stay_In_Current_City_Years</th>\n",
       "      <th>Purchase</th>\n",
       "      <th>F</th>\n",
       "      <th>M</th>\n",
       "      <th>A</th>\n",
       "      <th>B</th>\n",
       "      <th>C</th>\n",
       "    </tr>\n",
       "  </thead>\n",
       "  <tbody>\n",
       "    <tr>\n",
       "      <th>0</th>\n",
       "      <td>8.5</td>\n",
       "      <td>2</td>\n",
       "      <td>8370</td>\n",
       "      <td>1</td>\n",
       "      <td>0</td>\n",
       "      <td>1</td>\n",
       "      <td>0</td>\n",
       "      <td>0</td>\n",
       "    </tr>\n",
       "    <tr>\n",
       "      <th>1</th>\n",
       "      <td>8.5</td>\n",
       "      <td>2</td>\n",
       "      <td>15200</td>\n",
       "      <td>1</td>\n",
       "      <td>0</td>\n",
       "      <td>1</td>\n",
       "      <td>0</td>\n",
       "      <td>0</td>\n",
       "    </tr>\n",
       "    <tr>\n",
       "      <th>2</th>\n",
       "      <td>8.5</td>\n",
       "      <td>2</td>\n",
       "      <td>1422</td>\n",
       "      <td>1</td>\n",
       "      <td>0</td>\n",
       "      <td>1</td>\n",
       "      <td>0</td>\n",
       "      <td>0</td>\n",
       "    </tr>\n",
       "    <tr>\n",
       "      <th>3</th>\n",
       "      <td>8.5</td>\n",
       "      <td>2</td>\n",
       "      <td>1057</td>\n",
       "      <td>1</td>\n",
       "      <td>0</td>\n",
       "      <td>1</td>\n",
       "      <td>0</td>\n",
       "      <td>0</td>\n",
       "    </tr>\n",
       "    <tr>\n",
       "      <th>4</th>\n",
       "      <td>55.0</td>\n",
       "      <td>4</td>\n",
       "      <td>7969</td>\n",
       "      <td>0</td>\n",
       "      <td>1</td>\n",
       "      <td>0</td>\n",
       "      <td>0</td>\n",
       "      <td>1</td>\n",
       "    </tr>\n",
       "  </tbody>\n",
       "</table>\n",
       "</div>"
      ],
      "text/plain": [
       "    Age  Stay_In_Current_City_Years  Purchase  F  M  A  B  C\n",
       "0   8.5                           2      8370  1  0  1  0  0\n",
       "1   8.5                           2     15200  1  0  1  0  0\n",
       "2   8.5                           2      1422  1  0  1  0  0\n",
       "3   8.5                           2      1057  1  0  1  0  0\n",
       "4  55.0                           4      7969  0  1  0  0  1"
      ]
     },
     "execution_count": 10,
     "metadata": {},
     "output_type": "execute_result"
    }
   ],
   "source": [
    "dataf.head()"
   ]
  },
  {
   "cell_type": "markdown",
   "metadata": {},
   "source": [
    " #### 1.d  Separación de datos\n",
    " Separaremos los datos en _train_, _validation_ y _test_ con 75%, 15% y 10% de los datos respectivamente. Verifique que se cumplen aproximadamente las proporciones. Luego separe el _target_ del resto de las variables que consideraremos. "
   ]
  },
  {
   "cell_type": "code",
   "execution_count": 11,
   "metadata": {},
   "outputs": [],
   "source": [
    "data_train,data_val=train_test_split(dataf, test_size = 0.25)\n",
    "data_val,data_test=train_test_split(data_val, test_size = 0.4)\n",
    "#data_x_train = data_pre_train.drop(columns='Purchase')\n",
    "#data_y_train=data_train['Purchase']\n",
    "x_train=data_train.drop('Purchase',axis=1)\n",
    "y_train=data_train['Purchase']\n",
    "\n",
    "x_val=data_val.drop('Purchase',axis=1)\n",
    "y_val=data_val['Purchase']\n",
    "\n",
    "\n",
    "x_test=data_test.drop('Purchase',axis=1)\n",
    "y_test=data_test['Purchase']"
   ]
  },
  {
   "cell_type": "code",
   "execution_count": 12,
   "metadata": {},
   "outputs": [
    {
     "name": "stdout",
     "output_type": "stream",
     "text": [
      "0.749998604851026\n",
      "0.15000083708938441\n",
      "0.1000005580595896\n"
     ]
    }
   ],
   "source": [
    "print(len(data_train)/len(dataf))\n",
    "print(len(data_val)/len(dataf))\n",
    "print(len(data_test)/len(dataf))"
   ]
  },
  {
   "cell_type": "code",
   "execution_count": 13,
   "metadata": {},
   "outputs": [
    {
     "data": {
      "text/plain": [
       "262616     5225\n",
       "135740     7853\n",
       "327969     5359\n",
       "300231    18987\n",
       "380943    11485\n",
       "Name: Purchase, dtype: int64"
      ]
     },
     "execution_count": 13,
     "metadata": {},
     "output_type": "execute_result"
    }
   ],
   "source": [
    "y_test.head()"
   ]
  },
  {
   "cell_type": "code",
   "execution_count": 14,
   "metadata": {},
   "outputs": [
    {
     "data": {
      "text/html": [
       "<div>\n",
       "<style scoped>\n",
       "    .dataframe tbody tr th:only-of-type {\n",
       "        vertical-align: middle;\n",
       "    }\n",
       "\n",
       "    .dataframe tbody tr th {\n",
       "        vertical-align: top;\n",
       "    }\n",
       "\n",
       "    .dataframe thead th {\n",
       "        text-align: right;\n",
       "    }\n",
       "</style>\n",
       "<table border=\"1\" class=\"dataframe\">\n",
       "  <thead>\n",
       "    <tr style=\"text-align: right;\">\n",
       "      <th></th>\n",
       "      <th>Age</th>\n",
       "      <th>Stay_In_Current_City_Years</th>\n",
       "      <th>F</th>\n",
       "      <th>M</th>\n",
       "      <th>A</th>\n",
       "      <th>B</th>\n",
       "      <th>C</th>\n",
       "    </tr>\n",
       "  </thead>\n",
       "  <tbody>\n",
       "    <tr>\n",
       "      <th>262616</th>\n",
       "      <td>30.5</td>\n",
       "      <td>1</td>\n",
       "      <td>0</td>\n",
       "      <td>1</td>\n",
       "      <td>1</td>\n",
       "      <td>0</td>\n",
       "      <td>0</td>\n",
       "    </tr>\n",
       "    <tr>\n",
       "      <th>135740</th>\n",
       "      <td>40.5</td>\n",
       "      <td>1</td>\n",
       "      <td>0</td>\n",
       "      <td>1</td>\n",
       "      <td>0</td>\n",
       "      <td>0</td>\n",
       "      <td>1</td>\n",
       "    </tr>\n",
       "    <tr>\n",
       "      <th>327969</th>\n",
       "      <td>30.5</td>\n",
       "      <td>4</td>\n",
       "      <td>1</td>\n",
       "      <td>0</td>\n",
       "      <td>1</td>\n",
       "      <td>0</td>\n",
       "      <td>0</td>\n",
       "    </tr>\n",
       "    <tr>\n",
       "      <th>300231</th>\n",
       "      <td>21.5</td>\n",
       "      <td>2</td>\n",
       "      <td>0</td>\n",
       "      <td>1</td>\n",
       "      <td>0</td>\n",
       "      <td>1</td>\n",
       "      <td>0</td>\n",
       "    </tr>\n",
       "    <tr>\n",
       "      <th>380943</th>\n",
       "      <td>40.5</td>\n",
       "      <td>0</td>\n",
       "      <td>0</td>\n",
       "      <td>1</td>\n",
       "      <td>0</td>\n",
       "      <td>0</td>\n",
       "      <td>1</td>\n",
       "    </tr>\n",
       "  </tbody>\n",
       "</table>\n",
       "</div>"
      ],
      "text/plain": [
       "         Age  Stay_In_Current_City_Years  F  M  A  B  C\n",
       "262616  30.5                           1  0  1  1  0  0\n",
       "135740  40.5                           1  0  1  0  0  1\n",
       "327969  30.5                           4  1  0  1  0  0\n",
       "300231  21.5                           2  0  1  0  1  0\n",
       "380943  40.5                           0  0  1  0  0  1"
      ]
     },
     "execution_count": 14,
     "metadata": {},
     "output_type": "execute_result"
    }
   ],
   "source": [
    "x_test.head()"
   ]
  },
  {
   "cell_type": "code",
   "execution_count": 15,
   "metadata": {},
   "outputs": [
    {
     "data": {
      "image/png": "[encoded data removed]",
      "text/plain": [
       "<Figure size 720x360 with 1 Axes>"
      ]
     },
     "metadata": {
      "needs_background": "light"
     },
     "output_type": "display_data"
    }
   ],
   "source": [
    "import seaborn as sns\n",
    "plt.figure(figsize=(8,4), dpi=90)\n",
    "sns.boxplot(list(dataf['Purchase']))\n",
    "plt.ylabel('Datos')\n",
    "plt.xlabel('Purchase')\n",
    "plt.title('Purchase')\n",
    "plt.show()"
   ]
  },
  {
   "cell_type": "markdown",
   "metadata": {},
   "source": [
    "Es posible apreciar en el boxplot que los valores de compra 'Purchase' estan sesgados hacia los valores mas bajos, quedando como outlaier auqellas compras por sobre los 21000 aproximadamente."
   ]
  },
  {
   "cell_type": "markdown",
   "metadata": {},
   "source": [
    " #### 1.e  Estandarización\n",
    " Utilizaremos `Standar_Scaler` para estandarizar los datos antes de entrenar. Que ventaja tiene en su opinion el tener un objeto que permite estandarizar (y hacer la transformación inversa) frente a hacer la opreación aritmetica \"manualmente\"? Note el cambio de tipo entre `data_x_train` y `x_train`. Tiene utilidad estandarizar el _target_ para este modelo? Guarde el _target_ estandarizado de todas formas para comparar más adelante."
   ]
  },
  {
   "cell_type": "markdown",
   "metadata": {},
   "source": [
    "En los datos importa la unidad y la magnitud de estos, principalemente porque la variable a predecir generalmente es diferente a las variables que la condicionan, para lo cual se utiliza la estandarizacion o la normalizacion. Se hace necesaria para modelos como k-means, kNN, clustering, regresion lineal, regresion logaritmica, para todo redes neuronales. \n",
    "Para los arboles de decicion o random forest no se requiere escalar. "
   ]
  },
  {
   "cell_type": "code",
   "execution_count": 16,
   "metadata": {},
   "outputs": [],
   "source": [
    "#scaler_x = StandardScaler()\n",
    "#scaler_x.fit(data_x_train)\n",
    "#x_tr = scaler_x.transform(data_x_train)\n",
    "\n",
    "scaler=StandardScaler()\n",
    "scaler.fit(x_train)\n",
    "scaler.fit(y_train.values.reshape(-1,1))\n",
    "\n",
    "scaler.fit(x_val)\n",
    "scaler.fit(y_val.values.reshape(-1,1))\n",
    "\n",
    "scaler.fit(x_test)\n",
    "scaler.fit(y_test.values.reshape(-1,1))\n",
    "\n",
    "X_train=scaler.transform(x_train)\n",
    "Y_train=scaler.transform(y_train.values.reshape(-1,1))\n",
    "\n",
    "X_val=scaler.transform(x_val)\n",
    "Y_val=scaler.transform(y_val.values.reshape(-1,1))\n",
    "\n",
    "X_test=scaler.transform(x_test)\n",
    "Y_test=scaler.transform(y_test.values.reshape(-1,1))\n",
    "\n",
    "\n",
    "\n",
    "#x_val = scaler_y(# . . .)\n",
    "# . . .\n",
    "# . . . \n",
    "#scaler_y.fit(data_y_train.values.reshape(-1,1))\n",
    "# . . . "
   ]
  },
  {
   "cell_type": "markdown",
   "metadata": {},
   "source": [
    " #### 1.f Primera Regresión\n",
    " Realice una regresión lineal con los datos escalados y no escalados. Compare sus _scores_. Cual es la formula del _score_ que utiliza el regresor (puede buscar en la documentación)? Qué interpretación se le puede dar al _score_? Puede concluir que los datos escalados o no escalados entregan un mejor modelo? Sobre que conjunto de datos (_train_, _test_ o _valitdation_) deberíamos comparar el _score_?"
   ]
  },
  {
   "cell_type": "code",
   "execution_count": 17,
   "metadata": {},
   "outputs": [],
   "source": [
    "from sklearn import metrics"
   ]
  },
  {
   "cell_type": "code",
   "execution_count": 18,
   "metadata": {},
   "outputs": [],
   "source": [
    "\n",
    "reg_scaled = LinearRegression()\n",
    "reg_scaled.fit(x_train,y_train)\n",
    "y_pred=reg_scaled.predict(x_val)\n",
    "#reg_scaled.fit(x_tr,y_tr)\n",
    "#reg_scaled.score(# . . .)\n",
    "#y_pred=reg_escale.predict(X_test) \n",
    "#metrics.accuracy_score(Y_test,y_pred )"
   ]
  },
  {
   "cell_type": "code",
   "execution_count": 19,
   "metadata": {},
   "outputs": [
    {
     "data": {
      "text/plain": [
       "0.008821397458041558"
      ]
     },
     "execution_count": 19,
     "metadata": {},
     "output_type": "execute_result"
    }
   ],
   "source": [
    "reg_scaled.score(x_val,y_val)"
   ]
  },
  {
   "cell_type": "code",
   "execution_count": 20,
   "metadata": {},
   "outputs": [
    {
     "data": {
      "text/plain": [
       "7.038592744032642"
      ]
     },
     "execution_count": 20,
     "metadata": {},
     "output_type": "execute_result"
    }
   ],
   "source": [
    "((metrics.mean_squared_error(y_pred,y_val))/500000)**0.5"
   ]
  },
  {
   "cell_type": "code",
   "execution_count": 21,
   "metadata": {},
   "outputs": [],
   "source": [
    "reg_scaled = LinearRegression()\n",
    "reg_scaled.fit(X_train,Y_train)\n",
    "Y_pred=reg_scaled.predict(X_val)"
   ]
  },
  {
   "cell_type": "code",
   "execution_count": 22,
   "metadata": {},
   "outputs": [
    {
     "data": {
      "text/plain": [
       "-0.03863912429867922"
      ]
     },
     "execution_count": 22,
     "metadata": {},
     "output_type": "execute_result"
    }
   ],
   "source": [
    "reg_scaled.score(X_val,Y_val)"
   ]
  },
  {
   "cell_type": "code",
   "execution_count": 23,
   "metadata": {},
   "outputs": [
    {
     "data": {
      "text/plain": [
       "1.0533904943694827"
      ]
     },
     "execution_count": 23,
     "metadata": {},
     "output_type": "execute_result"
    }
   ],
   "source": [
    "metrics.mean_squared_error(Y_pred,Y_val)"
   ]
  },
  {
   "cell_type": "code",
   "execution_count": 24,
   "metadata": {},
   "outputs": [],
   "source": [
    "Y_pred_invers=pd.DataFrame(scaler.inverse_transform(Y_pred))"
   ]
  },
  {
   "cell_type": "code",
   "execution_count": 25,
   "metadata": {},
   "outputs": [
    {
     "data": {
      "text/html": [
       "<div>\n",
       "<style scoped>\n",
       "    .dataframe tbody tr th:only-of-type {\n",
       "        vertical-align: middle;\n",
       "    }\n",
       "\n",
       "    .dataframe tbody tr th {\n",
       "        vertical-align: top;\n",
       "    }\n",
       "\n",
       "    .dataframe thead th {\n",
       "        text-align: right;\n",
       "    }\n",
       "</style>\n",
       "<table border=\"1\" class=\"dataframe\">\n",
       "  <thead>\n",
       "    <tr style=\"text-align: right;\">\n",
       "      <th></th>\n",
       "      <th>0</th>\n",
       "    </tr>\n",
       "  </thead>\n",
       "  <tbody>\n",
       "    <tr>\n",
       "      <th>0</th>\n",
       "      <td>9308.831114</td>\n",
       "    </tr>\n",
       "    <tr>\n",
       "      <th>1</th>\n",
       "      <td>10549.833255</td>\n",
       "    </tr>\n",
       "    <tr>\n",
       "      <th>2</th>\n",
       "      <td>10549.833255</td>\n",
       "    </tr>\n",
       "    <tr>\n",
       "      <th>3</th>\n",
       "      <td>10549.833255</td>\n",
       "    </tr>\n",
       "    <tr>\n",
       "      <th>4</th>\n",
       "      <td>9308.831114</td>\n",
       "    </tr>\n",
       "  </tbody>\n",
       "</table>\n",
       "</div>"
      ],
      "text/plain": [
       "              0\n",
       "0   9308.831114\n",
       "1  10549.833255\n",
       "2  10549.833255\n",
       "3  10549.833255\n",
       "4   9308.831114"
      ]
     },
     "execution_count": 25,
     "metadata": {},
     "output_type": "execute_result"
    }
   ],
   "source": [
    "Y_pred_invers.head()"
   ]
  },
  {
   "cell_type": "markdown",
   "metadata": {},
   "source": [
    " #### 1.g  Tranformaciones simples\n",
    " Grafique como se distribuyen los precios, apoyese en el siguiente código. Recuerde que los gráficos deben ir acompañados de título, nombre de ejes entre otros.\n",
    " Viendo el gráfico, pareciera que una representación lineal funcionará bien para modelar este tipo de datos?\n",
    " \n",
    "Prueba algunas transformaciones simples, como logaritmo o raiz cuadrada y comente los gráficos. \n",
    "\n",
    "Estos gráficos permiten concluir algo sobre el comportamiento de un modelo lineal o solo sirven de caracter exploratorio?"
   ]
  },
  {
   "cell_type": "code",
   "execution_count": null,
   "metadata": {},
   "outputs": [],
   "source": [
    "\"\"\"\n",
    "plt.plot(np.arange(0,data_y_train.shape[0],1),data_y_train.sort_values(),np.arange(0,data_y_train.shape[0],1),np.linspace(0,((data_y_train.sort_values())).max(),num=data_y_train.shape[0]))\n",
    "\"\"\""
   ]
  },
  {
   "cell_type": "code",
   "execution_count": 26,
   "metadata": {},
   "outputs": [
    {
     "data": {
      "image/png": "[encoded data removed]",
      "text/plain": [
       "<Figure size 540x540 with 3 Axes>"
      ]
     },
     "metadata": {
      "needs_background": "light"
     },
     "output_type": "display_data"
    }
   ],
   "source": [
    "data_y_train = y_train\n",
    "plt.figure(figsize=(6,6), dpi=90)\n",
    "plt.subplot(3,1,1)\n",
    "plt.plot(np.arange(0,data_y_train.shape[0],1),data_y_train.sort_values(),np.arange(0,data_y_train.shape[0],1),\n",
    "         np.linspace(0,((data_y_train.sort_values())).max(),num=data_y_train.shape[0]))\n",
    "plt.ylabel('Cantidad acumulada')\n",
    "plt.xlabel('Purchase')\n",
    "plt.title('Distribución Purchase')\n",
    "\n",
    "data_y_train = np.log(y_train)\n",
    "plt.subplot(3,1,2)\n",
    "plt.plot(np.arange(0,data_y_train.shape[0],1),data_y_train.sort_values(),np.arange(0,data_y_train.shape[0],1),\n",
    "         np.linspace(0,((data_y_train.sort_values())).max(),num=data_y_train.shape[0]))\n",
    "plt.ylabel('Cantidad acumulada')\n",
    "plt.xlabel('Purchase')\n",
    "plt.title('Distribución log(Purchase)')\n",
    "\n",
    "data_y_train = np.sqrt(y_train)\n",
    "plt.subplot(3,1,3)\n",
    "plt.plot(np.arange(0,data_y_train.shape[0],1),data_y_train.sort_values(),np.arange(0,data_y_train.shape[0],1),\n",
    "         np.linspace(0,((data_y_train.sort_values())).max(),num=data_y_train.shape[0]))\n",
    "plt.ylabel('Cantidad acumulada')\n",
    "plt.xlabel('Purchase')\n",
    "plt.title('Distribución sqrt(Purchase)')\n",
    "\n",
    "plt.subplots_adjust(top=4, bottom=3, left=0.4, right=2, hspace=0.95,\n",
    "                    wspace=0.2)\n",
    "\n",
    "plt.show()"
   ]
  },
  {
   "cell_type": "markdown",
   "metadata": {},
   "source": [
    "Si el comportamiento fuera mejor del objetivo (purchase) con la transformacion logaritmica entonces, deberia previo a aplicar el modelo realizar la operacion logaritmo al objetivo y aplicar el modelo, luego al resultado de la prediccion del modelo realizar la inversa del logaritmo para tener el resultado real. "
   ]
  },
  {
   "cell_type": "code",
   "execution_count": 27,
   "metadata": {},
   "outputs": [
    {
     "data": {
      "image/png": "[encoded data removed]",
      "text/plain": [
       "<Figure size 2016x2016 with 2 Axes>"
      ]
     },
     "metadata": {
      "needs_background": "light"
     },
     "output_type": "display_data"
    }
   ],
   "source": [
    "data1= pd.read_csv(\"BlackFriday.csv\")\n",
    "plt.figure(figsize=(28,28))\n",
    "sns.heatmap(data1.corr(), vmax=.8, linewidths=0.01,\n",
    "            square=True,annot=True,cmap='viridis',linecolor=\"white\")\n",
    "sns.set(font_scale=1)\n",
    "plt.title('Correlacion entre caracteristicas');\n",
    "plt.show()"
   ]
  },
  {
   "cell_type": "markdown",
   "metadata": {},
   "source": [
    "#### 1.h 10-_fold_ sobre la potencia\n",
    "Probaremos la utilidad real de realizar una transformación del target del tipo $P \\gets P^{i}$ con $i \\in [0,2]$ haciendo 10-_fold_ variando el valor de $i$ en a lo menos 10 incrementos. Puede basarse en la estrucuta siguiente. Debe elegir un estimador del error de validación de cada modelo (_e.g._ mediana, promedio...) y comentar brevemente por qué eligio tal estimador. \n",
    "Luego grafique como varia el error de validación en función de _i_. \n",
    "Finalmente, con el mejor valor de $i$ encontrado, entrene un regresor lineal con todos los datos de entrenamiento y compare su densempeño con los modelos anteriores.\n",
    "Puede afirmar que alguna de las transformaciones mejore el desempeño del modelo? "
   ]
  },
  {
   "cell_type": "code",
   "execution_count": null,
   "metadata": {},
   "outputs": [],
   "source": [
    "\"\"\"\n",
    "folds = KFold(10)\n",
    "\n",
    "for i in range(1,21):\n",
    "\n",
    "    for train_index, val_index in folds.split(x_tr):\n",
    "        y_i = data_y_train.values**(i/10)\n",
    "        y_tr_i = y_i[train_index]\n",
    "        # . . .\n",
    "        \n",
    "        # entrene el modelo y guarde su score\n",
    "     #  . . .\n",
    "\"\"\""
   ]
  },
  {
   "cell_type": "markdown",
   "metadata": {},
   "source": [
    "La transformación se realiza solo a la variable objetivo"
   ]
  },
  {
   "cell_type": "markdown",
   "metadata": {},
   "source": [
    "Nueva Separacion de la data para realizar Kfolg, dejamos solo una testeo fuera, y ademas separamos las variables X del objetivo "
   ]
  },
  {
   "cell_type": "code",
   "execution_count": 43,
   "metadata": {},
   "outputs": [],
   "source": [
    "data_train_Kf,data_test_Kf=train_test_split(dataf, test_size = 0.1)\n",
    "\n",
    "x_train_Kf=data_train_Kf.drop('Purchase',axis=1)\n",
    "y_train_Kf=data_train_Kf['Purchase']\n",
    "\n",
    "x_test_Kf=data_test_Kf.drop('Purchase',axis=1)\n",
    "y_test_Kf=data_test_Kf['Purchase']"
   ]
  },
  {
   "cell_type": "code",
   "execution_count": 44,
   "metadata": {},
   "outputs": [],
   "source": [
    "folds = KFold(n_splits = 10,shuffle=True)\n",
    "#shuffle=True toma datos desordenadamente pero sin repeticion\n",
    "#n_splits es la cantidad de diviciones, 1 de ellas es la de testeo siempre\n",
    "#KFold permite utilizar toda la data para entrenar y testear \n",
    "\n",
    "promedioscores=[]\n",
    "for i in range(1,21):\n",
    "    scors=[]\n",
    "    for train_index,val_index in folds.split(x_train_Kf):    \n",
    "        x_tr , x_val = x_train_Kf.iloc[train_index],x_train_Kf.iloc[val_index]\n",
    "        y_tr , y_val = y_train_Kf.iloc[train_index],y_train_Kf.iloc[val_index]\n",
    "        y_tr_t=(y_tr.values.reshape(-1,1))**(i/10)\n",
    "        y_val_t=(y_val.values.reshape(-1,1))**(i/10)\n",
    "        reg_scaled = LinearRegression()\n",
    "        reg_scaled.fit(x_tr,y_tr_t)\n",
    "        score=reg_scaled.score(x_tr,y_tr_t)\n",
    "        scors.append(score)\n",
    "    meanscores=np.mean(scors) #porque calcula 10 por cada for por el kfolds\n",
    "    promedioscores.append(meanscores)    \n",
    "    "
   ]
  },
  {
   "cell_type": "code",
   "execution_count": 45,
   "metadata": {},
   "outputs": [
    {
     "data": {
      "text/plain": [
       "[0.006885946236103668,\n",
       " 0.007259849702642018,\n",
       " 0.007587131345778675,\n",
       " 0.007869010195299809,\n",
       " 0.008109517083352924,\n",
       " 0.008307689795578865,\n",
       " 0.008470705462048334,\n",
       " 0.008598664266389621,\n",
       " 0.008698147497753096,\n",
       " 0.008769651034051296,\n",
       " 0.0088138845701769,\n",
       " 0.008838282142738619,\n",
       " 0.00884158418769323,\n",
       " 0.008830069749711978,\n",
       " 0.008801225408839587,\n",
       " 0.00876011626602492,\n",
       " 0.008707790994784238,\n",
       " 0.008644726190685348,\n",
       " 0.008572631905709805,\n",
       " 0.008493582929371723]"
      ]
     },
     "execution_count": 45,
     "metadata": {},
     "output_type": "execute_result"
    }
   ],
   "source": [
    "promedioscores"
   ]
  },
  {
   "cell_type": "markdown",
   "metadata": {},
   "source": [
    "kfold hecho para la data estandarizada tira error al aplicar la transformacion de la potencia, porque quedan muchos decimales "
   ]
  },
  {
   "cell_type": "code",
   "execution_count": 30,
   "metadata": {},
   "outputs": [],
   "source": [
    "scaler=StandardScaler()\n",
    "scaler.fit(x_train_Kf)\n",
    "scaler.fit(y_train_Kf.values.reshape(-1,1))\n",
    "\n",
    "scaler.fit(x_test_Kf)\n",
    "scaler.fit(y_test_Kf.values.reshape(-1,1))\n",
    "\n",
    "X_train_Kf_s=scaler.transform(x_train_Kf)\n",
    "Y_train_Kf_s=scaler.transform(y_train_Kf.values.reshape(-1,1))\n",
    "\n",
    "\n",
    "X_test_Kf_s=scaler.transform(x_test_Kf)\n",
    "Y_test_Kf_s=scaler.transform(y_test_Kf.values.reshape(-1,1))"
   ]
  },
  {
   "cell_type": "code",
   "execution_count": 37,
   "metadata": {
    "scrolled": true
   },
   "outputs": [],
   "source": [
    "folds = KFold(n_splits = 10,shuffle=True)\n",
    "#shuffle=True toma datos desordenadamente pero sin repeticion\n",
    "#n_splits es la cantidad de diviciones, 1 de ellas es la de testeo siempre\n",
    "#KFold permite utilizar toda la data para entrenar y testear \n",
    "\n",
    "promedioscoresE=[]\n",
    "for i in range(1,21):\n",
    "    scors=[]\n",
    "    for train_index,val_index in folds.split(X_train_Kf_s):    \n",
    "        x_tr , x_val = X_train_Kf_s[train_index],X_train_Kf_s[val_index]\n",
    "        y_tr , y_val = Y_train_Kf_s[train_index],Y_train_Kf_s[val_index]\n",
    "        y_tr_t=(y_tr)#**(i/10)\n",
    "        y_val_t=(y_val)#**#(i/10)\n",
    "        reg_scaled = LinearRegression()\n",
    "        reg_scaled.fit(x_tr,y_tr_t)\n",
    "        score=reg_scaled.score(x_tr,y_tr_t)\n",
    "        scors.append(score)\n",
    "    meanscores=np.mean(scors) #porque calcula 10 por cada for por el kfolds\n",
    "    promedioscoresE.append(meanscores)    \n",
    "    "
   ]
  },
  {
   "cell_type": "code",
   "execution_count": 38,
   "metadata": {},
   "outputs": [
    {
     "data": {
      "text/plain": [
       "[-0.044346366724970915,\n",
       " -0.059864308190544446,\n",
       " -0.28050929833352867,\n",
       " -0.06486913675910835,\n",
       " -0.0626832506052172,\n",
       " -0.04108137183351451,\n",
       " -0.2078389922856399,\n",
       " -0.05205472215087359,\n",
       " -0.008913753646365586,\n",
       " -0.1301915360382611,\n",
       " -0.021210261458439805,\n",
       " -0.05634130271379077,\n",
       " -0.028128108081134383,\n",
       " -0.03769807534745513,\n",
       " -0.08016601779520251,\n",
       " -0.06110579599250482,\n",
       " -0.017431707355407798,\n",
       " -0.10963814596984504,\n",
       " -0.11422190335875895,\n",
       " -0.16434517561172807]"
      ]
     },
     "execution_count": 38,
     "metadata": {},
     "output_type": "execute_result"
    }
   ],
   "source": [
    "promedioscoresE"
   ]
  },
  {
   "cell_type": "code",
   "execution_count": 46,
   "metadata": {},
   "outputs": [
    {
     "data": {
      "text/plain": [
       "Text(0.5, 1.0, 'Desempeño regresion lineal al realizar transformación P^i, con medida de desempeño MSE')"
      ]
     },
     "execution_count": 46,
     "metadata": {},
     "output_type": "execute_result"
    },
    {
     "data": {
      "image/png": "[encoded data removed]",
      "text/plain": [
       "<Figure size 1800x1800 with 1 Axes>"
      ]
     },
     "metadata": {},
     "output_type": "display_data"
    }
   ],
   "source": [
    "Pi=[]\n",
    "for i in range(1,21):\n",
    "    Pi.append(i/10)\n",
    "x = Pi\n",
    "y = promedioscores\n",
    "\n",
    "plt.figure(figsize=(18,18), dpi=100)\n",
    "#plt.subplot(2,1,1)\n",
    "plt.xticks(np.linspace(0,2,11, endpoint=True))#define valores en el eje x, lo mismo para y con yxticks\n",
    "plt.plot(x,y,label = 'real train')\n",
    "#plt.plot(trainPredict, label = 'simulado train')\n",
    "#plt.rc('xtick', labelsize=17) #tamaño de los valores de cada eje\n",
    "#plt.rc('ytick', labelsize=17)\n",
    "plt.title('Desempeño regresion lineal al realizar transformación P^i, con medida de desempeño MSE',fontsize=17)\n",
    "#plt.ylabel('Altura [m]',fontsize=17)\n",
    "#plt.xlabel('Tiempo [s]',fontsize=17)\n",
    "#plt.legend(loc='upper right',fontsize=17)\n"
   ]
  },
  {
   "cell_type": "code",
   "execution_count": null,
   "metadata": {},
   "outputs": [],
   "source": [
    "print(max(promedioscores))"
   ]
  },
  {
   "cell_type": "markdown",
   "metadata": {},
   "source": [
    "El valor de score para la regresion lineal es mejor en la medida que se acerca a 1, incluso puede ser negativo, en este caso el mejor valor del score fue para los valores al realizar la estandarización, por lo que ese se va a graficar."
   ]
  },
  {
   "cell_type": "code",
   "execution_count": null,
   "metadata": {},
   "outputs": [],
   "source": [
    "reg_scaled = LinearRegression()\n",
    "reg_scaled.fit(X_train,(Y_train))\n",
    "Y_pred=reg_scaled.predict(X_val)\n",
    "reg_scaled.score(X_val,Y_val)"
   ]
  },
  {
   "cell_type": "code",
   "execution_count": null,
   "metadata": {},
   "outputs": [],
   "source": [
    "error = (Y_pred-Y_val)**2\n",
    "print(len(error))"
   ]
  },
  {
   "cell_type": "code",
   "execution_count": null,
   "metadata": {},
   "outputs": [],
   "source": [
    "error"
   ]
  },
  {
   "cell_type": "code",
   "execution_count": null,
   "metadata": {},
   "outputs": [],
   "source": []
  },
  {
   "cell_type": "markdown",
   "metadata": {},
   "source": [
    "#### 1.i _Q-Q plot_\n",
    "Gráfique el _Quantile-Quantile Plot_ del residuo (error) de validación del merjo modelo que haya encontrado. Qué puede decir respecto al supuesto de normalidad de los residuos en los datos? "
   ]
  },
  {
   "cell_type": "code",
   "execution_count": null,
   "metadata": {},
   "outputs": [],
   "source": [
    "plt.figure(figsize=(10,10), dpi=100)\n",
    "stats.probplot(error.reshape((len(error),)),dist='norm', plot=plt)\n",
    "# puede necesitar hacer err.reshape((1,)) si obtiene errror \"ValueError: all the input array dimensions except for the concatenation axis must match exactly\""
   ]
  },
  {
   "cell_type": "markdown",
   "metadata": {},
   "source": [
    "#### 1.j Variables categoricas\n",
    "Entrene ahora el modelo que mejor resultado obtuvo pero esta vez utilizando todos los atributos, transformando las variables categoricas no binarias. Como las variables categóricas no se relacionan linealmente al _target_ (pues no representan un valor numérico), debe transformarlas a variables binarias de igual manera que se realizó con la variable \"Occupation\" en la parte 1.c. \n",
    "Debe cargar de nuevo el DataFrame original pues borramos las columnas de categoría de producto.\n",
    "Discuta por qué podría resultar útil agregar de esta misma manera el dato \"City_Category\" y no como se hizo inicialmente. \n",
    "Discuta los resultados obtenidos en comparación con la parte anterior."
   ]
  },
  {
   "cell_type": "code",
   "execution_count": null,
   "metadata": {},
   "outputs": [],
   "source": [
    "DATA = pd.read_csv(\"black-fridayBlackFriday.csv\")"
   ]
  },
  {
   "cell_type": "code",
   "execution_count": null,
   "metadata": {},
   "outputs": [],
   "source": [
    "DATA.head()"
   ]
  },
  {
   "cell_type": "code",
   "execution_count": null,
   "metadata": {},
   "outputs": [],
   "source": [
    "DATA = DATA.drop(columns=['User_ID','Product_ID','Product_Category_1','Product_Category_2','Product_Category_3']) \n",
    "DATA.head()"
   ]
  },
  {
   "cell_type": "code",
   "execution_count": null,
   "metadata": {},
   "outputs": [],
   "source": [
    "gender=pd.get_dummies(DATA.Gender)\n",
    "age=pd.get_dummies(DATA.Age)\n",
    "occ=pd.get_dummies(DATA.Occupation)\n",
    "city=pd.get_dummies(DATA.City_Category)\n",
    "marital=pd.get_dummies(DATA.Marital_Status)\n",
    "\n",
    "DATAdummies=pd.concat([DATA,gender,age,occ,city,marital],axis='columns')\n",
    "DATAF=DATAdummies.drop(['Gender','Age','City_Category','Occupation','Marital_Status'],axis='columns')\n"
   ]
  },
  {
   "cell_type": "code",
   "execution_count": null,
   "metadata": {},
   "outputs": [],
   "source": [
    "DATAF['Stay_In_Current_City_Years']= DATAF.Stay_In_Current_City_Years.apply(lambda x: {'0':0,'1':1,'2':2,'3':3,'4+':4}[x])\n"
   ]
  },
  {
   "cell_type": "code",
   "execution_count": null,
   "metadata": {},
   "outputs": [],
   "source": [
    "DATAF.head()"
   ]
  },
  {
   "cell_type": "markdown",
   "metadata": {},
   "source": [
    "Separacion de datos"
   ]
  },
  {
   "cell_type": "code",
   "execution_count": null,
   "metadata": {},
   "outputs": [],
   "source": [
    "DATA_train,DATA_val=train_test_split(DATAF, test_size = 0.25)\n",
    "DATA_val,DATA_test=train_test_split(DATA_val, test_size = 0.4)\n",
    "\n",
    "x_train=DATA_train.drop('Purchase',axis=1)\n",
    "y_train=DATA_train['Purchase']\n",
    "\n",
    "x_val=DATA_val.drop('Purchase',axis=1)\n",
    "y_val=DATA_val['Purchase']\n",
    "\n",
    "\n",
    "x_test=DATA_test.drop('Purchase',axis=1)\n",
    "y_test=DATA_test['Purchase']"
   ]
  },
  {
   "cell_type": "markdown",
   "metadata": {},
   "source": [
    "Regresion datos sin estandarizar "
   ]
  },
  {
   "cell_type": "code",
   "execution_count": null,
   "metadata": {},
   "outputs": [],
   "source": [
    "folds = KFold(n_splits = 10,shuffle=True)\n",
    "\n",
    "promedioscores=[]\n",
    "for i in range(1,21):\n",
    "    scors=[]\n",
    "    for train_index,val_index in folds.split(x_train):    \n",
    "        x_tr , x_val = x_train.iloc[train_index],x_train.iloc[val_index]\n",
    "        y_tr , y_val = y_train.iloc[train_index],y_train.iloc[val_index]\n",
    "        reg_scaled = LinearRegression()\n",
    "        reg_scaled.fit(x_tr,y_tr)\n",
    "        score=reg_scaled.score(x_tr,y_tr)\n",
    "        scors.append(score)\n",
    "    meanscores=np.mean(scors) #porque calcula 10 por cada for por el kfolds\n",
    "    promedioscores.append(meanscores)\n"
   ]
  },
  {
   "cell_type": "markdown",
   "metadata": {},
   "source": [
    "Estandarizacion"
   ]
  },
  {
   "cell_type": "code",
   "execution_count": null,
   "metadata": {},
   "outputs": [],
   "source": [
    "scaler=StandardScaler()\n",
    "scaler.fit(x_train)\n",
    "scaler.fit(y_train.values.reshape(-1,1))\n",
    "\n",
    "scaler.fit(x_val)\n",
    "scaler.fit(y_val.values.reshape(-1,1))\n",
    "\n",
    "scaler.fit(x_test)\n",
    "scaler.fit(y_test.values.reshape(-1,1))\n",
    "\n",
    "X_train=scaler.transform(x_train)\n",
    "Y_train=scaler.transform(y_train.values.reshape(-1,1))\n",
    "\n",
    "X_val=scaler.transform(x_val)\n",
    "Y_val=scaler.transform(y_val.values.reshape(-1,1))\n",
    "\n",
    "X_test=scaler.transform(x_test)\n",
    "Y_test=scaler.transform(y_test.values.reshape(-1,1))\n"
   ]
  },
  {
   "cell_type": "code",
   "execution_count": null,
   "metadata": {},
   "outputs": [],
   "source": [
    "folds = KFold(n_splits = 10,shuffle=True)\n",
    "#shuffle=True toma datos desordenadamente pero sin repeticion\n",
    "#n_splits es la cantidad de diviciones, 1 de ellas es la de testeo siempre\n",
    "#KFold permite utilizar toda la data para entrenar y testear \n",
    "\n",
    "promedioscoresE=[]\n",
    "for i in range(1,21):\n",
    "    scors=[]\n",
    "    for train_index,val_index in folds.split(X_train):    \n",
    "        x_tr , x_val = X_train.iloc[train_index],X_train.iloc[val_index]\n",
    "        y_tr , y_val = Y_train.iloc[train_index],Y_train.iloc[val_index]\n",
    "        reg_scaled = LinearRegression()\n",
    "        reg_scaled.fit(x_tr,y_tr)\n",
    "        score=reg_scaled.score(x_tr,y_tr)\n",
    "        scors.append(score)\n",
    "    meanscoresE=np.mean(scors) #porque calcula 10 por cada for por el kfolds\n",
    "    promedioscoresE.append(meanscoresE)"
   ]
  },
  {
   "cell_type": "code",
   "execution_count": null,
   "metadata": {},
   "outputs": [],
   "source": []
  },
  {
   "cell_type": "markdown",
   "metadata": {},
   "source": [
    "<a id=\"segundo\"></a>\n",
    "## 2. Selección de Atributos. \n",
    "\n",
    "En esta segunda parte de la tarea estudiaremos un _dataset_ llamado \"House Sales in King County\", un conjunto de datos de ventas de casas, con diversa información sobre las casas vendidas y los precios de venta. Por la naturaleza variada de las casas y las percepciones de las personas que las compran el problema de predecir el valor de una casa a ser vendida resulta interesante pues si bien muchos supuestos razonables se cumplen la mayoría de las veces (una casa más grande suele costar más que una más chica), la percepción de los compradores puede cambiar mucho por caracteristicas dificiles de medir. \n",
    "\n",
    "<img src=\"https://pngimage.net/wp-content/uploads/2018/06/house-for-sale-sign-png-6.png\"  style=\"height:14cm;\"  />\n",
    "\n",
    "Sin embargo, resulta facil imaginar que algunos de los datos resultan más relevantes que otros al momento de predecir, por esto haremos selección de atributos en esta parte de la pregunta. Este _dataset_ es mucho más limpio que lo usual, por lo cual la exploración inicial sera bastante corta. Luego de explorar los datos deberan realizar una exploración de los distintos atributos para evaluar que tan relevantes son en la predicción del resultado. Puede descargar el _dataset_ desde https://www.kaggle.com/harlfoxem/housesalesprediction donde también encontrará una descripción de las distintas columnas."
   ]
  },
  {
   "cell_type": "markdown",
   "metadata": {},
   "source": [
    "#### 2.a Carga de datos \n",
    "\n",
    "Cargue los datos a un DataFrame. Transformaremos la columna \"date\" como indica el siguiente código. Que transformación realiza este código? Elimine las columnas que le parezca pertinente. "
   ]
  },
  {
   "cell_type": "code",
   "execution_count": null,
   "metadata": {},
   "outputs": [],
   "source": [
    "def to_num(date):\n",
    "    nums = list(date)\n",
    "    res = 0\n",
    "    for i in range(8):\n",
    "        res = res + int(nums[i])*(10**(7-i))\n",
    "    return res\n",
    "data['date'] = data.date.apply(to_num).rank()"
   ]
  },
  {
   "cell_type": "markdown",
   "metadata": {},
   "source": [
    "#### 2.b Preprocesamiento de los datos y visualización\n",
    "Escale los datos de la misma forma que en la pregunta 1. Realice _Scatter plots_ de algunas pares (atributo, precio) que ustedes crean sean más significativos. Comente.\n",
    "\n",
    "En este caso es recomendable estandarizar \"a mano\", pues mantener la estructura de DataFrame facilitará el ítem siguiente. En todo caso, puede elegir la opción que prefiera. \n",
    "\n",
    "Si la curiosidad, imaginación y tiempo le alcanza pruebe también realizando algunas transformaciones simples (logaritmica, cuadrática, _etc._)\n",
    "\n",
    "[//]: <> ( https://vignette.wikia.nocookie.net/inciclopedia/images/6/6a/Bob_esponja_caja_de_imaginacion.JPG/revision/latest?cb=20081122000821 )"
   ]
  },
  {
   "cell_type": "code",
   "execution_count": null,
   "metadata": {},
   "outputs": [],
   "source": [
    "# scaler\n",
    "\n",
    "plt.figure(figsize=(18,9))\n",
    "plt.scatter(data.sqft_above,data.price)\n",
    "# titles and stuff (:\n"
   ]
  },
  {
   "cell_type": "markdown",
   "metadata": {},
   "source": [
    "#### 2.c Selección de Atributos _by hand_\n",
    "En esta parte comensaremos entrenando un modelo sin ningun atributo y luego iremos agregando 1 a 1 el atributo que más mejora los resultados de la predicción. En cada paso validaremos qué atributo es el mejor utilizando 5-_fold_ como aprendió en la pregunta anterior. \n",
    "Para el modelo sin ningun atributo utilizaremos una predicción constante igual al promedio de los datos de entrenamiento. Luego, en cada iteración, evaluaremos cada uno de los atributos restantes, viendo cual reduce más el error. El error que utilizaremos para esta pregunta sera el MSE o _Mean Square Error_. Luego de elegido un atributo, lo agregamos a la lista de atributos a utilizar y continuamos iterando hasta agotar los atributos restantes. \n",
    "Guarde los errores promedio a medida va agregando atributos al modelo y guarde la lista de los atributos que fue agregando, luego grafíque el error promedio en función del numero de atributos seleccionado.\n",
    "Cual es el modelo que entrenga un menor error de validación (cual es su lista de atributos)?"
   ]
  },
  {
   "cell_type": "code",
   "execution_count": null,
   "metadata": {},
   "outputs": [],
   "source": [
    "# esta estructura de código es solo una guía y presupone que x_tr es un DataFrame\n",
    "restantes = list(x_tr.columns)\n",
    "actuales = []\n",
    "error_actual = ((y_tr-y_tr.mean())**2).mean()\n",
    "while restantes:\n",
    "    for atributo_candidato in restantes:\n",
    "        # crear nuevo modelo\n",
    "        # hacer 5- fold \n",
    "            model.fit(x_tr[actuales+[atributo_candidato]], y_tr)\n",
    "            #calcular MSE \n",
    "        # promediar MSE y guardar\n",
    "    # evaluar cual se queda y quitarlo de restantes\n",
    "    "
   ]
  },
  {
   "cell_type": "markdown",
   "metadata": {},
   "source": [
    "#### 2.d Validar\n",
    "Utilizando la lista de atributos que calculó en la pregunta anterior, realice un gráfico de como varía el error de entrenamiento (error sobre `x_tr`) y de validación (sobre `x_val`) a medida va agregando los atributos. Comente como sus hallazgos se relacionan con lo aprendido teóricamente. "
   ]
  },
  {
   "cell_type": "markdown",
   "metadata": {},
   "source": [
    "#### 2.e Mutual information\n",
    "Calcule la Información Mutual para nuestros datos. Note que esta función ya esta implementada.\n",
    "Que información puede obtener de estos resultados? Concuerdan los datos encontrados con lo encontrado en la pregunta anterior? "
   ]
  },
  {
   "cell_type": "code",
   "execution_count": null,
   "metadata": {},
   "outputs": [],
   "source": [
    "from sklearn.feature_selection import mutual_info_regression\n",
    "MI = list(zip(mutual_info_regression(x_tr, y_tr),x_tr.columns))"
   ]
  },
  {
   "cell_type": "markdown",
   "metadata": {},
   "source": [
    "#### 2.f Más variables\n",
    "Repita lo realizado en la pregunta 2.c (incluyendo gráficos) pero agregando la variable categorica `zipcode` utilizando nuevamente `pd.get_dummies`. Esta vez puede optar por no realizar _K-fold_ si no entrenar una sola vez cada modelo pues podría resultar demasiado demandante en tiempo utilizar _K-fold_, aunque siempre es valorado. \n",
    "Qué modelo se comporta mejor y por qué cree que sucede esto? "
   ]
  },
  {
   "cell_type": "markdown",
   "metadata": {},
   "source": [
    "<a id=\"tercero\"></a>\n",
    "## 3. Clasificación. \n",
    "\n",
    "Para esta última parte de la tarea, utilizaremos un conjunto de datos de mediciones al corazón en pacientes con o sin cierta condicion cardiaca. El _dataset_ puede descargarse desde https://www.kaggle.com/shayanfazeli/heartbeat#ptbdb_abnormal.csv, utilizaremos en particular los archivos `ptbdb_normal.csv` y `ptbdb_abnormal.csv`. Nuestro objetivo principal será predecir a partir de las mediciones si un paciente tiene o no tiene la condición. Sin embargo también exploraremos técnicas de reducción de dimensionalidad para tratar de preprocesar los datos, pues una rápida exploración de los datos nos muestra que tenemos 188 atributos. "
   ]
  },
  {
   "cell_type": "markdown",
   "metadata": {},
   "source": [
    "#### 3.a Carga de datos\n",
    "Cargue los datos, cree la columna `target` y junte ambos DataFrame en uno solo con método `append`. Por que es necesario pasar una lista de id al cargar los datos?\n",
    "\n",
    "Explore rápidamente los datos: estan muy desbalanceadas las clases? Que tan dispares son las magnitudes de las mediciones? Pareciera necesario estandarizar los datos antes de utilizarlos? \n",
    "\n",
    "Separe los datos utilizando `train_test_split`. Qué habria ocurrido por la forma en que se cargaron los datos si utilizamos la opción `shuffle = False`? "
   ]
  },
  {
   "cell_type": "code",
   "execution_count": null,
   "metadata": {},
   "outputs": [],
   "source": [
    "data_normal = pd.read_csv(\"heartbeat/ptbdb_normal.csv\",names=[i for i in range(188)])\n",
    "# . . \n",
    "data_normal['target'] = 0 \n",
    "# . . \n"
   ]
  },
  {
   "cell_type": "markdown",
   "metadata": {},
   "source": [
    "#### 3.b Correlación\n",
    "Calcule la matriz de correlación, note que esto esta implementado en pandas. Representela de alguna forma que le parezca adecuada, por ejemplo como un _heatmap_. \n",
    "Qué observa, comente.  Elimine las columnas que muestra el código. "
   ]
  },
  {
   "cell_type": "code",
   "execution_count": null,
   "metadata": {},
   "outputs": [],
   "source": [
    "data = data.drop(columns=[184,185,186,187])"
   ]
  },
  {
   "cell_type": "markdown",
   "metadata": {},
   "source": [
    "#### 3.c Regresión Logistica\n",
    "Realice una primera regresión logística con los datos. Que valor entrega el metodo `score`?\n",
    "\n",
    "Calcule la matriz de confusión y comente respecto al valor dado por el `score`. Comente sobre la distinta información entregrada por la matriz de confusión y su interpretación. "
   ]
  },
  {
   "cell_type": "code",
   "execution_count": null,
   "metadata": {},
   "outputs": [],
   "source": [
    "reg = LogisticRegression()\n",
    "# . . \n",
    "\n",
    "from sklearn import model_selection\n",
    "\n",
    "confusion_matrix = model_selection.confusion_matrix(real_labels, predicted_labels)\n"
   ]
  },
  {
   "cell_type": "markdown",
   "metadata": {},
   "source": [
    "#### 3.d Otra métrica. \n",
    "Otra forma de comparar modelos podría ser con la siguiente métrica. Esta mide la cantidad de aciertos pero toma en cuenta algo más. Que interpretación podría darle a la métrica en el código? \n",
    "\n",
    "Si un modelo entrega 0.5 y otro 0.4 en esta métrica, cual es mejor? "
   ]
  },
  {
   "cell_type": "code",
   "execution_count": null,
   "metadata": {},
   "outputs": [],
   "source": [
    "np.mean((np.max(reg.predict_proba(x_val),axis=1)*(reg.predict(x_val)-y_val))**2)"
   ]
  },
  {
   "cell_type": "markdown",
   "metadata": {},
   "source": [
    "#### 3.e PCA y LDA\n",
    "Transforme los datos mediante PCA a 2 dimensiones y grafique un subsampleo de alrededor de 50 - 100 datos con 50% de cada clase. Coloree cada punto correspondiente a la clase a la que pertenece. \n",
    "\n",
    "Realice el mismo analisis para LDA, considerando el mismo conjunto de puntos. Cual de ambos métodos le parece más apropiado?\n",
    "\n",
    "Grafíque el centro de gravedad (promedio en cada cordenada) de cada una de las clases luego de la reducción de dimensionalidad. "
   ]
  },
  {
   "cell_type": "code",
   "execution_count": null,
   "metadata": {},
   "outputs": [],
   "source": [
    "from sklearn import \n",
    "pca = decomposition.PCA(n_components=2)\n",
    "X_class1_pca = pca.fit_transform(X_class_1,y_class_1)\n",
    "# . . . \n",
    "\n",
    "from sklearn import discriminant_analysis \n",
    "lda = discriminant_analysis.LinearDiscriminantAnalysis(n_components=2)\n",
    "# . . .   . . .   . . . "
   ]
  },
  {
   "cell_type": "markdown",
   "metadata": {},
   "source": [
    "#### 3.f Más reducción de dimensionalidad\n",
    "Entrene un modelo de regresión logística para el método que le pareció más apropiado de la pregunta aterior, haciendo variar el numero de componentes de 2 a 120. Calcule para cada modelo alguna métrica de la calidad del modelo tanto sobre el conjunto de entrenamiento como sobre el conjunto de validación. \n",
    "\n",
    "Grafíque como varían ambos errores en función de la dimensionalidad sobre la que se trabaja. \n",
    "\n",
    "Si le sobra *tiempo* y _c r e a t i v i d a d_  proponga cambios o extienda la exploración buscando mejorar el desempeño o comprender mejor el problema (solo para puntaje extra).\n",
    "\n",
    "[//]: <> (  https://meme.xyz/uploads/posts/t/l-27712-i-procrastinate-to-the-last-minute-den-i-freaked-it.jpg )"
   ]
  },
  {
   "cell_type": "markdown",
   "metadata": {},
   "source": [
    "#### 3.g Naive Bayes\n",
    "\"Entrene\" un modelo utilizando Naive Bayes y comparelo con el modelo logístico que entrenó anteriormente. Le parece adecuado el nombre _Naive_?"
   ]
  },
  {
   "cell_type": "code",
   "execution_count": null,
   "metadata": {},
   "outputs": [],
   "source": [
    "from sklearn import naive_bayes as sknb\n",
    "NB = sknb.BernoulliNB()"
   ]
  },
  {
   "cell_type": "code",
   "execution_count": null,
   "metadata": {},
   "outputs": [],
   "source": []
  }
 ],
 "metadata": {
  "kernelspec": {
   "display_name": "Python 3",
   "language": "python",
   "name": "python3"
  },
  "language_info": {
   "codemirror_mode": {
    "name": "ipython",
    "version": 3
   },
   "file_extension": ".py",
   "mimetype": "text/x-python",
   "name": "python",
   "nbconvert_exporter": "python",
   "pygments_lexer": "ipython3",
   "version": "3.7.3"
  }
 },
 "nbformat": 4,
 "nbformat_minor": 2
}
